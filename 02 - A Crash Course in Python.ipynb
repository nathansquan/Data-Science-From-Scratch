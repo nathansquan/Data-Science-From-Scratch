{
 "cells": [
  {
   "cell_type": "markdown",
   "id": "28105946",
   "metadata": {},
   "source": [
    "# Data Science From Scratch Notes\n",
    "## Chapter 2: A Crash Course in Python\n",
    "\n",
    "## Functions\n",
    "\n",
    "Define functions using `def:`"
   ]
  },
  {
   "cell_type": "code",
   "execution_count": 1,
   "id": "c4f79cfb",
   "metadata": {},
   "outputs": [],
   "source": [
    "def double(x):\n",
    "    \"\"\"\n",
    "    Place optional docstring that explains what the functioin does. \n",
    "    For example, this function multiplies its input by 2\n",
    "    \"\"\"\n",
    "    return x * 2\n"
   ]
  },
  {
   "cell_type": "code",
   "execution_count": 2,
   "id": "4cf279b7",
   "metadata": {},
   "outputs": [
    {
     "data": {
      "text/plain": [
       "4"
      ]
     },
     "execution_count": 2,
     "metadata": {},
     "output_type": "execute_result"
    }
   ],
   "source": [
    "double(2)"
   ]
  },
  {
   "cell_type": "markdown",
   "id": "9f33c014",
   "metadata": {},
   "source": [
    "Python functions are *first class*: Functions can be assigned to variables and passed into functions"
   ]
  },
  {
   "cell_type": "code",
   "execution_count": 3,
   "id": "05d36694",
   "metadata": {},
   "outputs": [],
   "source": [
    "def apply_to_one(f):\n",
    "    \"\"\"Calls the function f with 1 as its argument\"\"\"\n",
    "    return f(1)\n",
    "\n",
    "my_double = double # refers to the previously defined function\n",
    "x = apply_to_one(my_double)"
   ]
  },
  {
   "cell_type": "code",
   "execution_count": 4,
   "id": "16769a66",
   "metadata": {},
   "outputs": [
    {
     "data": {
      "text/plain": [
       "2"
      ]
     },
     "execution_count": 4,
     "metadata": {},
     "output_type": "execute_result"
    }
   ],
   "source": [
    "x"
   ]
  },
  {
   "cell_type": "markdown",
   "id": "a32b1fe7",
   "metadata": {},
   "source": [
    "*Lambda Functions*: Short anonymous functions.\n",
    "\n",
    "The code below asks the lambda function to use 1 as its argument for x"
   ]
  },
  {
   "cell_type": "code",
   "execution_count": 5,
   "id": "aa53e6c8",
   "metadata": {},
   "outputs": [
    {
     "data": {
      "text/plain": [
       "5"
      ]
     },
     "execution_count": 5,
     "metadata": {},
     "output_type": "execute_result"
    }
   ],
   "source": [
    "y = apply_to_one(lambda x: x + 4) # equals 5\n",
    "y"
   ]
  },
  {
   "cell_type": "markdown",
   "id": "02e21dec",
   "metadata": {},
   "source": [
    "Function parameters can be given default arguments."
   ]
  },
  {
   "cell_type": "code",
   "execution_count": 6,
   "id": "bf788b3a",
   "metadata": {},
   "outputs": [
    {
     "name": "stdout",
     "output_type": "stream",
     "text": [
      "hello\n",
      "my default message\n"
     ]
    }
   ],
   "source": [
    "def my_print(message = \"my default message\"):\n",
    "    print(message)\n",
    "    \n",
    "my_print(\"hello\") # prints 'hello'\n",
    "my_print() # prints 'my default message'"
   ]
  },
  {
   "cell_type": "markdown",
   "id": "5e36ed1f",
   "metadata": {},
   "source": [
    "You can specify arguments by name as well."
   ]
  },
  {
   "cell_type": "code",
   "execution_count": 7,
   "id": "3ac2f1ae",
   "metadata": {},
   "outputs": [
    {
     "data": {
      "text/plain": [
       "\"What's-his-name Grus\""
      ]
     },
     "execution_count": 7,
     "metadata": {},
     "output_type": "execute_result"
    }
   ],
   "source": [
    "def full_name(first = \"What's-his-name\", last = \"Something\"):\n",
    "    return first + \" \" + last\n",
    "\n",
    "full_name(\"Joel\", \"Grus\") # \"Joel Grus\"\n",
    "full_name(\"Joel\") # \"Joel Something\"\n",
    "full_name(last = \"Grus\") # \"What's-his-name Grus\""
   ]
  },
  {
   "cell_type": "markdown",
   "id": "219457e8",
   "metadata": {},
   "source": [
    "## Strings\n",
    "\n",
    "* Strings can be delimited by single or double quotation marks\n",
    "\n",
    "* Backslashes are used to encode special characters"
   ]
  },
  {
   "cell_type": "code",
   "execution_count": 8,
   "id": "c29a83c1",
   "metadata": {},
   "outputs": [
    {
     "data": {
      "text/plain": [
       "'\\t'"
      ]
     },
     "execution_count": 8,
     "metadata": {},
     "output_type": "execute_result"
    }
   ],
   "source": [
    "tab_string = \"\\t\"\n",
    "tab_string\n"
   ]
  },
  {
   "cell_type": "markdown",
   "id": "661962c5",
   "metadata": {},
   "source": [
    "* to actually write backslashes, use raw strings by `r\"\"`"
   ]
  },
  {
   "cell_type": "code",
   "execution_count": 9,
   "id": "4769e538",
   "metadata": {},
   "outputs": [
    {
     "data": {
      "text/plain": [
       "'\\\\t'"
      ]
     },
     "execution_count": 9,
     "metadata": {},
     "output_type": "execute_result"
    }
   ],
   "source": [
    "not_tab_string = r\"\\t\"\n",
    "not_tab_string"
   ]
  },
  {
   "cell_type": "markdown",
   "id": "33a09dc1",
   "metadata": {},
   "source": [
    "* Create multiline strings using three double quotes"
   ]
  },
  {
   "cell_type": "code",
   "execution_count": 10,
   "id": "a45fb795",
   "metadata": {},
   "outputs": [
    {
     "data": {
      "text/plain": [
       "'This is the first line.\\nand this is the second line\\nand this is the third line'"
      ]
     },
     "execution_count": 10,
     "metadata": {},
     "output_type": "execute_result"
    }
   ],
   "source": [
    "multi_line_string = \"\"\"This is the first line.\n",
    "and this is the second line\n",
    "and this is the third line\"\"\"\n",
    "\n",
    "multi_line_string"
   ]
  },
  {
   "cell_type": "markdown",
   "id": "b48e1b18",
   "metadata": {},
   "source": [
    "* *f-string*: substitute values into strings"
   ]
  },
  {
   "cell_type": "code",
   "execution_count": 11,
   "id": "0fb4b755",
   "metadata": {},
   "outputs": [
    {
     "name": "stdout",
     "output_type": "stream",
     "text": [
      "Joel Grus\n",
      "Joel Grus\n",
      "Joel Grus\n"
     ]
    }
   ],
   "source": [
    "first_name = \"Joel\"\n",
    "last_name = \"Grus\"\n",
    "\n",
    "full_name1 = first_name + \" \" + last_name # string addition\n",
    "full_name2 = \"{0} {1}\".format(first_name, last_name) # string.format\n",
    "full_name3 = f\"{first_name} {last_name}\" # f-string method\n",
    "\n",
    "print(full_name1)\n",
    "print(full_name2)\n",
    "print(full_name3)"
   ]
  },
  {
   "cell_type": "markdown",
   "id": "5d678061",
   "metadata": {},
   "source": [
    "## Exceptions\n",
    "\n",
    "*Exceptions* are when something goes wrong. Exceptions will cause the program to crash. Handle them using `try` and `except`:"
   ]
  },
  {
   "cell_type": "code",
   "execution_count": 12,
   "id": "f2cff345",
   "metadata": {},
   "outputs": [
    {
     "name": "stdout",
     "output_type": "stream",
     "text": [
      "cannot divide by zero\n"
     ]
    }
   ],
   "source": [
    "try:\n",
    "    print(0/0)\n",
    "except ZeroDivisionError:\n",
    "    print(\"cannot divide by zero\")"
   ]
  },
  {
   "cell_type": "markdown",
   "id": "a4733bd9",
   "metadata": {},
   "source": [
    "## Lists\n",
    "\n",
    "The fundamental data structure in Python is the *list*.\n",
    "\n",
    "*List*: an ordered collection of just about any data structure. Similar to R's lists where they can be nested as well.\n",
    "\n",
    "Lists are 0-indexed."
   ]
  },
  {
   "cell_type": "code",
   "execution_count": 13,
   "id": "b8176890",
   "metadata": {},
   "outputs": [],
   "source": [
    "integer_list = [1, 2, 3]\n",
    "heterogeneous_list = [\"string\", 0.1, True]\n",
    "list_of_lists = [integer_list, heterogeneous_list, []] # [] denotes an empty list\n",
    "\n",
    "list_length = len(integer_list) # equals 3\n",
    "list_sum = sum(integer_list) # equals 6"
   ]
  },
  {
   "cell_type": "markdown",
   "id": "5df1c49f",
   "metadata": {},
   "source": [
    "Use square brackets to get or set the *n*th element of a list:"
   ]
  },
  {
   "cell_type": "code",
   "execution_count": 14,
   "id": "f5aa16cc",
   "metadata": {},
   "outputs": [
    {
     "name": "stdout",
     "output_type": "stream",
     "text": [
      "0\n",
      "1\n",
      "9\n",
      "8\n",
      "[-1, 1, 2, 3, 4, 5, 6, 7, 8, 9]\n"
     ]
    }
   ],
   "source": [
    "x = [0, 1, 2, 3, 4, 5, 6, 7, 8, 9]\n",
    "\n",
    "zero = x[0] # equals 0\n",
    "print(zero)\n",
    "one = x[1] # equals 1\n",
    "print(one)\n",
    "nine = x[-1] # equals 9, 'Pythonic' for last element\n",
    "print(nine)\n",
    "eight = x[-2] # equals 8, 'Pythonic' for next-to-last element\n",
    "print(eight)\n",
    "x[0] = -1 # now x is [-1, 1, 2, 3, ..., 9]\n",
    "print(x)"
   ]
  },
  {
   "cell_type": "markdown",
   "id": "cc5e17f1",
   "metadata": {},
   "source": [
    "* Square brackets also allow us to *slice* lists\n",
    "* slice *i:j* means all elements from *i* (inclusive) to *j* (not inclusive)"
   ]
  },
  {
   "cell_type": "code",
   "execution_count": 15,
   "id": "29667624",
   "metadata": {},
   "outputs": [
    {
     "name": "stdout",
     "output_type": "stream",
     "text": [
      "[-1, 1, 2]\n",
      "[3, 4, 5, 6, 7, 8, 9]\n",
      "[1, 2, 3, 4]\n",
      "[7, 8, 9]\n",
      "[1, 2, 3, 4, 5, 6, 7, 8]\n",
      "[-1, 1, 2, 3, 4, 5, 6, 7, 8, 9]\n"
     ]
    }
   ],
   "source": [
    "first_three = x[:3] # [-1, 1, 2]\n",
    "print(first_three)\n",
    "\n",
    "three_to_end = x[3:] # [3, 4, ..., 9]\n",
    "print(three_to_end)\n",
    "\n",
    "one_to_four = x[1:5] # [1, 2, 3, 4]\n",
    "print(one_to_four)\n",
    "\n",
    "last_three = x[-3:] # [7, 8, 9]\n",
    "print(last_three)\n",
    "\n",
    "without_first_and_last = x[1:-1] # [1, 2, 3, ..., 8]\n",
    "print(without_first_and_last)\n",
    "\n",
    "copy_of_x = x[:] # [-1, 1, 2, ...,9]\n",
    "print(copy_of_x)"
   ]
  },
  {
   "cell_type": "markdown",
   "id": "807f2746",
   "metadata": {},
   "source": [
    "* You can also slice strings and other \"sequential\" types\n",
    "\n",
    "* A slice can take a third argument to indicate its *stride*, which can also be negative\n",
    "    * Implicitly, the stride argument defaults to 1"
   ]
  },
  {
   "cell_type": "code",
   "execution_count": 16,
   "id": "420a4a63",
   "metadata": {},
   "outputs": [
    {
     "name": "stdout",
     "output_type": "stream",
     "text": [
      "[-1, 3, 6, 9]\n",
      "[5, 4, 3]\n"
     ]
    }
   ],
   "source": [
    "every_third = x[::3]\n",
    "print(every_third)\n",
    "\n",
    "five_to_three = x[5:2:-1]\n",
    "print(five_to_three)"
   ]
  },
  {
   "cell_type": "markdown",
   "id": "dd41c8ad",
   "metadata": {},
   "source": [
    "The *in* operator checks for list membership:"
   ]
  },
  {
   "cell_type": "code",
   "execution_count": 17,
   "id": "458a25e1",
   "metadata": {},
   "outputs": [
    {
     "data": {
      "text/plain": [
       "True"
      ]
     },
     "execution_count": 17,
     "metadata": {},
     "output_type": "execute_result"
    }
   ],
   "source": [
    "1 in [1,2,3] # True"
   ]
  },
  {
   "cell_type": "code",
   "execution_count": 18,
   "id": "0dd2a178",
   "metadata": {},
   "outputs": [
    {
     "data": {
      "text/plain": [
       "False"
      ]
     },
     "execution_count": 18,
     "metadata": {},
     "output_type": "execute_result"
    }
   ],
   "source": [
    "0 in [1,2,3] # False"
   ]
  },
  {
   "cell_type": "markdown",
   "id": "3ea036bd",
   "metadata": {},
   "source": [
    "* There are three ways to concatenate lists together\n",
    "    1. Use `extend` to modify a list in place\n",
    "    2. Use list addition if you don't want to modify the list\n",
    "    3. Use `append` to to append to lists one item at a time"
   ]
  },
  {
   "cell_type": "code",
   "execution_count": 19,
   "id": "7b5fd847",
   "metadata": {},
   "outputs": [
    {
     "data": {
      "text/plain": [
       "[1, 2, 3, 4, 5, 6]"
      ]
     },
     "execution_count": 19,
     "metadata": {},
     "output_type": "execute_result"
    }
   ],
   "source": [
    "x = [1,2,3]\n",
    "x.extend([4,5,6])\n",
    "x"
   ]
  },
  {
   "cell_type": "code",
   "execution_count": 20,
   "id": "45c78824",
   "metadata": {},
   "outputs": [
    {
     "data": {
      "text/plain": [
       "[1, 2, 3, 4, 5, 6]"
      ]
     },
     "execution_count": 20,
     "metadata": {},
     "output_type": "execute_result"
    }
   ],
   "source": [
    "x = [1,2,3]\n",
    "y = x + [4,5,6]\n",
    "y"
   ]
  },
  {
   "cell_type": "code",
   "execution_count": 21,
   "id": "668b4375",
   "metadata": {},
   "outputs": [
    {
     "name": "stdout",
     "output_type": "stream",
     "text": [
      "[1, 2, 3, 0]\n",
      "0\n",
      "4\n"
     ]
    }
   ],
   "source": [
    "x = [1,2,3]\n",
    "x.append(0)\n",
    "y = x[-1]\n",
    "z = len(x)\n",
    "print(x)\n",
    "print(y)\n",
    "print(z)"
   ]
  },
  {
   "cell_type": "markdown",
   "id": "e322457c",
   "metadata": {},
   "source": [
    "If you know how many elements a list contains, you can *unpack* the list:"
   ]
  },
  {
   "cell_type": "code",
   "execution_count": 22,
   "id": "4e7d986e",
   "metadata": {},
   "outputs": [
    {
     "name": "stdout",
     "output_type": "stream",
     "text": [
      "1\n",
      "2\n"
     ]
    }
   ],
   "source": [
    "x, y = [1, 2] # now x is 1, y is 2\n",
    "print(x)\n",
    "print(y)"
   ]
  },
  {
   "cell_type": "markdown",
   "id": "b23e93d5",
   "metadata": {},
   "source": [
    "Use an underscore for a value if you're going to throw away:"
   ]
  },
  {
   "cell_type": "code",
   "execution_count": 23,
   "id": "e8110daa",
   "metadata": {},
   "outputs": [
    {
     "data": {
      "text/plain": [
       "2"
      ]
     },
     "execution_count": 23,
     "metadata": {},
     "output_type": "execute_result"
    }
   ],
   "source": [
    "_, y = [1, 2] # now y == 2, didn't care about the first element\n",
    "y"
   ]
  },
  {
   "cell_type": "markdown",
   "id": "29b68843",
   "metadata": {},
   "source": [
    "## Tuples\n",
    "\n",
    "*Tuples*: lists' immutable cousin. Everything you can do to a list except modifying it can be done to a tuple. Tuples are specified using parentheses (or nothing) instead of square brackets:"
   ]
  },
  {
   "cell_type": "code",
   "execution_count": 24,
   "id": "8ccc3bfb",
   "metadata": {},
   "outputs": [
    {
     "name": "stdout",
     "output_type": "stream",
     "text": [
      "cannot modify a tuple\n"
     ]
    }
   ],
   "source": [
    "my_list = [1, 2]\n",
    "my_tuple = (1, 2)\n",
    "other_tuple = 3, 4\n",
    "\n",
    "my_list[1] = 3 # my_list is now[1, 3]\n",
    "\n",
    "try:\n",
    "    my_tuple[1] = 3\n",
    "except TypeError:\n",
    "    print(\"cannot modify a tuple\")"
   ]
  },
  {
   "cell_type": "markdown",
   "id": "61b98b60",
   "metadata": {},
   "source": [
    "Tuples are a convenient way to return multiple values from functions:"
   ]
  },
  {
   "cell_type": "code",
   "execution_count": 25,
   "id": "8198f520",
   "metadata": {},
   "outputs": [
    {
     "name": "stdout",
     "output_type": "stream",
     "text": [
      "(5, 6)\n",
      "15\n",
      "50\n"
     ]
    }
   ],
   "source": [
    "def sum_and_product(x, y):\n",
    "    return (x + y), (x * y)\n",
    "\n",
    "sp = sum_and_product(2, 3) # sp is (5, 6)\n",
    "print(sp)\n",
    "\n",
    "s, p = sum_and_product(5, 10) # s is 15 and p is 50\n",
    "print(s)\n",
    "print(p)"
   ]
  },
  {
   "cell_type": "markdown",
   "id": "7f7ac3cc",
   "metadata": {},
   "source": [
    "## Dictionaries\n",
    "\n",
    "Dictionaries associate *values* with *keys* and allow us to quickly retrieve the value corresponding to a given key:"
   ]
  },
  {
   "cell_type": "code",
   "execution_count": 26,
   "id": "54563265",
   "metadata": {},
   "outputs": [
    {
     "data": {
      "text/plain": [
       "{'Joel': 80, 'Tim': 95}"
      ]
     },
     "execution_count": 26,
     "metadata": {},
     "output_type": "execute_result"
    }
   ],
   "source": [
    "empty_dict = {} # Pythonic\n",
    "empty_dict2 = dict() # less Pythonic\n",
    "grades = {\"Joel\": 80, \"Tim\": 95} # dictionary literal\n",
    "grades"
   ]
  },
  {
   "cell_type": "markdown",
   "id": "a2aba874",
   "metadata": {},
   "source": [
    "Values for a key in a dictionary are looked up using square brackets:"
   ]
  },
  {
   "cell_type": "code",
   "execution_count": 27,
   "id": "6e470441",
   "metadata": {},
   "outputs": [
    {
     "data": {
      "text/plain": [
       "80"
      ]
     },
     "execution_count": 27,
     "metadata": {},
     "output_type": "execute_result"
    }
   ],
   "source": [
    "joels_grade = grades[\"Joel\"] # equals 80\n",
    "joels_grade"
   ]
  },
  {
   "cell_type": "markdown",
   "id": "c0fef772",
   "metadata": {},
   "source": [
    "We will get a `KeyError` if we ask for a key that's not in the dictionary:"
   ]
  },
  {
   "cell_type": "code",
   "execution_count": 28,
   "id": "6f82ba97",
   "metadata": {},
   "outputs": [
    {
     "name": "stdout",
     "output_type": "stream",
     "text": [
      "no grade for Kate!\n"
     ]
    }
   ],
   "source": [
    "try:\n",
    "    kates_grade = grades[\"Kate\"]\n",
    "except KeyError:\n",
    "    print(\"no grade for Kate!\")"
   ]
  },
  {
   "cell_type": "markdown",
   "id": "450a5662",
   "metadata": {},
   "source": [
    "Check for the existence of a key using `in`:"
   ]
  },
  {
   "cell_type": "code",
   "execution_count": 29,
   "id": "0c575267",
   "metadata": {},
   "outputs": [
    {
     "data": {
      "text/plain": [
       "True"
      ]
     },
     "execution_count": 29,
     "metadata": {},
     "output_type": "execute_result"
    }
   ],
   "source": [
    "joel_has_grade = \"Joel\" in grades # True\n",
    "joel_has_grade"
   ]
  },
  {
   "cell_type": "code",
   "execution_count": 30,
   "id": "8130751e",
   "metadata": {},
   "outputs": [
    {
     "data": {
      "text/plain": [
       "False"
      ]
     },
     "execution_count": 30,
     "metadata": {},
     "output_type": "execute_result"
    }
   ],
   "source": [
    "kate_has_grade = \"Kate\" in grades # False\n",
    "kate_has_grade"
   ]
  },
  {
   "cell_type": "markdown",
   "id": "d28d9330",
   "metadata": {},
   "source": [
    "Dictionaries have a `get` method that returns a default value (instead of raising an exception) when looking up a key that's not in the dicitonary:"
   ]
  },
  {
   "cell_type": "code",
   "execution_count": 31,
   "id": "1f2f7b21",
   "metadata": {},
   "outputs": [
    {
     "name": "stdout",
     "output_type": "stream",
     "text": [
      "80\n",
      "0\n",
      "None\n"
     ]
    }
   ],
   "source": [
    "joels_grade = grades.get(\"Joel\", 0) # second argument is what you can set as the default value\n",
    "print(joels_grade)\n",
    "\n",
    "kates_grade = grades.get(\"Kate\", 0) # Equals 0\n",
    "print(kates_grade)\n",
    "\n",
    "no_ones_grade = grades.get(\"No One\") # if second argument is not supplied, the default is None\n",
    "print(no_ones_grade)"
   ]
  },
  {
   "cell_type": "markdown",
   "id": "8dfb9700",
   "metadata": {},
   "source": [
    "Key/value pairs can be assigned using square brackets:"
   ]
  },
  {
   "cell_type": "code",
   "execution_count": 32,
   "id": "b927a313",
   "metadata": {},
   "outputs": [
    {
     "name": "stdout",
     "output_type": "stream",
     "text": [
      "{'Joel': 80, 'Tim': 99}\n",
      "{'Joel': 80, 'Tim': 99, 'Kate': 100}\n",
      "3\n"
     ]
    }
   ],
   "source": [
    "grades[\"Tim\"] = 99 # replaces the old value\n",
    "print(grades)\n",
    "\n",
    "grades[\"Kate\"] = 100 # adds a third entry\n",
    "print(grades)\n",
    "\n",
    "num_students = len(grades) # equals 3\n",
    "print(num_students)"
   ]
  },
  {
   "cell_type": "markdown",
   "id": "8d8cad89",
   "metadata": {},
   "source": [
    "Dictionaries can be used to represent structured data:"
   ]
  },
  {
   "cell_type": "code",
   "execution_count": 33,
   "id": "5ecf024d",
   "metadata": {},
   "outputs": [
    {
     "data": {
      "text/plain": [
       "{'user': 'joelgrus',\n",
       " 'text': 'Data Science is Awesome',\n",
       " 'retweet_count': 100,\n",
       " 'hashtags': ['#data', '#science', 'datascience', 'awesome', 'yolo']}"
      ]
     },
     "execution_count": 33,
     "metadata": {},
     "output_type": "execute_result"
    }
   ],
   "source": [
    "tweet = {\n",
    "    \"user\" : \"joelgrus\",\n",
    "    \"text\" : \"Data Science is Awesome\",\n",
    "    \"retweet_count\" : 100,\n",
    "    \"hashtags\" : [\"#data\", \"#science\", \"datascience\", \"awesome\", \"yolo\"]\n",
    "}\n",
    "\n",
    "tweet"
   ]
  },
  {
   "cell_type": "markdown",
   "id": "44f8825e",
   "metadata": {},
   "source": [
    " In addition to looking for specific keys, we can also look at all of the keys:"
   ]
  },
  {
   "cell_type": "code",
   "execution_count": 34,
   "id": "42812831",
   "metadata": {},
   "outputs": [
    {
     "name": "stdout",
     "output_type": "stream",
     "text": [
      "dict_keys(['user', 'text', 'retweet_count', 'hashtags'])\n",
      "dict_values(['joelgrus', 'Data Science is Awesome', 100, ['#data', '#science', 'datascience', 'awesome', 'yolo']])\n",
      "<built-in method items of dict object at 0x1056b6200>\n"
     ]
    }
   ],
   "source": [
    "tweet_keys = tweet.keys() # iterable for the keys\n",
    "print(tweet_keys)\n",
    "\n",
    "tweet_values = tweet.values() # iterable for the values\n",
    "print(tweet_values)\n",
    "\n",
    "tweet_items = tweet.items() # iterable for the (key, value) tuples\n",
    "print(tweet.items)\n",
    "\n"
   ]
  },
  {
   "cell_type": "code",
   "execution_count": 35,
   "id": "108dfbd2",
   "metadata": {},
   "outputs": [
    {
     "data": {
      "text/plain": [
       "True"
      ]
     },
     "execution_count": 35,
     "metadata": {},
     "output_type": "execute_result"
    }
   ],
   "source": [
    "\"user\" in tweet_keys # Check for existence of \"user\". True, but not Pythonic\n"
   ]
  },
  {
   "cell_type": "code",
   "execution_count": 36,
   "id": "4db116fd",
   "metadata": {},
   "outputs": [
    {
     "data": {
      "text/plain": [
       "True"
      ]
     },
     "execution_count": 36,
     "metadata": {},
     "output_type": "execute_result"
    }
   ],
   "source": [
    "\"user\" in tweet # Pythonic way of checking for keys"
   ]
  },
  {
   "cell_type": "code",
   "execution_count": 37,
   "id": "603005c6",
   "metadata": {},
   "outputs": [
    {
     "data": {
      "text/plain": [
       "True"
      ]
     },
     "execution_count": 37,
     "metadata": {},
     "output_type": "execute_result"
    }
   ],
   "source": [
    "\"joelgrus\" in tweet_values # True (slow but only way to check values)"
   ]
  },
  {
   "cell_type": "markdown",
   "id": "6811ef7c",
   "metadata": {},
   "source": [
    "We cannot use lists as keys (keys must be \"hashable\"). If we need a multipart key, use a tuple or turn the key into a string."
   ]
  },
  {
   "cell_type": "markdown",
   "id": "d3c5425d",
   "metadata": {},
   "source": [
    "### defaultdict\n",
    "\n",
    "`defaultdict`: When you try to look up a key it doesn't contain, it firsts adds a value for it using a zero-argument function you provided. Use `defaultdicts` by importing them from `collections`:"
   ]
  },
  {
   "cell_type": "code",
   "execution_count": 38,
   "id": "febe310d",
   "metadata": {},
   "outputs": [],
   "source": [
    "from collections import defaultdict\n",
    "\n",
    "# word_counts = defaultdict(int) # int() produces 0\n",
    "# for word in document:\n",
    "#     word_counts[word] += 1"
   ]
  },
  {
   "cell_type": "markdown",
   "id": "e45c2c0c",
   "metadata": {},
   "source": [
    "`defaultdicts` can also be used with `list`, `dict`, and lambda functions"
   ]
  },
  {
   "cell_type": "code",
   "execution_count": 39,
   "id": "9dcf6fa7",
   "metadata": {},
   "outputs": [
    {
     "name": "stdout",
     "output_type": "stream",
     "text": [
      "defaultdict(<class 'list'>, {})\n",
      "defaultdict(<class 'list'>, {2: [1]})\n"
     ]
    }
   ],
   "source": [
    "dd_list = defaultdict(list) # list() produces an empty list\n",
    "print(dd_list)\n",
    "dd_list[2].append(1) # now dd_list contains {2: [1]}\n",
    "print(dd_list)"
   ]
  },
  {
   "cell_type": "code",
   "execution_count": 40,
   "id": "3ec353b2",
   "metadata": {},
   "outputs": [
    {
     "name": "stdout",
     "output_type": "stream",
     "text": [
      "defaultdict(<class 'dict'>, {})\n",
      "defaultdict(<class 'dict'>, {'Joel': {'City': 'Seattle'}})\n"
     ]
    }
   ],
   "source": [
    "dd_dict = defaultdict(dict) # dict() produces an empty dict\n",
    "print(dd_dict)\n",
    "dd_dict[\"Joel\"][\"City\"] = \"Seattle\" # {\"Joel\" : {\"City\": \"Seattle\"}}\n",
    "print(dd_dict)"
   ]
  },
  {
   "cell_type": "code",
   "execution_count": 41,
   "id": "2adacdcc",
   "metadata": {},
   "outputs": [
    {
     "name": "stdout",
     "output_type": "stream",
     "text": [
      "defaultdict(<function <lambda> at 0x1056fa9d0>, {})\n",
      "defaultdict(<function <lambda> at 0x1056fa9d0>, {2: [0, 2]})\n"
     ]
    }
   ],
   "source": [
    "dd_pair = defaultdict(lambda: [0, 0])\n",
    "print(dd_pair)\n",
    "dd_pair[2][1] = 2\n",
    "print(dd_pair)"
   ]
  },
  {
   "cell_type": "markdown",
   "id": "766697c3",
   "metadata": {},
   "source": [
    "## Counters\n",
    "\n",
    "A `Counter` converts a sequence of values into a `defaultdict(int)`-like object mapping keys to counts:"
   ]
  },
  {
   "cell_type": "code",
   "execution_count": 42,
   "id": "dd6631a7",
   "metadata": {},
   "outputs": [
    {
     "name": "stdout",
     "output_type": "stream",
     "text": [
      "Counter({0: 2, 1: 1, 2: 1})\n"
     ]
    }
   ],
   "source": [
    "from collections import Counter\n",
    "c = Counter([0, 1, 2, 0]) # c is {0: 2, 1: 1, 2: 1}\n",
    "print(c)"
   ]
  },
  {
   "cell_type": "markdown",
   "id": "7ec6bf38",
   "metadata": {},
   "source": [
    "We can also use the `most_common` method from a `Counter` instance:"
   ]
  },
  {
   "cell_type": "code",
   "execution_count": 43,
   "id": "99bc0378",
   "metadata": {},
   "outputs": [
    {
     "name": "stdout",
     "output_type": "stream",
     "text": [
      "Counter({1: 5, 0: 3, 2: 2})\n",
      "1 5\n",
      "0 3\n"
     ]
    }
   ],
   "source": [
    "# print the 2 most common numbers and their counts in c\n",
    "c = Counter([0, 1, 2, 0, 0, 1, 1, 1, 1, 2])\n",
    "print(c)\n",
    "\n",
    "for num, count in c.most_common(2):\n",
    "    print(num, count)"
   ]
  },
  {
   "cell_type": "markdown",
   "id": "13bdbabc",
   "metadata": {},
   "source": [
    "## Sets\n",
    "\n"
   ]
  },
  {
   "cell_type": "markdown",
   "id": "9678647b",
   "metadata": {},
   "source": [
    "A set is another Python data structure. It represents a collection of *distinct* elements. Define a set by listing its elements between curly braces:"
   ]
  },
  {
   "cell_type": "code",
   "execution_count": 44,
   "id": "5b18a0fb",
   "metadata": {},
   "outputs": [],
   "source": [
    "primes_below_10 = {2, 3, 5, 7}"
   ]
  },
  {
   "cell_type": "markdown",
   "id": "ff2fd40a",
   "metadata": {},
   "source": [
    "Keep in mind that you can't use `{}` to denote an empty set. Recall in the **Dictionaries** section that assigning `{}` to a variable denotes an `empty dict`. In order to create an empty set, we use `set()`:"
   ]
  },
  {
   "cell_type": "code",
   "execution_count": 45,
   "id": "32f77adc",
   "metadata": {},
   "outputs": [
    {
     "name": "stdout",
     "output_type": "stream",
     "text": [
      "set()\n",
      "{1}\n",
      "{1, 2}\n",
      "{1, 2}\n"
     ]
    }
   ],
   "source": [
    "s = set()\n",
    "print(s)\n",
    "s.add(1) # s is now {1}\n",
    "print(s)\n",
    "s.add(2) # s is now {1, 2}\n",
    "print(s)\n",
    "s.add(2) # s is still {1, 2} because sets represent a collection of distinct elements\n",
    "print(s)"
   ]
  },
  {
   "cell_type": "markdown",
   "id": "7e74ec07",
   "metadata": {},
   "source": [
    "Sets are used for two main reasons:\n",
    "\n",
    "   1. `in` is a very fast operation on sets. Thus it is more appropriate to use a set to conduct a membership test than using a list.\n",
    "   2. Use sets to find the *distinct* items in a collection."
   ]
  },
  {
   "cell_type": "code",
   "execution_count": 46,
   "id": "bf7939de",
   "metadata": {},
   "outputs": [],
   "source": [
    "# Using in\n",
    "# stopwords_list = [\"a\", \"an\", \"at\"] + hundreds_of_other_words + [\"yet\", \"you\"]\n",
    "\n",
    "# \"zip\" in stopwords_list # False, but have to check every element\n",
    "\n",
    "# stopwords_set = set(stopwords_list)\n",
    "# \"zip\" in stopwords_set # very fast to check"
   ]
  },
  {
   "cell_type": "code",
   "execution_count": 47,
   "id": "6a0fff5a",
   "metadata": {},
   "outputs": [
    {
     "name": "stdout",
     "output_type": "stream",
     "text": [
      "[1, 2, 3, 1, 2, 3]\n",
      "{1, 2, 3}\n",
      "[1, 2, 3]\n"
     ]
    }
   ],
   "source": [
    "# Finding distinct items\n",
    "item_list = [1, 2, 3, 1, 2, 3]\n",
    "print(item_list)\n",
    "num_items = len(item_list) # 6\n",
    "item_set = set(item_list) # {1, 2, 3}\n",
    "print(item_set)\n",
    "num_distinct_items = len(item_set) # 3\n",
    "distinct_item_list = list(item_set) # [1, 2, 3]\n",
    "print(distinct_item_list)"
   ]
  },
  {
   "cell_type": "markdown",
   "id": "845212cc",
   "metadata": {},
   "source": [
    "## Control Flow\n",
    "\n",
    "You can perform an action conditionally using an `if` statement:"
   ]
  },
  {
   "cell_type": "code",
   "execution_count": 48,
   "id": "b2723ea4",
   "metadata": {},
   "outputs": [],
   "source": [
    "if 1 > 2:\n",
    "    message = \"if only 1 were greater than two...\"\n",
    "elif 1 > 3:\n",
    "    message = \"elif stands for 'else if'\"\n",
    "else:\n",
    "    message = \"when all else fails use els (if you want to)\""
   ]
  },
  {
   "cell_type": "markdown",
   "id": "c50cd0cf",
   "metadata": {},
   "source": [
    "*Ternary* if-then-else statements can be made on one line as well:"
   ]
  },
  {
   "cell_type": "code",
   "execution_count": 49,
   "id": "5d173a38",
   "metadata": {},
   "outputs": [],
   "source": [
    "parity = \"even\" if x % 2 == 0 else \"odd\""
   ]
  },
  {
   "cell_type": "markdown",
   "id": "b4058151",
   "metadata": {},
   "source": [
    "Python's implementation of `while` loops:"
   ]
  },
  {
   "cell_type": "code",
   "execution_count": 50,
   "id": "406b6d90",
   "metadata": {},
   "outputs": [
    {
     "name": "stdout",
     "output_type": "stream",
     "text": [
      "0 is less than 10\n",
      "1 is less than 10\n",
      "2 is less than 10\n",
      "3 is less than 10\n",
      "4 is less than 10\n",
      "5 is less than 10\n",
      "6 is less than 10\n",
      "7 is less than 10\n",
      "8 is less than 10\n",
      "9 is less than 10\n"
     ]
    }
   ],
   "source": [
    "x = 0\n",
    "while x < 10:\n",
    "    print(f\"{x} is less than 10\")\n",
    "    x += 1"
   ]
  },
  {
   "cell_type": "markdown",
   "id": "0d5a9cb6",
   "metadata": {},
   "source": [
    "But `for` and `in` are more commonly used:"
   ]
  },
  {
   "cell_type": "code",
   "execution_count": 51,
   "id": "b41ef81d",
   "metadata": {},
   "outputs": [
    {
     "name": "stdout",
     "output_type": "stream",
     "text": [
      "0 is less than 10\n",
      "1 is less than 10\n",
      "2 is less than 10\n",
      "3 is less than 10\n",
      "4 is less than 10\n",
      "5 is less than 10\n",
      "6 is less than 10\n",
      "7 is less than 10\n",
      "8 is less than 10\n",
      "9 is less than 10\n"
     ]
    }
   ],
   "source": [
    "# range(10) is the numbers 0, 1, 2,..., 9\n",
    "for x in range(10):\n",
    "    print(f\"{x} is less than 10\")"
   ]
  },
  {
   "cell_type": "markdown",
   "id": "fdfabadb",
   "metadata": {},
   "source": [
    "More complex logic will use `continue` and `break`:"
   ]
  },
  {
   "cell_type": "code",
   "execution_count": 52,
   "id": "57fe88db",
   "metadata": {},
   "outputs": [
    {
     "name": "stdout",
     "output_type": "stream",
     "text": [
      "0\n",
      "1\n",
      "2\n",
      "4\n"
     ]
    }
   ],
   "source": [
    "for x in range(10):\n",
    "    if x == 3:\n",
    "        continue # go immediately to the next iteration\n",
    "    if x == 5:\n",
    "        break # quit the loop entirely\n",
    "    print(x)"
   ]
  },
  {
   "cell_type": "markdown",
   "id": "ab266b2a",
   "metadata": {},
   "source": [
    "## Truthiness\n",
    "\n",
    "Booleans are capitalized:"
   ]
  },
  {
   "cell_type": "code",
   "execution_count": 53,
   "id": "362b4d3c",
   "metadata": {},
   "outputs": [
    {
     "name": "stdout",
     "output_type": "stream",
     "text": [
      "True\n",
      "False\n"
     ]
    }
   ],
   "source": [
    "one_is_less_than_two = 1 < 2 # equals True\n",
    "print(one_is_less_than_two)\n",
    "true_equals_false = True == False # equals False\n",
    "print(true_equals_false)"
   ]
  },
  {
   "cell_type": "markdown",
   "id": "b9e49a13",
   "metadata": {},
   "source": [
    "In R, `NA` is used to indicate a nonexistent value. In Python, the equivalent is the value `None`:"
   ]
  },
  {
   "cell_type": "code",
   "execution_count": 54,
   "id": "ec8dbe45",
   "metadata": {},
   "outputs": [],
   "source": [
    "x = None\n",
    "assert x == None, \"this is not the Pythonic way to check for None\"\n",
    "assert x is None, \"this is the Pythonic way to check for None\""
   ]
  },
  {
   "cell_type": "code",
   "execution_count": 55,
   "id": "107d946e",
   "metadata": {},
   "outputs": [
    {
     "data": {
      "text/plain": [
       "True"
      ]
     },
     "execution_count": 55,
     "metadata": {},
     "output_type": "execute_result"
    }
   ],
   "source": [
    "x is None # prints True"
   ]
  },
  {
   "cell_type": "markdown",
   "id": "8f02dd57",
   "metadata": {},
   "source": [
    "Python lets you use any value where it expects a Boolean. The following are treated as False:\n",
    "\n",
    "   * `False`\n",
    "   * `None`\n",
    "   * `[]` (an empty `list`)\n",
    "   * `{}` (an empty `dict`)\n",
    "   * \"\"\n",
    "   * set()\n",
    "   * 0\n",
    "   * 0.0"
   ]
  },
  {
   "cell_type": "markdown",
   "id": "aeb4cf3b",
   "metadata": {},
   "source": [
    "This allows us to easily use `if` statements to test for empty strings, empty dictionaries, etc. It also sometime causes bugs."
   ]
  },
  {
   "cell_type": "markdown",
   "id": "35241fa0",
   "metadata": {},
   "source": [
    "Python has an `all` function which takes an iterable and returns `True` when every element is truthy.\n",
    "Python has an `any` function, which returns `True` when at least one element is truthy:"
   ]
  },
  {
   "cell_type": "code",
   "execution_count": 56,
   "id": "20280238",
   "metadata": {},
   "outputs": [
    {
     "data": {
      "text/plain": [
       "True"
      ]
     },
     "execution_count": 56,
     "metadata": {},
     "output_type": "execute_result"
    }
   ],
   "source": [
    "all([True, 1, 3]) # True, all are truthy"
   ]
  },
  {
   "cell_type": "code",
   "execution_count": 57,
   "id": "0a17fb60",
   "metadata": {},
   "outputs": [
    {
     "data": {
      "text/plain": [
       "False"
      ]
     },
     "execution_count": 57,
     "metadata": {},
     "output_type": "execute_result"
    }
   ],
   "source": [
    "all([True, 1, {}]) # False, {} is falsy"
   ]
  },
  {
   "cell_type": "code",
   "execution_count": 58,
   "id": "2a3d724d",
   "metadata": {},
   "outputs": [
    {
     "data": {
      "text/plain": [
       "True"
      ]
     },
     "execution_count": 58,
     "metadata": {},
     "output_type": "execute_result"
    }
   ],
   "source": [
    "any([True, 1, {}]) # True, True is truthy"
   ]
  },
  {
   "cell_type": "code",
   "execution_count": 59,
   "id": "473109cd",
   "metadata": {},
   "outputs": [
    {
     "data": {
      "text/plain": [
       "True"
      ]
     },
     "execution_count": 59,
     "metadata": {},
     "output_type": "execute_result"
    }
   ],
   "source": [
    "all([]) # True, no falsy elements in the list"
   ]
  },
  {
   "cell_type": "code",
   "execution_count": 60,
   "id": "0a855e8d",
   "metadata": {},
   "outputs": [
    {
     "data": {
      "text/plain": [
       "False"
      ]
     },
     "execution_count": 60,
     "metadata": {},
     "output_type": "execute_result"
    }
   ],
   "source": [
    "all([[],[],[]]) # False, list of empty lists. The empty lists are falsy"
   ]
  },
  {
   "cell_type": "code",
   "execution_count": 61,
   "id": "2f224575",
   "metadata": {},
   "outputs": [
    {
     "data": {
      "text/plain": [
       "False"
      ]
     },
     "execution_count": 61,
     "metadata": {},
     "output_type": "execute_result"
    }
   ],
   "source": [
    "any([]) # False, no truthy elements in the list"
   ]
  },
  {
   "cell_type": "markdown",
   "id": "7a539b43",
   "metadata": {},
   "source": [
    "#### Sorting\n",
    "\n",
    "Every Python list has a `sort` method that sorts it in place. If you don't want to mess up your list, you can use the `sorted` functions, which returns a new list:"
   ]
  },
  {
   "cell_type": "code",
   "execution_count": 62,
   "id": "716be096",
   "metadata": {},
   "outputs": [
    {
     "name": "stdout",
     "output_type": "stream",
     "text": [
      "[4, 1, 2, 3]\n",
      "[1, 2, 3, 4]\n"
     ]
    }
   ],
   "source": [
    "x = [4, 1, 2, 3]\n",
    "y = sorted(x) # y is [1, 2, 3, 4], x is unchanged\n",
    "print(x)\n",
    "print(y)"
   ]
  },
  {
   "cell_type": "code",
   "execution_count": 63,
   "id": "d5685cc5",
   "metadata": {},
   "outputs": [
    {
     "name": "stdout",
     "output_type": "stream",
     "text": [
      "[1, 2, 3, 4]\n"
     ]
    }
   ],
   "source": [
    "x.sort() # now x is [1, 2, 3, 4]\n",
    "print(x)"
   ]
  },
  {
   "cell_type": "markdown",
   "id": "c1817f90",
   "metadata": {},
   "source": [
    "As we can see, the `sort` and `sorted` sort a list from smallest to largest by default. We specify a `reverse=True` parameter to sort from largest to smallest. we can also use the `key` parameter to specify the way to sort:"
   ]
  },
  {
   "cell_type": "code",
   "execution_count": 64,
   "id": "f94e63f0",
   "metadata": {},
   "outputs": [
    {
     "name": "stdout",
     "output_type": "stream",
     "text": [
      "[-4, 3, -2, 1]\n"
     ]
    }
   ],
   "source": [
    "# sort the list by absolute value from largest to smallest\n",
    "x = sorted([-4, 1, -2, 3], key=abs, reverse=True) # is [-4, 3, -2, 1]\n",
    "print(x)"
   ]
  },
  {
   "cell_type": "markdown",
   "id": "69409739",
   "metadata": {},
   "source": [
    "## List Comprehensions\n",
    "\n",
    "We use *list comprehensions* to transform a list into another list. These transformations can be choosing specific elements, transforming elements, or both."
   ]
  },
  {
   "cell_type": "code",
   "execution_count": 65,
   "id": "72ee47e8",
   "metadata": {},
   "outputs": [
    {
     "name": "stdout",
     "output_type": "stream",
     "text": [
      "[0, 2, 4]\n",
      "[0, 1, 4, 9, 16]\n",
      "[0, 4, 16]\n"
     ]
    }
   ],
   "source": [
    "even_numbers = [x for x in range(5) if x % 2 == 0] # [0, 2, 4]\n",
    "print(even_numbers)\n",
    "\n",
    "squares = [x * x for x in range(5)] # [0, 1, 4, 9, 16]\n",
    "print(squares)\n",
    "\n",
    "even_squares = [x * x for x in even_numbers] # [0, 4, 16]\n",
    "print(even_squares)"
   ]
  },
  {
   "cell_type": "markdown",
   "id": "992ea39b",
   "metadata": {},
   "source": [
    "Similarly, we can turn lists into dictionaries or sets:"
   ]
  },
  {
   "cell_type": "code",
   "execution_count": 66,
   "id": "351c085a",
   "metadata": {},
   "outputs": [
    {
     "name": "stdout",
     "output_type": "stream",
     "text": [
      "{0: 0, 1: 1, 2: 4, 3: 9, 4: 16}\n",
      "{1}\n"
     ]
    }
   ],
   "source": [
    "square_dict = {x: x * x for x in range(5)} # {0: 0, 1: 1, 2: 4, 3: 9, 4: 16}\n",
    "print(square_dict)\n",
    "\n",
    "square_set = {x * x for x in [1, -1]} # {1}\n",
    "print(square_set)"
   ]
  },
  {
   "cell_type": "markdown",
   "id": "a34eac7c",
   "metadata": {},
   "source": [
    "Use an underscore as the variable if you don't need the value from the list:"
   ]
  },
  {
   "cell_type": "code",
   "execution_count": 67,
   "id": "32757f13",
   "metadata": {},
   "outputs": [
    {
     "name": "stdout",
     "output_type": "stream",
     "text": [
      "[0, 0, 0]\n"
     ]
    }
   ],
   "source": [
    "zeros = [0 for _ in even_numbers] # has the same length as even_numbers\n",
    "print(zeros)"
   ]
  },
  {
   "cell_type": "markdown",
   "id": "198907fd",
   "metadata": {},
   "source": [
    "A list comprehension can include multiple `fors`:"
   ]
  },
  {
   "cell_type": "code",
   "execution_count": 68,
   "id": "ca7ed8a6",
   "metadata": {},
   "outputs": [
    {
     "name": "stdout",
     "output_type": "stream",
     "text": [
      "[(0, 0), (0, 1), (0, 2), (0, 3), (0, 4), (0, 5), (0, 6), (0, 7), (0, 8), (0, 9), (1, 0), (1, 1), (1, 2), (1, 3), (1, 4), (1, 5), (1, 6), (1, 7), (1, 8), (1, 9), (2, 0), (2, 1), (2, 2), (2, 3), (2, 4), (2, 5), (2, 6), (2, 7), (2, 8), (2, 9), (3, 0), (3, 1), (3, 2), (3, 3), (3, 4), (3, 5), (3, 6), (3, 7), (3, 8), (3, 9), (4, 0), (4, 1), (4, 2), (4, 3), (4, 4), (4, 5), (4, 6), (4, 7), (4, 8), (4, 9), (5, 0), (5, 1), (5, 2), (5, 3), (5, 4), (5, 5), (5, 6), (5, 7), (5, 8), (5, 9), (6, 0), (6, 1), (6, 2), (6, 3), (6, 4), (6, 5), (6, 6), (6, 7), (6, 8), (6, 9), (7, 0), (7, 1), (7, 2), (7, 3), (7, 4), (7, 5), (7, 6), (7, 7), (7, 8), (7, 9), (8, 0), (8, 1), (8, 2), (8, 3), (8, 4), (8, 5), (8, 6), (8, 7), (8, 8), (8, 9), (9, 0), (9, 1), (9, 2), (9, 3), (9, 4), (9, 5), (9, 6), (9, 7), (9, 8), (9, 9)]\n"
     ]
    }
   ],
   "source": [
    "pairs = [(x, y)\n",
    "        for x in range(10)\n",
    "        for y in range(10)] # 100 pairs (0,0), (0,1) ... (9,8), (9,9)\n",
    "print(pairs)"
   ]
  },
  {
   "cell_type": "markdown",
   "id": "728243bd",
   "metadata": {},
   "source": [
    "Later `fors` can use the rsults of earlier ones:"
   ]
  },
  {
   "cell_type": "code",
   "execution_count": 69,
   "id": "1ca04618",
   "metadata": {},
   "outputs": [
    {
     "name": "stdout",
     "output_type": "stream",
     "text": [
      "[(0, 1), (0, 2), (0, 3), (0, 4), (0, 5), (0, 6), (0, 7), (0, 8), (0, 9), (1, 2), (1, 3), (1, 4), (1, 5), (1, 6), (1, 7), (1, 8), (1, 9), (2, 3), (2, 4), (2, 5), (2, 6), (2, 7), (2, 8), (2, 9), (3, 4), (3, 5), (3, 6), (3, 7), (3, 8), (3, 9), (4, 5), (4, 6), (4, 7), (4, 8), (4, 9), (5, 6), (5, 7), (5, 8), (5, 9), (6, 7), (6, 8), (6, 9), (7, 8), (7, 9), (8, 9)]\n"
     ]
    }
   ],
   "source": [
    "increasing_pairs = [(x, y)\n",
    "                   for x in range(10)\n",
    "                   for y in range(x + 1, 10)]\n",
    "print(increasing_pairs)"
   ]
  },
  {
   "cell_type": "markdown",
   "id": "1da9e793",
   "metadata": {},
   "source": [
    "## Automated Testing and `assert`\n",
    "\n",
    "We can be confident our code is correct using either *types* or *automated tests*.\n",
    "\n",
    "We will test our code using `assert` statements, which will cause our code to raise an `AssertionError` if the specified condition is not truthy:"
   ]
  },
  {
   "cell_type": "code",
   "execution_count": 70,
   "id": "e12e535b",
   "metadata": {},
   "outputs": [],
   "source": [
    "assert 1 + 1 == 2\n",
    "assert 1 + 1 == 2, \"1 + 1 should equal 2 but didn't\""
   ]
  },
  {
   "cell_type": "markdown",
   "id": "28976688",
   "metadata": {},
   "source": [
    "The optional message in the `assert` statement will be printed if the assertion fails. We should assert that functions we write are doing what we expect them to do:"
   ]
  },
  {
   "cell_type": "code",
   "execution_count": 71,
   "id": "0f5432db",
   "metadata": {},
   "outputs": [],
   "source": [
    "def smallest_item(xs):\n",
    "    return min(xs)\n",
    "\n",
    "assert smallest_item([10, 20, 5, 40]) == 5\n",
    "assert smallest_item([1, 0, -1, 2]) == -1"
   ]
  },
  {
   "cell_type": "markdown",
   "id": "3e8735e2",
   "metadata": {},
   "source": [
    "We can also assert things about inputs to functions:"
   ]
  },
  {
   "cell_type": "code",
   "execution_count": 72,
   "id": "543a34f7",
   "metadata": {},
   "outputs": [],
   "source": [
    "def smallest_item(xs):\n",
    "    assert xs, \"empty list has no smallest item\"\n",
    "    return min(xs)"
   ]
  },
  {
   "cell_type": "markdown",
   "id": "276a8e44",
   "metadata": {},
   "source": [
    "## Object-Oriented Programming\n",
    "\n",
    "*Classes* allow us to encapsulate data and the functions that operate on them. Let's construct a class representing a \"counting clicker\".\n",
    "\n",
    "It maintains a `count`, can be `clicked` to increment the count, allows you to `read_count`, and can be `reset` back to zero.\n",
    "\n",
    "We define a class by using the `class` keyword and a PascalCase name:"
   ]
  },
  {
   "cell_type": "code",
   "execution_count": 73,
   "id": "a95d15a0",
   "metadata": {},
   "outputs": [],
   "source": [
    "class CountingClicker:\n",
    "    \"\"\"A class can/should have a docstring, just like a function\"\"\"\n",
    "    # A class contains zero or more member functions\n",
    "    # By convention, each takes a first parameter, self, that refers to the particular class instance\n",
    "    # Usually a class has a constructor, named __init__.\n",
    "    # It takes whatever parameters you need to construct an instance of your class\n",
    "    # and does whatever setup you need.\n",
    "    # Dunder methods like __init__ are considered \"private\" \n",
    "    # (users of the class are not supposed to directly call them)\n",
    "    def __init__(self, count = 0):\n",
    "        self.count = count\n",
    "    \n",
    "    # __repr__ produces the string representation of a class instance:\n",
    "    def __repr__(self):\n",
    "        return f\"CountingClicker(count={self.count})\"\n",
    "    \n",
    "    # Finally, implement the public API of our class:\n",
    "    def click(self, num_times = 1):\n",
    "        \"\"\"Click the clicker some number of times.\"\"\"\n",
    "        self.count += num_times\n",
    "    \n",
    "    def read(self):\n",
    "        return self.count\n",
    "    \n",
    "    def reset(self):\n",
    "        self.count = 0"
   ]
  },
  {
   "cell_type": "markdown",
   "id": "d69f7f76",
   "metadata": {},
   "source": [
    "After we've defined the class, let's use `assert` to write test cases for our clicker:"
   ]
  },
  {
   "cell_type": "code",
   "execution_count": 74,
   "id": "c8c72cd4",
   "metadata": {},
   "outputs": [
    {
     "data": {
      "text/plain": [
       "CountingClicker(count=0)"
      ]
     },
     "execution_count": 74,
     "metadata": {},
     "output_type": "execute_result"
    }
   ],
   "source": [
    "clicker = CountingClicker()\n",
    "assert clicker.read() == 0, \"clicker should start with count 0\"\n",
    "clicker"
   ]
  },
  {
   "cell_type": "code",
   "execution_count": 75,
   "id": "0f2cdee1",
   "metadata": {},
   "outputs": [
    {
     "data": {
      "text/plain": [
       "2"
      ]
     },
     "execution_count": 75,
     "metadata": {},
     "output_type": "execute_result"
    }
   ],
   "source": [
    "clicker.click()\n",
    "clicker.click()\n",
    "assert clicker.read() == 2, \"after two clicks, clicker should have count 2\"\n",
    "clicker.read()"
   ]
  },
  {
   "cell_type": "code",
   "execution_count": 76,
   "id": "8419995b",
   "metadata": {},
   "outputs": [
    {
     "data": {
      "text/plain": [
       "0"
      ]
     },
     "execution_count": 76,
     "metadata": {},
     "output_type": "execute_result"
    }
   ],
   "source": [
    "clicker.reset()\n",
    "assert clicker.read() == 0, \"after reset, clicker should be back to 0\"\n",
    "clicker.read()"
   ]
  },
  {
   "cell_type": "markdown",
   "id": "d022f897",
   "metadata": {},
   "source": [
    "*Subclasses* can also be created, which *inherit* some of their functionality from a parent class. For example, we could create a non-reset-able clicker by using `CountingClicker` as the base class and overriding the `reset` method to do nothing:"
   ]
  },
  {
   "cell_type": "code",
   "execution_count": 77,
   "id": "03a51c23",
   "metadata": {},
   "outputs": [],
   "source": [
    "# A subclass inherits all the behavior of its parent class.\n",
    "class NoResetClicker(CountingClicker):\n",
    "    # This class has all the same methods as CountingClicker.\n",
    "    # Except that it has a reset method that does nothing.\n",
    "    def reset(self):\n",
    "        pass"
   ]
  },
  {
   "cell_type": "code",
   "execution_count": 78,
   "id": "1ba1a3b9",
   "metadata": {},
   "outputs": [],
   "source": [
    "clicker2 = NoResetClicker()\n",
    "assert clicker2.read() == 0"
   ]
  },
  {
   "cell_type": "code",
   "execution_count": 79,
   "id": "5c89e808",
   "metadata": {},
   "outputs": [],
   "source": [
    "clicker2.click()\n",
    "assert clicker2.read() == 1"
   ]
  },
  {
   "cell_type": "code",
   "execution_count": 80,
   "id": "f01d7752",
   "metadata": {},
   "outputs": [],
   "source": [
    "clicker2.reset()\n",
    "assert clicker2.read() == 1, \"reset shouldn't do anything\""
   ]
  },
  {
   "cell_type": "markdown",
   "id": "51cae5cf",
   "metadata": {},
   "source": [
    "## Iterables and Generators\n",
    "\n",
    "We don't always need a list to retrieve specific elements by indices. If we only want the elements one at a time, there is no reason to keep an entire list of potentially billions of elements.\n",
    "\n",
    "Most likely, we just need to iterate over the collection of elements using `for` and `in`. If this is the case, we can create *generators*, which can be iterated over just like lists but generate their values lazily on demand.\n",
    "\n",
    "We can create generators with functions and the `yield` operator:"
   ]
  },
  {
   "cell_type": "code",
   "execution_count": 81,
   "id": "71efd64d",
   "metadata": {},
   "outputs": [],
   "source": [
    "def generate_range(n):\n",
    "    i = 0\n",
    "    while i < n:\n",
    "        yield i # every call to yield produces a value of the generator\n",
    "        i += 1"
   ]
  },
  {
   "cell_type": "markdown",
   "id": "94c10f5e",
   "metadata": {},
   "source": [
    "The following loop will consume the `yielded` values one at a time until none are left:"
   ]
  },
  {
   "cell_type": "code",
   "execution_count": 82,
   "id": "64e5e688",
   "metadata": {},
   "outputs": [
    {
     "name": "stdout",
     "output_type": "stream",
     "text": [
      "i: 0\n",
      "i: 1\n",
      "i: 2\n",
      "i: 3\n",
      "i: 4\n",
      "i: 5\n",
      "i: 6\n",
      "i: 7\n",
      "i: 8\n",
      "i: 9\n"
     ]
    }
   ],
   "source": [
    "for i in generate_range(10):\n",
    "    print(f\"i: {i}\")"
   ]
  },
  {
   "cell_type": "markdown",
   "id": "209b0934",
   "metadata": {},
   "source": [
    "In fact, `range` is itself lazy, so there's no point in doing this.\n",
    "\n",
    "With a generator, we can als create an infinite sequence:"
   ]
  },
  {
   "cell_type": "code",
   "execution_count": 83,
   "id": "c664ff3e",
   "metadata": {},
   "outputs": [],
   "source": [
    "def natural_numbers():\n",
    "    \"\"\"returns 1, 2, 3, ...\"\"\"\n",
    "    n = 1\n",
    "    while True:\n",
    "        yield n\n",
    "        n += 1"
   ]
  },
  {
   "cell_type": "markdown",
   "id": "becfaaca",
   "metadata": {},
   "source": [
    "Although we shouldn't iterate over it without using some kind of `break` logic.\n",
    "\n",
    "**Note:** The disadvantage of laziness is that we can only iterate through a generator once. If we need to iterate through something multiple times, we'll need to either re-create the generator each time or use a list. If generating the values is expensive, that might be a good reason to use a list instead.\n",
    "\n",
    "Another way to create generators is by using `for` conprehensions wrapped in parentheses:"
   ]
  },
  {
   "cell_type": "code",
   "execution_count": 84,
   "id": "0332277b",
   "metadata": {},
   "outputs": [],
   "source": [
    "evens_below_20 = (i for i in generate_range(20) if i % 2 == 0)"
   ]
  },
  {
   "cell_type": "markdown",
   "id": "72fbab41",
   "metadata": {},
   "source": [
    "Such a \"generator comprehension\" doesn't do any work until you iterate over it (using `for` or `next`). We can use this to build up elaborate data-processing pipelines:"
   ]
  },
  {
   "cell_type": "code",
   "execution_count": 85,
   "id": "efd2ccd4",
   "metadata": {},
   "outputs": [],
   "source": [
    "# None of these computations *does* anything until we iterate\n",
    "data = natural_numbers()\n",
    "evens = (x for x in data if x % 2 == 0)\n",
    "even_squares = (x ** 2 for x in evens)\n",
    "even_squares_ending_in_six = (x for x in even_squares if x % 10 == 6)\n",
    "# and so on"
   ]
  },
  {
   "cell_type": "markdown",
   "id": "f0a60c2c",
   "metadata": {},
   "source": [
    "Sometimes, when we're iterating over lists or generators, we'll want both the values and their indices. Python has an `enumerate` function which turns values into pairs (`index`, `value`):"
   ]
  },
  {
   "cell_type": "code",
   "execution_count": 86,
   "id": "45804cc0",
   "metadata": {},
   "outputs": [
    {
     "name": "stdout",
     "output_type": "stream",
     "text": [
      "name 0 is Alice\n",
      "name 1 is Bob\n",
      "name 2 is Charlie\n",
      "name 3 is Debbie\n"
     ]
    }
   ],
   "source": [
    "names = [\"Alice\", \"Bob\", \"Charlie\", \"Debbie\"]\n",
    "\n",
    "# not Pythonic\n",
    "for i in range(len(names)):\n",
    "    print(f\"name {i} is {names[i]}\")"
   ]
  },
  {
   "cell_type": "code",
   "execution_count": 87,
   "id": "d644d2b7",
   "metadata": {},
   "outputs": [
    {
     "name": "stdout",
     "output_type": "stream",
     "text": [
      "name 0 is Alice\n",
      "name 1 is Bob\n",
      "name 2 is Charlie\n",
      "name 3 is Debbie\n"
     ]
    }
   ],
   "source": [
    "# also not Pythonic\n",
    "i = 0\n",
    "for name in names:\n",
    "    print(f\"name {i} is {names[i]}\")\n",
    "    i += 1"
   ]
  },
  {
   "cell_type": "code",
   "execution_count": 88,
   "id": "48fd48a3",
   "metadata": {},
   "outputs": [
    {
     "name": "stdout",
     "output_type": "stream",
     "text": [
      "name 0 is Alice\n",
      "name 1 is Bob\n",
      "name 2 is Charlie\n",
      "name 3 is Debbie\n"
     ]
    }
   ],
   "source": [
    "# Pythonic\n",
    "for i, name in enumerate(names):\n",
    "    print(f\"name {i} is {name}\")"
   ]
  },
  {
   "cell_type": "markdown",
   "id": "69772762",
   "metadata": {},
   "source": [
    "## Randomness\n",
    "\n",
    "We can generate random numbers with the `random` module:"
   ]
  },
  {
   "cell_type": "code",
   "execution_count": 90,
   "id": "83df5eb9",
   "metadata": {},
   "outputs": [
    {
     "name": "stdout",
     "output_type": "stream",
     "text": [
      "[0.5714025946899135, 0.4288890546751146, 0.5780913011344704, 0.20609823213950174]\n"
     ]
    }
   ],
   "source": [
    "import random\n",
    "random.seed(10) # this ensures we get the same results every time\n",
    "\n",
    "four_uniform_randoms = [random.random() for _ in range(4)]\n",
    "print(four_uniform_randoms)"
   ]
  },
  {
   "cell_type": "markdown",
   "id": "964eb079",
   "metadata": {},
   "source": [
    "The `random` module actually produces *pseudorandom* numbers based on an internal state that you can set with `random.seed` if you want to get reproducible results:"
   ]
  },
  {
   "cell_type": "code",
   "execution_count": 91,
   "id": "3c8285f3",
   "metadata": {},
   "outputs": [
    {
     "name": "stdout",
     "output_type": "stream",
     "text": [
      "0.5714025946899135\n",
      "0.5714025946899135\n"
     ]
    }
   ],
   "source": [
    "random.seed(10) # set the seed to 10\n",
    "print(random.random())\n",
    "random.seed(10) # reset the seed to 10\n",
    "print(random.random())"
   ]
  },
  {
   "cell_type": "markdown",
   "id": "aa769d57",
   "metadata": {},
   "source": [
    "We'll sometimes use `random.randrange`, which takes either one or two arguments and returns an element chosen randomly from the corresponding `range`:"
   ]
  },
  {
   "cell_type": "code",
   "execution_count": 92,
   "id": "474a9f7b",
   "metadata": {},
   "outputs": [
    {
     "data": {
      "text/plain": [
       "4"
      ]
     },
     "execution_count": 92,
     "metadata": {},
     "output_type": "execute_result"
    }
   ],
   "source": [
    "random.randrange(10) # choose randomly from range(1) = [0, 1, ..., 9]\n",
    "random.randrange(3, 6) # choose randomly from range(3, 6) = [3, 4, 5]"
   ]
  },
  {
   "cell_type": "markdown",
   "id": "d6ffaa98",
   "metadata": {},
   "source": [
    "`random.shuffle` randomly reorders the elements of a list:"
   ]
  },
  {
   "cell_type": "code",
   "execution_count": 93,
   "id": "b02ab25f",
   "metadata": {},
   "outputs": [
    {
     "name": "stdout",
     "output_type": "stream",
     "text": [
      "[5, 6, 9, 2, 3, 7, 8, 4, 1, 10]\n"
     ]
    }
   ],
   "source": [
    "up_to_ten = [1, 2, 3, 4, 5, 6, 7, 8, 9, 10]\n",
    "random.shuffle(up_to_ten)\n",
    "print(up_to_ten)"
   ]
  },
  {
   "cell_type": "markdown",
   "id": "2ece98c4",
   "metadata": {},
   "source": [
    "If we need to randomly pick one element from a list, we use `random.choice`:"
   ]
  },
  {
   "cell_type": "code",
   "execution_count": 94,
   "id": "35966ec7",
   "metadata": {},
   "outputs": [
    {
     "name": "stdout",
     "output_type": "stream",
     "text": [
      "Bob\n"
     ]
    }
   ],
   "source": [
    "my_best_friend = random.choice([\"Alice\", \"Bob\", \"Charlie\"])\n",
    "print(my_best_friend)"
   ]
  },
  {
   "cell_type": "markdown",
   "id": "32861a23",
   "metadata": {},
   "source": [
    "If we need to randomly choose a sample of elements without replacement, we use `random.sample`:"
   ]
  },
  {
   "cell_type": "code",
   "execution_count": 95,
   "id": "3748ff22",
   "metadata": {},
   "outputs": [
    {
     "name": "stdout",
     "output_type": "stream",
     "text": [
      "[4, 15, 47, 23, 2, 26]\n"
     ]
    }
   ],
   "source": [
    "lottery_numbers = range(60)\n",
    "winning_numbers = random.sample(lottery_numbers, 6)\n",
    "print(winning_numbers)"
   ]
  },
  {
   "cell_type": "markdown",
   "id": "b1158afa",
   "metadata": {},
   "source": [
    "To choose a smaple *with* replacement, we make multiple calls to `random.choice`:"
   ]
  },
  {
   "cell_type": "code",
   "execution_count": 96,
   "id": "c3288e72",
   "metadata": {},
   "outputs": [
    {
     "name": "stdout",
     "output_type": "stream",
     "text": [
      "[2, 9, 5, 6]\n"
     ]
    }
   ],
   "source": [
    "four_with_replacement = [random.choice(range(10)) for _ in range(4)]\n",
    "print(four_with_replacement)"
   ]
  },
  {
   "cell_type": "markdown",
   "id": "0f573b0f",
   "metadata": {},
   "source": [
    "## Regular Expressions\n",
    "\n",
    "Regular expressions (regex) provide a way of searching text:"
   ]
  },
  {
   "cell_type": "code",
   "execution_count": 100,
   "id": "b1ecfbcd",
   "metadata": {},
   "outputs": [
    {
     "name": "stdout",
     "output_type": "stream",
     "text": [
      "[True, <re.Match object; span=(1, 2), match='a'>, True, True, True]\n"
     ]
    }
   ],
   "source": [
    "import re\n",
    "\n",
    "re_example = [ # All of these are true, because\n",
    "    not re.match(\"a\", \"cat\"), # 'cat' doesn't start with 'a'\n",
    "    re.search(\"a\", \"cat\"), # 'cat' has an 'a' in it\n",
    "    not re.search(\"c\", \"dog\"), # 'dog' doesn't have a 'c' in it.\n",
    "    3 == len(re.split(\"[ab]\", \"carbs\")), # split on a or b to ['c', 'r', 's']\n",
    "    \"R-D-\" == re.sub(\"[0-9]\", \"-\", \"R2D2\") # replace digits with dashes\n",
    "]\n",
    "\n",
    "print(re_example)"
   ]
  },
  {
   "cell_type": "markdown",
   "id": "f115f0ed",
   "metadata": {},
   "source": [
    "## zip and Argument Unpacking\n",
    "\n",
    "Sometimes we'll need to *zip* two or more iterables together. The `zip` function transforms multiple iterables into a single iterable of tuples of corresponding function:"
   ]
  },
  {
   "cell_type": "code",
   "execution_count": 101,
   "id": "f4807301",
   "metadata": {},
   "outputs": [
    {
     "data": {
      "text/plain": [
       "[('a', 1), ('b', 2), ('c', 3)]"
      ]
     },
     "execution_count": 101,
     "metadata": {},
     "output_type": "execute_result"
    }
   ],
   "source": [
    "list1 = ['a', 'b', 'c']\n",
    "list2 = [1 ,2 ,3]\n",
    "\n",
    "# zip is lazy, so we have to do something like the following\n",
    "[pair for pair in zip(list1, list2)] # is [('a', 1), ('b', 2), ('c', 3)]"
   ]
  },
  {
   "cell_type": "markdown",
   "id": "0af87ba7",
   "metadata": {},
   "source": [
    "What if the lists are different lengths? `zip` stops as soon as the first list ends.\n",
    "\n",
    "We can also \"unzip\" a list using a strange trick:"
   ]
  },
  {
   "cell_type": "code",
   "execution_count": 105,
   "id": "d1a33ea0",
   "metadata": {},
   "outputs": [
    {
     "name": "stdout",
     "output_type": "stream",
     "text": [
      "('a', 'b', 'c')\n",
      "(1, 2, 3)\n"
     ]
    }
   ],
   "source": [
    "pairs = [('a', 1), ('b', 2), ('c', 3)]\n",
    "letters, numbers = zip(*pairs)\n",
    "print(letters)\n",
    "print(numbers)"
   ]
  },
  {
   "cell_type": "markdown",
   "id": "120277a1",
   "metadata": {},
   "source": [
    "The asterisk (\\*) performs *argument unpacking*, which uses the elements of `pairs` as individual arguments to `zip`. It ends up the same as if we had called:"
   ]
  },
  {
   "cell_type": "code",
   "execution_count": 106,
   "id": "f538a4e7",
   "metadata": {},
   "outputs": [
    {
     "name": "stdout",
     "output_type": "stream",
     "text": [
      "('a', 'b', 'c')\n",
      "(1, 2, 3)\n"
     ]
    }
   ],
   "source": [
    "letters, numbers = zip(('a', 1), ('b', 2), ('c', 3))\n",
    "print(letters)\n",
    "print(numbers)"
   ]
  },
  {
   "cell_type": "markdown",
   "id": "08e03a97",
   "metadata": {},
   "source": [
    "We can use argument unpacking with any function:"
   ]
  },
  {
   "cell_type": "code",
   "execution_count": 107,
   "id": "e71637cf",
   "metadata": {},
   "outputs": [
    {
     "name": "stdout",
     "output_type": "stream",
     "text": [
      "add expects two inputs\n"
     ]
    },
    {
     "data": {
      "text/plain": [
       "3"
      ]
     },
     "execution_count": 107,
     "metadata": {},
     "output_type": "execute_result"
    }
   ],
   "source": [
    "def add(a,b): return a + b\n",
    "\n",
    "add(1, 2) # returns 3\n",
    "try:\n",
    "    add([1, 2])\n",
    "except TypeError:\n",
    "    print(\"add expects two inputs\")\n",
    "add(*[1, 2]) # returns 3"
   ]
  },
  {
   "cell_type": "markdown",
   "id": "58386560",
   "metadata": {},
   "source": [
    "## args and kwargs\n",
    "\n",
    "Let's say we want to create a higher-order function that takes as input some function `f` and returns a new function that for any input returns twice the value of `f`:"
   ]
  },
  {
   "cell_type": "code",
   "execution_count": 108,
   "id": "6aedd02b",
   "metadata": {},
   "outputs": [],
   "source": [
    "def doubler(f):\n",
    "    # Here we define a new function that keeps a reference to f\n",
    "    def g(x):\n",
    "        return 2 * f(x)\n",
    "    \n",
    "    # and return that new function\n",
    "    return g"
   ]
  },
  {
   "cell_type": "markdown",
   "id": "e19e71e9",
   "metadata": {},
   "source": [
    "This works in some cases:"
   ]
  },
  {
   "cell_type": "code",
   "execution_count": 109,
   "id": "684f87c5",
   "metadata": {},
   "outputs": [],
   "source": [
    "def f1(x):\n",
    "    return x + 1\n",
    "\n",
    "g = doubler(f1)\n",
    "assert g(3) == 8, \"(3 + 1) * 2 should equal 8\"\n",
    "assert g(-1) == 0, \"(-1 + 1) * 2 shoudl equal 0\""
   ]
  },
  {
   "cell_type": "markdown",
   "id": "8554b1d4",
   "metadata": {},
   "source": [
    "However, it doesn't work with functions that take more than a single argument:"
   ]
  },
  {
   "cell_type": "code",
   "execution_count": 111,
   "id": "dfebd6d5",
   "metadata": {},
   "outputs": [
    {
     "name": "stdout",
     "output_type": "stream",
     "text": [
      "as defined, g only takes one argument\n"
     ]
    }
   ],
   "source": [
    "def f2(x, y):\n",
    "    return x + y\n",
    "\n",
    "g = doubler(f2)\n",
    "try:\n",
    "    g(1, 2)\n",
    "except TypeError:\n",
    "    print(\"as defined, g only takes one argument\")"
   ]
  },
  {
   "cell_type": "markdown",
   "id": "0a3ec9bc",
   "metadata": {},
   "source": [
    "We need a way to specify a function that takes arbitrary arguments. We can do this with argument unpacking and a little bit of magic:"
   ]
  },
  {
   "cell_type": "code",
   "execution_count": 112,
   "id": "1a05624b",
   "metadata": {},
   "outputs": [
    {
     "name": "stdout",
     "output_type": "stream",
     "text": [
      "unnamed args: (1, 2)\n",
      "keyword args: {'key': 'word', 'key2': 'word2'}\n",
      "<function magic at 0x1057039d0>\n"
     ]
    }
   ],
   "source": [
    "def magic(*args, **kwargs):\n",
    "    print(\"unnamed args:\", args)\n",
    "    print(\"keyword args:\", kwargs)\n",
    "\n",
    "magic(1, 2, key=\"word\", key2=\"word2\")\n",
    "print(magic)"
   ]
  },
  {
   "cell_type": "markdown",
   "id": "0ed2311e",
   "metadata": {},
   "source": [
    "When we define a function like this, `args` is a tuple of its unnamed arguments and `kwargs` is a `dict` of its named arguments. It works the other way too, if we want to use a `list` or `tuple` and `dict` to *supply* arguments to a function:"
   ]
  },
  {
   "cell_type": "code",
   "execution_count": 115,
   "id": "dcd4b1fd",
   "metadata": {},
   "outputs": [],
   "source": [
    "def other_way_magic(x, y, z):\n",
    "    return x + y + z\n",
    "\n",
    "x_y_list = [1, 2]\n",
    "z_dict = {\"z\": 3}\n",
    "assert other_way_magic(*x_y_list, **z_dict) == 6, \"1 + 2 + 3 should be 6\""
   ]
  },
  {
   "cell_type": "markdown",
   "id": "ce27de96",
   "metadata": {},
   "source": [
    "We will only use it to produce higher-order functions whose inputs can accept arbitrary arguments:"
   ]
  },
  {
   "cell_type": "code",
   "execution_count": 116,
   "id": "a9a6694f",
   "metadata": {},
   "outputs": [],
   "source": [
    "def doubler_correct(f):\n",
    "    \"\"\"works no matter what kind of inputs f expects\"\"\"\n",
    "    def g(*args, **kwargs):\n",
    "        \"\"\"whatever argument g is supplied, pass them through to f\"\"\"\n",
    "        return 2 * f(*args, **kwargs)\n",
    "    return g\n",
    "\n",
    "g = doubler_correct(f2)\n",
    "assert g(1, 2) == 6, \"doubler should work now\""
   ]
  },
  {
   "cell_type": "markdown",
   "id": "4f3f7d6d",
   "metadata": {},
   "source": [
    "Our code will be more correct and readable if we are explicit about what sorts of arguments our functions require. Use `args` and `kwargs` only when we have no other option."
   ]
  },
  {
   "cell_type": "markdown",
   "id": "16e1df6b",
   "metadata": {},
   "source": [
    "## Type Annotations\n",
    "\n",
    "A *dynamically typed* language is one that doesn't care about the types of objects we use, as long as we use them in valid ways. Python is a dynamically typed language:"
   ]
  },
  {
   "cell_type": "code",
   "execution_count": 118,
   "id": "0b019f15",
   "metadata": {},
   "outputs": [],
   "source": [
    "def add(a, b):\n",
    "    return a + b\n",
    "\n",
    "assert add(10, 5) == 15, \"+ is valid for numbers\"\n",
    "assert add([1, 2], [3]) == [1, 2, 3], \"+ is valid for lists\"\n",
    "assert add(\"hi \", \"there\") == \"hi there\", \"+ is valid for strings\""
   ]
  },
  {
   "cell_type": "code",
   "execution_count": 119,
   "id": "9de3bf0b",
   "metadata": {},
   "outputs": [
    {
     "name": "stdout",
     "output_type": "stream",
     "text": [
      "cannot add an int to a string\n"
     ]
    }
   ],
   "source": [
    "try:\n",
    "    add(10, \"five\")\n",
    "except TypeError:\n",
    "    print(\"cannot add an int to a string\")"
   ]
  },
  {
   "cell_type": "markdown",
   "id": "baaacedd",
   "metadata": {},
   "source": [
    "On the otherhand, *statically typed* languages require us to specify the types for our functions and objects:"
   ]
  },
  {
   "cell_type": "code",
   "execution_count": 120,
   "id": "3cdf0b93",
   "metadata": {},
   "outputs": [
    {
     "data": {
      "text/plain": [
       "'hi there'"
      ]
     },
     "execution_count": 120,
     "metadata": {},
     "output_type": "execute_result"
    }
   ],
   "source": [
    "def add(a: int, b: int) -> int:\n",
    "    return a + b\n",
    "\n",
    "add(10, 5) # you'd like this to be OK\n",
    "add(\"hi \", \"there\") # you'd like this to be not OK"
   ]
  },
  {
   "cell_type": "markdown",
   "id": "ff617a72",
   "metadata": {},
   "source": [
    "Notice how these type annotations don't actually *do* anything. We can still use the annotated `add` function to add strings, and the call to `add(10, \"five\")` will still raise the exact same `TypeError`.\n",
    "\n",
    "That said, there are at least four good reasons to use type annotation in our Python code:\n",
    "\n",
    "  * Types are a form of documentation. Compare the following two function stubs. The second one is more informative"
   ]
  },
  {
   "cell_type": "code",
   "execution_count": 121,
   "id": "640a0aa3",
   "metadata": {},
   "outputs": [],
   "source": [
    "# def dot_product(x, y): ...\n",
    "    \n",
    "# we have not yet defined Vector, but imagein we had\n",
    "# def dot_product(x: Vector, y: Vector) _> float: ..."
   ]
  },
  {
   "cell_type": "markdown",
   "id": "ff608649",
   "metadata": {},
   "source": [
    "  * There are external tools (e.g. `mypy`) that will read our code, inspect the type annotations, and let us know about type errors *before we ever run our code*.\n",
    "  * Forcing us to think about the types in our code makes us design cleaner functions and interfaces. The function whose `operation` parameter is allowed to be a `string`, or an `int`, or a `float`, or a `bool`. This is much more clear."
   ]
  },
  {
   "cell_type": "code",
   "execution_count": 122,
   "id": "0ea92772",
   "metadata": {},
   "outputs": [],
   "source": [
    "# from typing import Union\n",
    "\n",
    "# def secretly_ugly_function(value, operation): ...\n",
    "\n",
    "# def ugly_fuction(value: int,\n",
    "#                 operation: Union[str, int, float, bool]) -> int: ..."
   ]
  },
  {
   "cell_type": "markdown",
   "id": "f1f4e2c8",
   "metadata": {},
   "source": [
    "  * Using types allows out editor to help us with things like autocomplete and to get angry at type errors."
   ]
  },
  {
   "cell_type": "markdown",
   "id": "5f48b8c5",
   "metadata": {},
   "source": [
    "### How to Write Type Annotations\n",
    "\n",
    "For built-in types like `int` and `bool` and `float`, we just use the type itself as the annotation. What if we had a `list`?"
   ]
  },
  {
   "cell_type": "code",
   "execution_count": 124,
   "id": "7bce0da8",
   "metadata": {},
   "outputs": [],
   "source": [
    "def total(xs: list) -> float:\n",
    "    return sum(total)"
   ]
  },
  {
   "cell_type": "markdown",
   "id": "c6e55fdc",
   "metadata": {},
   "source": [
    "This isn't wrong, but the type is not specific enough: we want `xs` to be a `list` of `floats`, not a `list` of strings.\n",
    "\n",
    "The `typing` module provides a number of parameterized types that we can use to do this:"
   ]
  },
  {
   "cell_type": "code",
   "execution_count": 125,
   "id": "b2bfb9b2",
   "metadata": {},
   "outputs": [],
   "source": [
    "from typing import List # note capital L\n",
    "\n",
    "def total(xs: List[float]) -> float:\n",
    "    return sum(total)"
   ]
  },
  {
   "cell_type": "markdown",
   "id": "f2cca664",
   "metadata": {},
   "source": [
    "It's usually obvious what the type is for a variable:"
   ]
  },
  {
   "cell_type": "code",
   "execution_count": 126,
   "id": "c7298d86",
   "metadata": {},
   "outputs": [],
   "source": [
    "# This is how to type-annotate variable when you define them.\n",
    "# But this is unnecessary; it's \"obvious\" x is an int.\n",
    "x: int = 5"
   ]
  },
  {
   "cell_type": "markdown",
   "id": "38ac8841",
   "metadata": {},
   "source": [
    "But sometimes it's not obvious:"
   ]
  },
  {
   "cell_type": "code",
   "execution_count": 127,
   "id": "52daddd2",
   "metadata": {},
   "outputs": [],
   "source": [
    "values = [] # what's my type?\n",
    "best_so_far = None # what's my type?"
   ]
  },
  {
   "cell_type": "markdown",
   "id": "04c8c420",
   "metadata": {},
   "source": [
    "In these cases, we supply inline type hints:"
   ]
  },
  {
   "cell_type": "code",
   "execution_count": 128,
   "id": "b44bcc6b",
   "metadata": {},
   "outputs": [],
   "source": [
    "from typing import Optional\n",
    "\n",
    "values: List[int] = []\n",
    "best_so_far: Optional[float] = None # allowed to be either a float or None"
   ]
  },
  {
   "cell_type": "markdown",
   "id": "f8e367a9",
   "metadata": {},
   "source": [
    "The `typing` module contains many other types.\n",
    "\n",
    "Since Python has first-class functions, we need a type to represent those as well:"
   ]
  },
  {
   "cell_type": "code",
   "execution_count": 130,
   "id": "d51de066",
   "metadata": {},
   "outputs": [],
   "source": [
    "from typing import Callable\n",
    "\n",
    "# the type hint says that repeater is a function that takes\n",
    "# two arguments, a string and an int, and returns a string.\n",
    "def twice(repeater: Callable[[str, int], str], s: str) -> str:\n",
    "    return repeater(s, 2)\n",
    "\n",
    "def comma_repeater(s: str, n: int) -> str:\n",
    "    n_copies = [s for _ in range(n)]\n",
    "    return ', '.join(n_copies)\n",
    "\n",
    "assert twice(comma_repeater, \"type hints\") == \"type hints, type hints\""
   ]
  },
  {
   "cell_type": "markdown",
   "id": "8acb71f2",
   "metadata": {},
   "source": [
    "Since type annotations are just Python objects, we can assign them to variables to make them easier to refer to:"
   ]
  },
  {
   "cell_type": "code",
   "execution_count": 131,
   "id": "c2bc7258",
   "metadata": {},
   "outputs": [],
   "source": [
    "Number = int\n",
    "Numbers = List[Number]\n",
    "\n",
    "def total(xs: Numbers) -> Number:\n",
    "    return sum(xs)"
   ]
  }
 ],
 "metadata": {
  "kernelspec": {
   "display_name": "Python 3 (ipykernel)",
   "language": "python",
   "name": "python3"
  },
  "language_info": {
   "codemirror_mode": {
    "name": "ipython",
    "version": 3
   },
   "file_extension": ".py",
   "mimetype": "text/x-python",
   "name": "python",
   "nbconvert_exporter": "python",
   "pygments_lexer": "ipython3",
   "version": "3.9.7"
  }
 },
 "nbformat": 4,
 "nbformat_minor": 5
}
