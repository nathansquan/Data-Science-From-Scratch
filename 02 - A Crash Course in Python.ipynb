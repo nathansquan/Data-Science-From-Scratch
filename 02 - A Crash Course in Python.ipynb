{
 "cells": [
  {
   "cell_type": "markdown",
   "id": "28105946",
   "metadata": {},
   "source": [
    "# Data Science From Scratch Notes\n",
    "## Chapter 2: A Crash Course in Python\n",
    "\n",
    "## Functions\n",
    "\n",
    "Define functions using `def:`"
   ]
  },
  {
   "cell_type": "code",
   "execution_count": 1,
   "id": "c4f79cfb",
   "metadata": {},
   "outputs": [],
   "source": [
    "def double(x):\n",
    "    \"\"\"\n",
    "    Place optional docstring that explains what the functioin does. \n",
    "    For example, this function multiplies its input by 2\n",
    "    \"\"\"\n",
    "    return x * 2\n"
   ]
  },
  {
   "cell_type": "code",
   "execution_count": 2,
   "id": "4cf279b7",
   "metadata": {},
   "outputs": [
    {
     "data": {
      "text/plain": [
       "4"
      ]
     },
     "execution_count": 2,
     "metadata": {},
     "output_type": "execute_result"
    }
   ],
   "source": [
    "double(2)"
   ]
  },
  {
   "cell_type": "markdown",
   "id": "9f33c014",
   "metadata": {},
   "source": [
    "Python functions are *first class*: Functions can be assigned to variables and passed into functions"
   ]
  },
  {
   "cell_type": "code",
   "execution_count": 3,
   "id": "05d36694",
   "metadata": {},
   "outputs": [],
   "source": [
    "def apply_to_one(f):\n",
    "    \"\"\"Calls the function f with 1 as its argument\"\"\"\n",
    "    return f(1)\n",
    "\n",
    "my_double = double # refers to the previously defined function\n",
    "x = apply_to_one(my_double)"
   ]
  },
  {
   "cell_type": "code",
   "execution_count": 4,
   "id": "16769a66",
   "metadata": {},
   "outputs": [
    {
     "data": {
      "text/plain": [
       "2"
      ]
     },
     "execution_count": 4,
     "metadata": {},
     "output_type": "execute_result"
    }
   ],
   "source": [
    "x"
   ]
  },
  {
   "cell_type": "markdown",
   "id": "a32b1fe7",
   "metadata": {},
   "source": [
    "*Lambda Functions*: Short anonymous functions.\n",
    "\n",
    "The code below asks the lambda function to use 1 as its argument for x"
   ]
  },
  {
   "cell_type": "code",
   "execution_count": 5,
   "id": "aa53e6c8",
   "metadata": {},
   "outputs": [
    {
     "data": {
      "text/plain": [
       "5"
      ]
     },
     "execution_count": 5,
     "metadata": {},
     "output_type": "execute_result"
    }
   ],
   "source": [
    "y = apply_to_one(lambda x: x + 4) # equals 5\n",
    "y"
   ]
  },
  {
   "cell_type": "markdown",
   "id": "02e21dec",
   "metadata": {},
   "source": [
    "Function parameters can be given default arguments."
   ]
  },
  {
   "cell_type": "code",
   "execution_count": 6,
   "id": "bf788b3a",
   "metadata": {},
   "outputs": [
    {
     "name": "stdout",
     "output_type": "stream",
     "text": [
      "hello\n",
      "my default message\n"
     ]
    }
   ],
   "source": [
    "def my_print(message = \"my default message\"):\n",
    "    print(message)\n",
    "    \n",
    "my_print(\"hello\") # prints 'hello'\n",
    "my_print() # prints 'my default message'"
   ]
  },
  {
   "cell_type": "markdown",
   "id": "5e36ed1f",
   "metadata": {},
   "source": [
    "You can specify arguments by name as well."
   ]
  },
  {
   "cell_type": "code",
   "execution_count": 7,
   "id": "3ac2f1ae",
   "metadata": {},
   "outputs": [
    {
     "data": {
      "text/plain": [
       "\"What's-his-name Grus\""
      ]
     },
     "execution_count": 7,
     "metadata": {},
     "output_type": "execute_result"
    }
   ],
   "source": [
    "def full_name(first = \"What's-his-name\", last = \"Something\"):\n",
    "    return first + \" \" + last\n",
    "\n",
    "full_name(\"Joel\", \"Grus\") # \"Joel Grus\"\n",
    "full_name(\"Joel\") # \"Joel Something\"\n",
    "full_name(last = \"Grus\") # \"What's-his-name Grus\""
   ]
  },
  {
   "cell_type": "markdown",
   "id": "219457e8",
   "metadata": {},
   "source": [
    "## Strings\n",
    "\n",
    "* Strings can be delimited by single or double quotation marks\n",
    "\n",
    "* Backslashes are used to encode special characters"
   ]
  },
  {
   "cell_type": "code",
   "execution_count": 8,
   "id": "c29a83c1",
   "metadata": {},
   "outputs": [
    {
     "data": {
      "text/plain": [
       "'\\t'"
      ]
     },
     "execution_count": 8,
     "metadata": {},
     "output_type": "execute_result"
    }
   ],
   "source": [
    "tab_string = \"\\t\"\n",
    "tab_string\n"
   ]
  },
  {
   "cell_type": "markdown",
   "id": "661962c5",
   "metadata": {},
   "source": [
    "* to actually write backslashes, use raw strings by `r\"\"`"
   ]
  },
  {
   "cell_type": "code",
   "execution_count": 9,
   "id": "4769e538",
   "metadata": {},
   "outputs": [
    {
     "data": {
      "text/plain": [
       "'\\\\t'"
      ]
     },
     "execution_count": 9,
     "metadata": {},
     "output_type": "execute_result"
    }
   ],
   "source": [
    "not_tab_string = r\"\\t\"\n",
    "not_tab_string"
   ]
  },
  {
   "cell_type": "markdown",
   "id": "33a09dc1",
   "metadata": {},
   "source": [
    "* Create multiline strings using three double quotes"
   ]
  },
  {
   "cell_type": "code",
   "execution_count": 10,
   "id": "a45fb795",
   "metadata": {},
   "outputs": [
    {
     "data": {
      "text/plain": [
       "'This is the first line.\\nand this is the second line\\nand this is the third line'"
      ]
     },
     "execution_count": 10,
     "metadata": {},
     "output_type": "execute_result"
    }
   ],
   "source": [
    "multi_line_string = \"\"\"This is the first line.\n",
    "and this is the second line\n",
    "and this is the third line\"\"\"\n",
    "\n",
    "multi_line_string"
   ]
  },
  {
   "cell_type": "markdown",
   "id": "b48e1b18",
   "metadata": {},
   "source": [
    "* *f-string*: substitute values into strings"
   ]
  },
  {
   "cell_type": "code",
   "execution_count": 11,
   "id": "0fb4b755",
   "metadata": {},
   "outputs": [
    {
     "name": "stdout",
     "output_type": "stream",
     "text": [
      "Joel Grus\n",
      "Joel Grus\n",
      "Joel Grus\n"
     ]
    }
   ],
   "source": [
    "first_name = \"Joel\"\n",
    "last_name = \"Grus\"\n",
    "\n",
    "full_name1 = first_name + \" \" + last_name # string addition\n",
    "full_name2 = \"{0} {1}\".format(first_name, last_name) # string.format\n",
    "full_name3 = f\"{first_name} {last_name}\" # f-string method\n",
    "\n",
    "print(full_name1)\n",
    "print(full_name2)\n",
    "print(full_name3)"
   ]
  },
  {
   "cell_type": "markdown",
   "id": "5d678061",
   "metadata": {},
   "source": [
    "## Exceptions\n",
    "\n",
    "*Exceptions* are when something goes wrong. Exceptions will cause the program to crash. Handle them using `try` and `except`:"
   ]
  },
  {
   "cell_type": "code",
   "execution_count": 12,
   "id": "f2cff345",
   "metadata": {},
   "outputs": [
    {
     "name": "stdout",
     "output_type": "stream",
     "text": [
      "cannot divide by zero\n"
     ]
    }
   ],
   "source": [
    "try:\n",
    "    print(0/0)\n",
    "except ZeroDivisionError:\n",
    "    print(\"cannot divide by zero\")"
   ]
  },
  {
   "cell_type": "markdown",
   "id": "a4733bd9",
   "metadata": {},
   "source": [
    "## Lists\n",
    "\n",
    "The fundamental data structure in Python is the *list*.\n",
    "\n",
    "*List*: an ordered collection of just about any data structure. Similar to R's lists where they can be nested as well.\n",
    "\n",
    "Lists are 0-indexed."
   ]
  },
  {
   "cell_type": "code",
   "execution_count": 13,
   "id": "b8176890",
   "metadata": {},
   "outputs": [],
   "source": [
    "integer_list = [1, 2, 3]\n",
    "heterogeneous_list = [\"string\", 0.1, True]\n",
    "list_of_lists = [integer_list, heterogeneous_list, []] # [] denotes an empty list\n",
    "\n",
    "list_length = len(integer_list) # equals 3\n",
    "list_sum = sum(integer_list) # equals 6"
   ]
  },
  {
   "cell_type": "markdown",
   "id": "5df1c49f",
   "metadata": {},
   "source": [
    "Use square brackets to get or set the *n*th element of a list:"
   ]
  },
  {
   "cell_type": "code",
   "execution_count": 14,
   "id": "f5aa16cc",
   "metadata": {},
   "outputs": [
    {
     "name": "stdout",
     "output_type": "stream",
     "text": [
      "0\n",
      "1\n",
      "9\n",
      "8\n",
      "[-1, 1, 2, 3, 4, 5, 6, 7, 8, 9]\n"
     ]
    }
   ],
   "source": [
    "x = [0, 1, 2, 3, 4, 5, 6, 7, 8, 9]\n",
    "\n",
    "zero = x[0] # equals 0\n",
    "print(zero)\n",
    "one = x[1] # equals 1\n",
    "print(one)\n",
    "nine = x[-1] # equals 9, 'Pythonic' for last element\n",
    "print(nine)\n",
    "eight = x[-2] # equals 8, 'Pythonic' for next-to-last element\n",
    "print(eight)\n",
    "x[0] = -1 # now x is [-1, 1, 2, 3, ..., 9]\n",
    "print(x)"
   ]
  },
  {
   "cell_type": "markdown",
   "id": "cc5e17f1",
   "metadata": {},
   "source": [
    "* Square brackets also allow us to *slice* lists\n",
    "* slice *i:j* means all elements from *i* (inclusive) to *j* (not inclusive)"
   ]
  },
  {
   "cell_type": "code",
   "execution_count": 15,
   "id": "29667624",
   "metadata": {},
   "outputs": [
    {
     "name": "stdout",
     "output_type": "stream",
     "text": [
      "[-1, 1, 2]\n",
      "[3, 4, 5, 6, 7, 8, 9]\n",
      "[1, 2, 3, 4]\n",
      "[7, 8, 9]\n",
      "[1, 2, 3, 4, 5, 6, 7, 8]\n",
      "[-1, 1, 2, 3, 4, 5, 6, 7, 8, 9]\n"
     ]
    }
   ],
   "source": [
    "first_three = x[:3] # [-1, 1, 2]\n",
    "print(first_three)\n",
    "\n",
    "three_to_end = x[3:] # [3, 4, ..., 9]\n",
    "print(three_to_end)\n",
    "\n",
    "one_to_four = x[1:5] # [1, 2, 3, 4]\n",
    "print(one_to_four)\n",
    "\n",
    "last_three = x[-3:] # [7, 8, 9]\n",
    "print(last_three)\n",
    "\n",
    "without_first_and_last = x[1:-1] # [1, 2, 3, ..., 8]\n",
    "print(without_first_and_last)\n",
    "\n",
    "copy_of_x = x[:] # [-1, 1, 2, ...,9]\n",
    "print(copy_of_x)"
   ]
  },
  {
   "cell_type": "markdown",
   "id": "807f2746",
   "metadata": {},
   "source": [
    "* You can also slice strings and other \"sequential\" types\n",
    "\n",
    "* A slice can take a third argument to indicate its *stride*, which can also be negative\n",
    "    * Implicitly, the stride argument defaults to 1"
   ]
  },
  {
   "cell_type": "code",
   "execution_count": 16,
   "id": "420a4a63",
   "metadata": {},
   "outputs": [
    {
     "name": "stdout",
     "output_type": "stream",
     "text": [
      "[-1, 3, 6, 9]\n",
      "[5, 4, 3]\n"
     ]
    }
   ],
   "source": [
    "every_third = x[::3]\n",
    "print(every_third)\n",
    "\n",
    "five_to_three = x[5:2:-1]\n",
    "print(five_to_three)"
   ]
  },
  {
   "cell_type": "markdown",
   "id": "dd41c8ad",
   "metadata": {},
   "source": [
    "The *in* operator checks for list membership:"
   ]
  },
  {
   "cell_type": "code",
   "execution_count": 17,
   "id": "458a25e1",
   "metadata": {},
   "outputs": [
    {
     "data": {
      "text/plain": [
       "True"
      ]
     },
     "execution_count": 17,
     "metadata": {},
     "output_type": "execute_result"
    }
   ],
   "source": [
    "1 in [1,2,3] # True"
   ]
  },
  {
   "cell_type": "code",
   "execution_count": 18,
   "id": "0dd2a178",
   "metadata": {},
   "outputs": [
    {
     "data": {
      "text/plain": [
       "False"
      ]
     },
     "execution_count": 18,
     "metadata": {},
     "output_type": "execute_result"
    }
   ],
   "source": [
    "0 in [1,2,3] # False"
   ]
  },
  {
   "cell_type": "markdown",
   "id": "3ea036bd",
   "metadata": {},
   "source": [
    "* There are three ways to concatenate lists together\n",
    "    1. Use `extend` to modify a list in place\n",
    "    2. Use list addition if you don't want to modify the list\n",
    "    3. Use `append` to to append to lists one item at a time"
   ]
  },
  {
   "cell_type": "code",
   "execution_count": 19,
   "id": "7b5fd847",
   "metadata": {},
   "outputs": [
    {
     "data": {
      "text/plain": [
       "[1, 2, 3, 4, 5, 6]"
      ]
     },
     "execution_count": 19,
     "metadata": {},
     "output_type": "execute_result"
    }
   ],
   "source": [
    "x = [1,2,3]\n",
    "x.extend([4,5,6])\n",
    "x"
   ]
  },
  {
   "cell_type": "code",
   "execution_count": 20,
   "id": "45c78824",
   "metadata": {},
   "outputs": [
    {
     "data": {
      "text/plain": [
       "[1, 2, 3, 4, 5, 6]"
      ]
     },
     "execution_count": 20,
     "metadata": {},
     "output_type": "execute_result"
    }
   ],
   "source": [
    "x = [1,2,3]\n",
    "y = x + [4,5,6]\n",
    "y"
   ]
  },
  {
   "cell_type": "code",
   "execution_count": 21,
   "id": "668b4375",
   "metadata": {},
   "outputs": [
    {
     "name": "stdout",
     "output_type": "stream",
     "text": [
      "[1, 2, 3, 0]\n",
      "0\n",
      "4\n"
     ]
    }
   ],
   "source": [
    "x = [1,2,3]\n",
    "x.append(0)\n",
    "y = x[-1]\n",
    "z = len(x)\n",
    "print(x)\n",
    "print(y)\n",
    "print(z)"
   ]
  },
  {
   "cell_type": "markdown",
   "id": "e322457c",
   "metadata": {},
   "source": [
    "If you know how many elements a list contains, you can *unpack* the list:"
   ]
  },
  {
   "cell_type": "code",
   "execution_count": 22,
   "id": "4e7d986e",
   "metadata": {},
   "outputs": [
    {
     "name": "stdout",
     "output_type": "stream",
     "text": [
      "1\n",
      "2\n"
     ]
    }
   ],
   "source": [
    "x, y = [1, 2] # now x is 1, y is 2\n",
    "print(x)\n",
    "print(y)"
   ]
  },
  {
   "cell_type": "markdown",
   "id": "b23e93d5",
   "metadata": {},
   "source": [
    "Use an underscore for a value if you're going to throw away:"
   ]
  },
  {
   "cell_type": "code",
   "execution_count": 23,
   "id": "e8110daa",
   "metadata": {},
   "outputs": [
    {
     "data": {
      "text/plain": [
       "2"
      ]
     },
     "execution_count": 23,
     "metadata": {},
     "output_type": "execute_result"
    }
   ],
   "source": [
    "_, y = [1, 2] # now y == 2, didn't care about the first element\n",
    "y"
   ]
  },
  {
   "cell_type": "markdown",
   "id": "29b68843",
   "metadata": {},
   "source": [
    "## Tuples\n",
    "\n",
    "*Tuples*: lists' immutable cousin. Everything you can do to a list except modifying it can be done to a tuple. Tuples are specified using parentheses (or nothing) instead of square brackets:"
   ]
  },
  {
   "cell_type": "code",
   "execution_count": 24,
   "id": "8ccc3bfb",
   "metadata": {},
   "outputs": [
    {
     "name": "stdout",
     "output_type": "stream",
     "text": [
      "cannot modify a tuple\n"
     ]
    }
   ],
   "source": [
    "my_list = [1, 2]\n",
    "my_tuple = (1, 2)\n",
    "other_tuple = 3, 4\n",
    "\n",
    "my_list[1] = 3 # my_list is now[1, 3]\n",
    "\n",
    "try:\n",
    "    my_tuple[1] = 3\n",
    "except TypeError:\n",
    "    print(\"cannot modify a tuple\")"
   ]
  },
  {
   "cell_type": "markdown",
   "id": "61b98b60",
   "metadata": {},
   "source": [
    "Tuples are a convenient way to return multiple values from functions:"
   ]
  },
  {
   "cell_type": "code",
   "execution_count": 25,
   "id": "8198f520",
   "metadata": {},
   "outputs": [
    {
     "name": "stdout",
     "output_type": "stream",
     "text": [
      "(5, 6)\n",
      "15\n",
      "50\n"
     ]
    }
   ],
   "source": [
    "def sum_and_product(x, y):\n",
    "    return (x + y), (x * y)\n",
    "\n",
    "sp = sum_and_product(2, 3) # sp is (5, 6)\n",
    "print(sp)\n",
    "\n",
    "s, p = sum_and_product(5, 10) # s is 15 and p is 50\n",
    "print(s)\n",
    "print(p)"
   ]
  },
  {
   "cell_type": "markdown",
   "id": "7f7ac3cc",
   "metadata": {},
   "source": [
    "## Dictionaries\n",
    "\n",
    "Dictionaries associate *values* with *keys* and allow us to quickly retrieve the value corresponding to a given key:"
   ]
  },
  {
   "cell_type": "code",
   "execution_count": 26,
   "id": "54563265",
   "metadata": {},
   "outputs": [
    {
     "data": {
      "text/plain": [
       "{'Joel': 80, 'Tim': 95}"
      ]
     },
     "execution_count": 26,
     "metadata": {},
     "output_type": "execute_result"
    }
   ],
   "source": [
    "empty_dict = {} # Pythonic\n",
    "empty_dict2 = dict() # less Pythonic\n",
    "grades = {\"Joel\": 80, \"Tim\": 95} # dictionary literal\n",
    "grades"
   ]
  },
  {
   "cell_type": "markdown",
   "id": "a2aba874",
   "metadata": {},
   "source": [
    "Values for a key in a dictionary are looked up using square brackets:"
   ]
  },
  {
   "cell_type": "code",
   "execution_count": 27,
   "id": "6e470441",
   "metadata": {},
   "outputs": [
    {
     "data": {
      "text/plain": [
       "80"
      ]
     },
     "execution_count": 27,
     "metadata": {},
     "output_type": "execute_result"
    }
   ],
   "source": [
    "joels_grade = grades[\"Joel\"] # equals 80\n",
    "joels_grade"
   ]
  },
  {
   "cell_type": "markdown",
   "id": "c0fef772",
   "metadata": {},
   "source": [
    "We will get a `KeyError` if we ask for a key that's not in the dictionary:"
   ]
  },
  {
   "cell_type": "code",
   "execution_count": 28,
   "id": "6f82ba97",
   "metadata": {},
   "outputs": [
    {
     "name": "stdout",
     "output_type": "stream",
     "text": [
      "no grade for Kate!\n"
     ]
    }
   ],
   "source": [
    "try:\n",
    "    kates_grade = grades[\"Kate\"]\n",
    "except KeyError:\n",
    "    print(\"no grade for Kate!\")"
   ]
  },
  {
   "cell_type": "markdown",
   "id": "450a5662",
   "metadata": {},
   "source": [
    "Check for the existence of a key using `in`:"
   ]
  },
  {
   "cell_type": "code",
   "execution_count": 29,
   "id": "0c575267",
   "metadata": {},
   "outputs": [
    {
     "data": {
      "text/plain": [
       "True"
      ]
     },
     "execution_count": 29,
     "metadata": {},
     "output_type": "execute_result"
    }
   ],
   "source": [
    "joel_has_grade = \"Joel\" in grades # True\n",
    "joel_has_grade"
   ]
  },
  {
   "cell_type": "code",
   "execution_count": 30,
   "id": "8130751e",
   "metadata": {},
   "outputs": [
    {
     "data": {
      "text/plain": [
       "False"
      ]
     },
     "execution_count": 30,
     "metadata": {},
     "output_type": "execute_result"
    }
   ],
   "source": [
    "kate_has_grade = \"Kate\" in grades # False\n",
    "kate_has_grade"
   ]
  },
  {
   "cell_type": "markdown",
   "id": "d28d9330",
   "metadata": {},
   "source": [
    "Dictionaries have a `get` method that returns a default value (instead of raising an exception) when looking up a key that's not in the dicitonary:"
   ]
  },
  {
   "cell_type": "code",
   "execution_count": 31,
   "id": "1f2f7b21",
   "metadata": {},
   "outputs": [
    {
     "name": "stdout",
     "output_type": "stream",
     "text": [
      "80\n",
      "0\n",
      "None\n"
     ]
    }
   ],
   "source": [
    "joels_grade = grades.get(\"Joel\", 0) # second argument is what you can set as the default value\n",
    "print(joels_grade)\n",
    "\n",
    "kates_grade = grades.get(\"Kate\", 0) # Equals 0\n",
    "print(kates_grade)\n",
    "\n",
    "no_ones_grade = grades.get(\"No One\") # if second argument is not supplied, the default is None\n",
    "print(no_ones_grade)"
   ]
  },
  {
   "cell_type": "markdown",
   "id": "8dfb9700",
   "metadata": {},
   "source": [
    "Key/value pairs can be assigned using square brackets:"
   ]
  },
  {
   "cell_type": "code",
   "execution_count": 32,
   "id": "b927a313",
   "metadata": {},
   "outputs": [
    {
     "name": "stdout",
     "output_type": "stream",
     "text": [
      "{'Joel': 80, 'Tim': 99}\n",
      "{'Joel': 80, 'Tim': 99, 'Kate': 100}\n",
      "3\n"
     ]
    }
   ],
   "source": [
    "grades[\"Tim\"] = 99 # replaces the old value\n",
    "print(grades)\n",
    "\n",
    "grades[\"Kate\"] = 100 # adds a third entry\n",
    "print(grades)\n",
    "\n",
    "num_students = len(grades) # equals 3\n",
    "print(num_students)"
   ]
  },
  {
   "cell_type": "markdown",
   "id": "8d8cad89",
   "metadata": {},
   "source": [
    "Dictionaries can be used to represent structured data:"
   ]
  },
  {
   "cell_type": "code",
   "execution_count": 33,
   "id": "5ecf024d",
   "metadata": {},
   "outputs": [
    {
     "data": {
      "text/plain": [
       "{'user': 'joelgrus',\n",
       " 'text': 'Data Science is Awesome',\n",
       " 'retweet_count': 100,\n",
       " 'hashtags': ['#data', '#science', 'datascience', 'awesome', 'yolo']}"
      ]
     },
     "execution_count": 33,
     "metadata": {},
     "output_type": "execute_result"
    }
   ],
   "source": [
    "tweet = {\n",
    "    \"user\" : \"joelgrus\",\n",
    "    \"text\" : \"Data Science is Awesome\",\n",
    "    \"retweet_count\" : 100,\n",
    "    \"hashtags\" : [\"#data\", \"#science\", \"datascience\", \"awesome\", \"yolo\"]\n",
    "}\n",
    "\n",
    "tweet"
   ]
  },
  {
   "cell_type": "markdown",
   "id": "44f8825e",
   "metadata": {},
   "source": [
    " In addition to looking for specific keys, we can also look at all of the keys:"
   ]
  },
  {
   "cell_type": "code",
   "execution_count": 34,
   "id": "42812831",
   "metadata": {},
   "outputs": [
    {
     "name": "stdout",
     "output_type": "stream",
     "text": [
      "dict_keys(['user', 'text', 'retweet_count', 'hashtags'])\n",
      "dict_values(['joelgrus', 'Data Science is Awesome', 100, ['#data', '#science', 'datascience', 'awesome', 'yolo']])\n",
      "<built-in method items of dict object at 0x111387040>\n"
     ]
    }
   ],
   "source": [
    "tweet_keys = tweet.keys() # iterable for the keys\n",
    "print(tweet_keys)\n",
    "\n",
    "tweet_values = tweet.values() # iterable for the values\n",
    "print(tweet_values)\n",
    "\n",
    "tweet_items = tweet.items() # iterable for the (key, value) tuples\n",
    "print(tweet.items)\n",
    "\n"
   ]
  },
  {
   "cell_type": "code",
   "execution_count": 35,
   "id": "108dfbd2",
   "metadata": {},
   "outputs": [
    {
     "data": {
      "text/plain": [
       "True"
      ]
     },
     "execution_count": 35,
     "metadata": {},
     "output_type": "execute_result"
    }
   ],
   "source": [
    "\"user\" in tweet_keys # Check for existence of \"user\". True, but not Pythonic\n"
   ]
  },
  {
   "cell_type": "code",
   "execution_count": 36,
   "id": "4db116fd",
   "metadata": {},
   "outputs": [
    {
     "data": {
      "text/plain": [
       "True"
      ]
     },
     "execution_count": 36,
     "metadata": {},
     "output_type": "execute_result"
    }
   ],
   "source": [
    "\"user\" in tweet # Pythonic way of checking for keys"
   ]
  },
  {
   "cell_type": "code",
   "execution_count": 37,
   "id": "603005c6",
   "metadata": {},
   "outputs": [
    {
     "data": {
      "text/plain": [
       "True"
      ]
     },
     "execution_count": 37,
     "metadata": {},
     "output_type": "execute_result"
    }
   ],
   "source": [
    "\"joelgrus\" in tweet_values # True (slow but only way to check values)"
   ]
  },
  {
   "cell_type": "markdown",
   "id": "6811ef7c",
   "metadata": {},
   "source": [
    "We cannot use lists as keys (keys must be \"hashable\"). If we need a multipart key, use a tuple or turn the key into a string."
   ]
  },
  {
   "cell_type": "markdown",
   "id": "d3c5425d",
   "metadata": {},
   "source": [
    "### defaultdict\n",
    "\n",
    "`defaultdict`: When you try to look up a key it doesn't contain, it firsts adds a value for it using a zero-argument function you provided. Use `defaultdicts` by importing them from `collections`:"
   ]
  },
  {
   "cell_type": "code",
   "execution_count": 38,
   "id": "febe310d",
   "metadata": {},
   "outputs": [],
   "source": [
    "from collections import defaultdict\n",
    "\n",
    "# word_counts = defaultdict(int) # int() produces 0\n",
    "# for word in document:\n",
    "#     word_counts[word] += 1"
   ]
  },
  {
   "cell_type": "markdown",
   "id": "e45c2c0c",
   "metadata": {},
   "source": [
    "`defaultdicts` can also be used with `list`, `dict`, and lambda functions"
   ]
  },
  {
   "cell_type": "code",
   "execution_count": 39,
   "id": "9dcf6fa7",
   "metadata": {},
   "outputs": [
    {
     "name": "stdout",
     "output_type": "stream",
     "text": [
      "defaultdict(<class 'list'>, {})\n",
      "defaultdict(<class 'list'>, {2: [1]})\n"
     ]
    }
   ],
   "source": [
    "dd_list = defaultdict(list) # list() produces an empty list\n",
    "print(dd_list)\n",
    "dd_list[2].append(1) # now dd_list contains {2: [1]}\n",
    "print(dd_list)"
   ]
  },
  {
   "cell_type": "code",
   "execution_count": 40,
   "id": "3ec353b2",
   "metadata": {},
   "outputs": [
    {
     "name": "stdout",
     "output_type": "stream",
     "text": [
      "defaultdict(<class 'dict'>, {})\n",
      "defaultdict(<class 'dict'>, {'Joel': {'City': 'Seattle'}})\n"
     ]
    }
   ],
   "source": [
    "dd_dict = defaultdict(dict) # dict() produces an empty dict\n",
    "print(dd_dict)\n",
    "dd_dict[\"Joel\"][\"City\"] = \"Seattle\" # {\"Joel\" : {\"City\": \"Seattle\"}}\n",
    "print(dd_dict)"
   ]
  },
  {
   "cell_type": "code",
   "execution_count": 41,
   "id": "2adacdcc",
   "metadata": {},
   "outputs": [
    {
     "name": "stdout",
     "output_type": "stream",
     "text": [
      "defaultdict(<function <lambda> at 0x11138ba60>, {})\n",
      "defaultdict(<function <lambda> at 0x11138ba60>, {2: [0, 2]})\n"
     ]
    }
   ],
   "source": [
    "dd_pair = defaultdict(lambda: [0, 0])\n",
    "print(dd_pair)\n",
    "dd_pair[2][1] = 2\n",
    "print(dd_pair)"
   ]
  },
  {
   "cell_type": "markdown",
   "id": "766697c3",
   "metadata": {},
   "source": [
    "## Counters\n",
    "\n",
    "A `Counter` converts a sequence of values into a `defaultdict(int)`-like object mapping keys to counts:"
   ]
  },
  {
   "cell_type": "code",
   "execution_count": 42,
   "id": "dd6631a7",
   "metadata": {},
   "outputs": [
    {
     "name": "stdout",
     "output_type": "stream",
     "text": [
      "Counter({0: 2, 1: 1, 2: 1})\n"
     ]
    }
   ],
   "source": [
    "from collections import Counter\n",
    "c = Counter([0, 1, 2, 0]) # c is {0: 2, 1: 1, 2: 1}\n",
    "print(c)"
   ]
  },
  {
   "cell_type": "markdown",
   "id": "7ec6bf38",
   "metadata": {},
   "source": [
    "We can also use the `most_common` method from a `Counter` instance:"
   ]
  },
  {
   "cell_type": "code",
   "execution_count": 43,
   "id": "99bc0378",
   "metadata": {},
   "outputs": [
    {
     "name": "stdout",
     "output_type": "stream",
     "text": [
      "Counter({1: 5, 0: 3, 2: 2})\n",
      "1 5\n",
      "0 3\n"
     ]
    }
   ],
   "source": [
    "# print the 2 most common numbers and their counts in c\n",
    "c = Counter([0, 1, 2, 0, 0, 1, 1, 1, 1, 2])\n",
    "print(c)\n",
    "\n",
    "for num, count in c.most_common(2):\n",
    "    print(num, count)"
   ]
  },
  {
   "cell_type": "markdown",
   "id": "13bdbabc",
   "metadata": {},
   "source": [
    "## Sets\n",
    "\n"
   ]
  },
  {
   "cell_type": "markdown",
   "id": "9678647b",
   "metadata": {},
   "source": [
    "A set is another Python data structure. It represents a collection of *distinct* elements. Define a set by listing its elements between curly braces:"
   ]
  },
  {
   "cell_type": "code",
   "execution_count": 44,
   "id": "5b18a0fb",
   "metadata": {},
   "outputs": [],
   "source": [
    "primes_below_10 = {2, 3, 5, 7}"
   ]
  },
  {
   "cell_type": "markdown",
   "id": "ff2fd40a",
   "metadata": {},
   "source": [
    "Keep in mind that you can't use `{}` to denote an empty set. Recall in the **Dictionaries** section that assigning `{}` to a variable denotes an `empty dict`. In order to create an empty set, we use `set()`:"
   ]
  },
  {
   "cell_type": "code",
   "execution_count": 45,
   "id": "32f77adc",
   "metadata": {},
   "outputs": [
    {
     "name": "stdout",
     "output_type": "stream",
     "text": [
      "set()\n",
      "{1}\n",
      "{1, 2}\n",
      "{1, 2}\n"
     ]
    }
   ],
   "source": [
    "s = set()\n",
    "print(s)\n",
    "s.add(1) # s is now {1}\n",
    "print(s)\n",
    "s.add(2) # s is now {1, 2}\n",
    "print(s)\n",
    "s.add(2) # s is still {1, 2} because sets represent a collection of distinct elements\n",
    "print(s)"
   ]
  },
  {
   "cell_type": "markdown",
   "id": "7e74ec07",
   "metadata": {},
   "source": [
    "Sets are used for two main reasons:\n",
    "\n",
    "   1. `in` is a very fast operation on sets. Thus it is more appropriate to use a set to conduct a membership test than using a list.\n",
    "   2. Use sets to find the *distinct* items in a collection."
   ]
  },
  {
   "cell_type": "code",
   "execution_count": 46,
   "id": "bf7939de",
   "metadata": {},
   "outputs": [],
   "source": [
    "# Using in\n",
    "# stopwords_list = [\"a\", \"an\", \"at\"] + hundreds_of_other_words + [\"yet\", \"you\"]\n",
    "\n",
    "# \"zip\" in stopwords_list # False, but have to check every element\n",
    "\n",
    "# stopwords_set = set(stopwords_list)\n",
    "# \"zip\" in stopwords_set # very fast to check"
   ]
  },
  {
   "cell_type": "code",
   "execution_count": 47,
   "id": "6a0fff5a",
   "metadata": {},
   "outputs": [
    {
     "name": "stdout",
     "output_type": "stream",
     "text": [
      "[1, 2, 3, 1, 2, 3]\n",
      "{1, 2, 3}\n",
      "[1, 2, 3]\n"
     ]
    }
   ],
   "source": [
    "# Finding distinct items\n",
    "item_list = [1, 2, 3, 1, 2, 3]\n",
    "print(item_list)\n",
    "num_items = len(item_list) # 6\n",
    "item_set = set(item_list) # {1, 2, 3}\n",
    "print(item_set)\n",
    "num_distinct_items = len(item_set) # 3\n",
    "distinct_item_list = list(item_set) # [1, 2, 3]\n",
    "print(distinct_item_list)"
   ]
  },
  {
   "cell_type": "markdown",
   "id": "845212cc",
   "metadata": {},
   "source": [
    "## Control Flow\n",
    "\n",
    "You can perform an action conditionally using an `if` statement:"
   ]
  },
  {
   "cell_type": "code",
   "execution_count": 50,
   "id": "b2723ea4",
   "metadata": {},
   "outputs": [],
   "source": [
    "if 1 > 2:\n",
    "    message = \"if only 1 were greater than two...\"\n",
    "elif 1 > 3:\n",
    "    message = \"elif stands for 'else if'\"\n",
    "else:\n",
    "    message = \"when all else fails use els (if you want to)\""
   ]
  },
  {
   "cell_type": "markdown",
   "id": "c50cd0cf",
   "metadata": {},
   "source": [
    "*Ternary* if-then-else statements can be made on one line as well:"
   ]
  },
  {
   "cell_type": "code",
   "execution_count": 51,
   "id": "5d173a38",
   "metadata": {},
   "outputs": [],
   "source": [
    "parity = \"even\" if x % 2 == 0 else \"odd\""
   ]
  },
  {
   "cell_type": "markdown",
   "id": "b4058151",
   "metadata": {},
   "source": [
    "Python's implementation of `while` loops:"
   ]
  },
  {
   "cell_type": "code",
   "execution_count": 52,
   "id": "406b6d90",
   "metadata": {},
   "outputs": [
    {
     "name": "stdout",
     "output_type": "stream",
     "text": [
      "0 is less than 10\n",
      "1 is less than 10\n",
      "2 is less than 10\n",
      "3 is less than 10\n",
      "4 is less than 10\n",
      "5 is less than 10\n",
      "6 is less than 10\n",
      "7 is less than 10\n",
      "8 is less than 10\n",
      "9 is less than 10\n"
     ]
    }
   ],
   "source": [
    "x = 0\n",
    "while x < 10:\n",
    "    print(f\"{x} is less than 10\")\n",
    "    x += 1"
   ]
  },
  {
   "cell_type": "markdown",
   "id": "0d5a9cb6",
   "metadata": {},
   "source": [
    "But `for` and `in` are more commonly used:"
   ]
  },
  {
   "cell_type": "code",
   "execution_count": 53,
   "id": "b41ef81d",
   "metadata": {},
   "outputs": [
    {
     "name": "stdout",
     "output_type": "stream",
     "text": [
      "0 is less than 10\n",
      "1 is less than 10\n",
      "2 is less than 10\n",
      "3 is less than 10\n",
      "4 is less than 10\n",
      "5 is less than 10\n",
      "6 is less than 10\n",
      "7 is less than 10\n",
      "8 is less than 10\n",
      "9 is less than 10\n"
     ]
    }
   ],
   "source": [
    "# range(10) is the numbers 0, 1, 2,..., 9\n",
    "for x in range(10):\n",
    "    print(f\"{x} is less than 10\")"
   ]
  },
  {
   "cell_type": "markdown",
   "id": "fdfabadb",
   "metadata": {},
   "source": [
    "More complex logic will use `continue` and `break`:"
   ]
  },
  {
   "cell_type": "code",
   "execution_count": 54,
   "id": "57fe88db",
   "metadata": {},
   "outputs": [
    {
     "name": "stdout",
     "output_type": "stream",
     "text": [
      "0\n",
      "1\n",
      "2\n",
      "4\n"
     ]
    }
   ],
   "source": [
    "for x in range(10):\n",
    "    if x == 3:\n",
    "        continue # go immediately to the next iteration\n",
    "    if x == 5:\n",
    "        break # quit the loop entirely\n",
    "    print(x)"
   ]
  },
  {
   "cell_type": "markdown",
   "id": "ab266b2a",
   "metadata": {},
   "source": [
    "## Truthiness\n",
    "\n",
    "Booleans are capitalized:"
   ]
  },
  {
   "cell_type": "code",
   "execution_count": 55,
   "id": "362b4d3c",
   "metadata": {},
   "outputs": [
    {
     "name": "stdout",
     "output_type": "stream",
     "text": [
      "True\n",
      "False\n"
     ]
    }
   ],
   "source": [
    "one_is_less_than_two = 1 < 2 # equals True\n",
    "print(one_is_less_than_two)\n",
    "true_equals_false = True == False # equals False\n",
    "print(true_equals_false)"
   ]
  },
  {
   "cell_type": "markdown",
   "id": "b9e49a13",
   "metadata": {},
   "source": [
    "In R, `NA` is used to indicate a nonexistent value. In Python, the equivalent is the value `None`:"
   ]
  },
  {
   "cell_type": "code",
   "execution_count": 60,
   "id": "ec8dbe45",
   "metadata": {},
   "outputs": [],
   "source": [
    "x = None\n",
    "assert x == None, \"this is not the Pythonic way to check for None\"\n",
    "assert x is None, \"this is the Pythonic way to check for None\""
   ]
  },
  {
   "cell_type": "code",
   "execution_count": 62,
   "id": "107d946e",
   "metadata": {},
   "outputs": [
    {
     "data": {
      "text/plain": [
       "True"
      ]
     },
     "execution_count": 62,
     "metadata": {},
     "output_type": "execute_result"
    }
   ],
   "source": [
    "x is None # prints True"
   ]
  },
  {
   "cell_type": "markdown",
   "id": "8f02dd57",
   "metadata": {},
   "source": [
    "Python lets you use any value where it expects a Boolean. The following are treated as False:\n",
    "\n",
    "   * `False`\n",
    "   * `None`\n",
    "   * `[]` (an empty `list`)\n",
    "   * `{}` (an empty `dict`)\n",
    "   * \"\"\n",
    "   * set()\n",
    "   * 0\n",
    "   * 0.0"
   ]
  },
  {
   "cell_type": "markdown",
   "id": "aeb4cf3b",
   "metadata": {},
   "source": [
    "This allows us to easily use `if` statements to test for empty strings, empty dictionaries, etc. It also sometime causes bugs."
   ]
  },
  {
   "cell_type": "markdown",
   "id": "35241fa0",
   "metadata": {},
   "source": [
    "Python has an `all` function which takes an iterable and returns `True` when every element is truthy.\n",
    "Python has an `any` function, which returns `True` when at least one element is truthy:"
   ]
  },
  {
   "cell_type": "code",
   "execution_count": 69,
   "id": "20280238",
   "metadata": {},
   "outputs": [
    {
     "data": {
      "text/plain": [
       "True"
      ]
     },
     "execution_count": 69,
     "metadata": {},
     "output_type": "execute_result"
    }
   ],
   "source": [
    "all([True, 1, 3]) # True, all are truthy"
   ]
  },
  {
   "cell_type": "code",
   "execution_count": 70,
   "id": "0a17fb60",
   "metadata": {},
   "outputs": [
    {
     "data": {
      "text/plain": [
       "False"
      ]
     },
     "execution_count": 70,
     "metadata": {},
     "output_type": "execute_result"
    }
   ],
   "source": [
    "all([True, 1, {}]) # False, {} is falsy"
   ]
  },
  {
   "cell_type": "code",
   "execution_count": 71,
   "id": "2a3d724d",
   "metadata": {},
   "outputs": [
    {
     "data": {
      "text/plain": [
       "True"
      ]
     },
     "execution_count": 71,
     "metadata": {},
     "output_type": "execute_result"
    }
   ],
   "source": [
    "any([True, 1, {}]) # True, True is truthy"
   ]
  },
  {
   "cell_type": "code",
   "execution_count": 75,
   "id": "473109cd",
   "metadata": {},
   "outputs": [
    {
     "data": {
      "text/plain": [
       "True"
      ]
     },
     "execution_count": 75,
     "metadata": {},
     "output_type": "execute_result"
    }
   ],
   "source": [
    "all([]) # True, no falsy elements in the list"
   ]
  },
  {
   "cell_type": "code",
   "execution_count": 76,
   "id": "0a855e8d",
   "metadata": {},
   "outputs": [
    {
     "data": {
      "text/plain": [
       "False"
      ]
     },
     "execution_count": 76,
     "metadata": {},
     "output_type": "execute_result"
    }
   ],
   "source": [
    "all([[],[],[]]) # False, list of empty lists. The empty lists are falsy"
   ]
  },
  {
   "cell_type": "code",
   "execution_count": 77,
   "id": "2f224575",
   "metadata": {},
   "outputs": [
    {
     "data": {
      "text/plain": [
       "False"
      ]
     },
     "execution_count": 77,
     "metadata": {},
     "output_type": "execute_result"
    }
   ],
   "source": [
    "any([]) # False, no truthy elements in the list"
   ]
  },
  {
   "cell_type": "markdown",
   "id": "7a539b43",
   "metadata": {},
   "source": [
    "#### Sorting\n",
    "\n",
    "Every Python list has a `sort` method that sorts it in place. If you don't want to mess up your list, you can use the `sorted` functions, which returns a new list:"
   ]
  },
  {
   "cell_type": "code",
   "execution_count": 78,
   "id": "716be096",
   "metadata": {},
   "outputs": [
    {
     "name": "stdout",
     "output_type": "stream",
     "text": [
      "[4, 1, 2, 3]\n",
      "[1, 2, 3, 4]\n"
     ]
    }
   ],
   "source": [
    "x = [4, 1, 2, 3]\n",
    "y = sorted(x) # y is [1, 2, 3, 4], x is unchanged\n",
    "print(x)\n",
    "print(y)"
   ]
  },
  {
   "cell_type": "code",
   "execution_count": 79,
   "id": "d5685cc5",
   "metadata": {},
   "outputs": [
    {
     "name": "stdout",
     "output_type": "stream",
     "text": [
      "[1, 2, 3, 4]\n"
     ]
    }
   ],
   "source": [
    "x.sort() # now x is [1, 2, 3, 4]\n",
    "print(x)"
   ]
  },
  {
   "cell_type": "markdown",
   "id": "c1817f90",
   "metadata": {},
   "source": [
    "As we can see, the `sort` and `sorted` sort a list from smallest to largest by default. We specify a `reverse=True` parameter to sort from largest to smallest. we can also use the `key` parameter to specify the way to sort:"
   ]
  },
  {
   "cell_type": "code",
   "execution_count": 81,
   "id": "f94e63f0",
   "metadata": {},
   "outputs": [
    {
     "name": "stdout",
     "output_type": "stream",
     "text": [
      "[-4, 3, -2, 1]\n"
     ]
    }
   ],
   "source": [
    "# sort the list by absolute value from largest to smallest\n",
    "x = sorted([-4, 1, -2, 3], key=abs, reverse=True) # is [-4, 3, -2, 1]\n",
    "print(x)"
   ]
  },
  {
   "cell_type": "markdown",
   "id": "69409739",
   "metadata": {},
   "source": [
    "## List Comprehensions\n",
    "\n",
    "We use *list comprehensions* to transform a list into another list. These transformations can be choosing specific elements, transforming elements, or both."
   ]
  },
  {
   "cell_type": "code",
   "execution_count": 84,
   "id": "72ee47e8",
   "metadata": {},
   "outputs": [
    {
     "name": "stdout",
     "output_type": "stream",
     "text": [
      "[0, 2, 4]\n",
      "[0, 1, 4, 9, 16]\n",
      "[0, 4, 16]\n"
     ]
    }
   ],
   "source": [
    "even_numbers = [x for x in range(5) if x % 2 == 0] # [0, 2, 4]\n",
    "print(even_numbers)\n",
    "\n",
    "squares = [x * x for x in range(5)] # [0, 1, 4, 9, 16]\n",
    "print(squares)\n",
    "\n",
    "even_squares = [x * x for x in even_numbers] # [0, 4, 16]\n",
    "print(even_squares)"
   ]
  },
  {
   "cell_type": "markdown",
   "id": "992ea39b",
   "metadata": {},
   "source": [
    "Similarly, we can turn lists into dictionaries or sets:"
   ]
  },
  {
   "cell_type": "code",
   "execution_count": 87,
   "id": "351c085a",
   "metadata": {},
   "outputs": [
    {
     "name": "stdout",
     "output_type": "stream",
     "text": [
      "{0: 0, 1: 1, 2: 4, 3: 9, 4: 16}\n",
      "{1}\n"
     ]
    }
   ],
   "source": [
    "square_dict = {x: x * x for x in range(5)} # {0: 0, 1: 1, 2: 4, 3: 9, 4: 16}\n",
    "print(square_dict)\n",
    "\n",
    "square_set = {x * x for x in [1, -1]} # {1}\n",
    "print(square_set)"
   ]
  },
  {
   "cell_type": "markdown",
   "id": "a34eac7c",
   "metadata": {},
   "source": [
    "Use an underscore as the variable if you don't need the value from the list:"
   ]
  },
  {
   "cell_type": "code",
   "execution_count": 88,
   "id": "32757f13",
   "metadata": {},
   "outputs": [
    {
     "name": "stdout",
     "output_type": "stream",
     "text": [
      "[0, 0, 0]\n"
     ]
    }
   ],
   "source": [
    "zeros = [0 for _ in even_numbers] # has the same length as even_numbers\n",
    "print(zeros)"
   ]
  },
  {
   "cell_type": "markdown",
   "id": "198907fd",
   "metadata": {},
   "source": [
    "A list comprehension can include multiple `fors`:"
   ]
  },
  {
   "cell_type": "code",
   "execution_count": 89,
   "id": "ca7ed8a6",
   "metadata": {},
   "outputs": [
    {
     "name": "stdout",
     "output_type": "stream",
     "text": [
      "[(0, 0), (0, 1), (0, 2), (0, 3), (0, 4), (0, 5), (0, 6), (0, 7), (0, 8), (0, 9), (1, 0), (1, 1), (1, 2), (1, 3), (1, 4), (1, 5), (1, 6), (1, 7), (1, 8), (1, 9), (2, 0), (2, 1), (2, 2), (2, 3), (2, 4), (2, 5), (2, 6), (2, 7), (2, 8), (2, 9), (3, 0), (3, 1), (3, 2), (3, 3), (3, 4), (3, 5), (3, 6), (3, 7), (3, 8), (3, 9), (4, 0), (4, 1), (4, 2), (4, 3), (4, 4), (4, 5), (4, 6), (4, 7), (4, 8), (4, 9), (5, 0), (5, 1), (5, 2), (5, 3), (5, 4), (5, 5), (5, 6), (5, 7), (5, 8), (5, 9), (6, 0), (6, 1), (6, 2), (6, 3), (6, 4), (6, 5), (6, 6), (6, 7), (6, 8), (6, 9), (7, 0), (7, 1), (7, 2), (7, 3), (7, 4), (7, 5), (7, 6), (7, 7), (7, 8), (7, 9), (8, 0), (8, 1), (8, 2), (8, 3), (8, 4), (8, 5), (8, 6), (8, 7), (8, 8), (8, 9), (9, 0), (9, 1), (9, 2), (9, 3), (9, 4), (9, 5), (9, 6), (9, 7), (9, 8), (9, 9)]\n"
     ]
    }
   ],
   "source": [
    "pairs = [(x, y)\n",
    "        for x in range(10)\n",
    "        for y in range(10)] # 100 pairs (0,0), (0,1) ... (9,8), (9,9)\n",
    "print(pairs)"
   ]
  },
  {
   "cell_type": "markdown",
   "id": "728243bd",
   "metadata": {},
   "source": [
    "Later `fors` can use the rsults of earlier ones:"
   ]
  },
  {
   "cell_type": "code",
   "execution_count": 90,
   "id": "1ca04618",
   "metadata": {},
   "outputs": [
    {
     "name": "stdout",
     "output_type": "stream",
     "text": [
      "[(0, 1), (0, 2), (0, 3), (0, 4), (0, 5), (0, 6), (0, 7), (0, 8), (0, 9), (1, 2), (1, 3), (1, 4), (1, 5), (1, 6), (1, 7), (1, 8), (1, 9), (2, 3), (2, 4), (2, 5), (2, 6), (2, 7), (2, 8), (2, 9), (3, 4), (3, 5), (3, 6), (3, 7), (3, 8), (3, 9), (4, 5), (4, 6), (4, 7), (4, 8), (4, 9), (5, 6), (5, 7), (5, 8), (5, 9), (6, 7), (6, 8), (6, 9), (7, 8), (7, 9), (8, 9)]\n"
     ]
    }
   ],
   "source": [
    "increasing_pairs = [(x, y)\n",
    "                   for x in range(10)\n",
    "                   for y in range(x + 1, 10)]\n",
    "print(increasing_pairs)"
   ]
  },
  {
   "cell_type": "markdown",
   "id": "1da9e793",
   "metadata": {},
   "source": [
    "## Automated Testing and `assert`\n",
    "\n",
    "We can be confident our code is correct using either *types* or *automated tests*.\n",
    "\n",
    "We will test our code using `assert` statements, which will cause our code to raise an `AssertionError` if the specified condition is not truthy:"
   ]
  },
  {
   "cell_type": "code",
   "execution_count": 92,
   "id": "e12e535b",
   "metadata": {},
   "outputs": [],
   "source": [
    "assert 1 + 1 == 2\n",
    "assert 1 + 1 == 2, \"1 + 1 should equal 2 but didn't\""
   ]
  },
  {
   "cell_type": "markdown",
   "id": "28976688",
   "metadata": {},
   "source": [
    "The optional message in the `assert` statement will be printed if the assertion fails. We should assert that functions we write are doing what we expect them to do:"
   ]
  },
  {
   "cell_type": "code",
   "execution_count": 94,
   "id": "0f5432db",
   "metadata": {},
   "outputs": [],
   "source": [
    "def smallest_item(xs):\n",
    "    return min(xs)\n",
    "\n",
    "assert smallest_item([10, 20, 5, 40]) == 5\n",
    "assert smallest_item([1, 0, -1, 2]) == -1"
   ]
  },
  {
   "cell_type": "markdown",
   "id": "3e8735e2",
   "metadata": {},
   "source": [
    "We can also assert things about inputs to functions:"
   ]
  },
  {
   "cell_type": "code",
   "execution_count": 96,
   "id": "543a34f7",
   "metadata": {},
   "outputs": [],
   "source": [
    "def smallest_item(xs):\n",
    "    assert xs, \"empty list has no smallest item\"\n",
    "    return min(xs)"
   ]
  },
  {
   "cell_type": "markdown",
   "id": "276a8e44",
   "metadata": {},
   "source": [
    "## Object-Oriented Programming\n",
    "\n"
   ]
  }
 ],
 "metadata": {
  "kernelspec": {
   "display_name": "Python 3 (ipykernel)",
   "language": "python",
   "name": "python3"
  },
  "language_info": {
   "codemirror_mode": {
    "name": "ipython",
    "version": 3
   },
   "file_extension": ".py",
   "mimetype": "text/x-python",
   "name": "python",
   "nbconvert_exporter": "python",
   "pygments_lexer": "ipython3",
   "version": "3.9.7"
  }
 },
 "nbformat": 4,
 "nbformat_minor": 5
}
