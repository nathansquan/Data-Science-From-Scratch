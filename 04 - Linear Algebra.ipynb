{
 "cells": [
  {
   "cell_type": "markdown",
   "id": "4a2da8c6",
   "metadata": {},
   "source": [
    "# Data Science From Scratch Notes\n",
    "\n",
    "## Chapter 4: Linear Algebra\n",
    "\n",
    "**Linear Algebra:** The study of *vector spaces*. Linear algebra is the basis (*heh*) for many data science concepts and techniques.\n",
    "\n",
    "## Vectors\n",
    "\n",
    "**Vectors:** Abstractly, they are objects that can be added together to from new vectors and that can be multiplied by *scalars*, also to form new vectors. Concretely, vectors are points in some finite-dimensional space.\n",
    "\n",
    "Vectors are a useful way to represent numeric data.\n",
    "\n",
    "For example, if we have height, weight, and age data on people, we can treat our data as three-dimensional vectors `[height, weight, age]`.\n",
    "\n",
    "A from-scratch representation of vectors is as lists of numbers. A list of three numbers corresponds to a vector in three-dimensional space, and vice versa. We'll accomplish this with a type alias that says a `Vector` is just a `list` of `floats`:"
   ]
  },
  {
   "cell_type": "code",
   "execution_count": 2,
   "id": "abac1009",
   "metadata": {},
   "outputs": [],
   "source": [
    "from typing import List\n",
    "\n",
    "Vector = List[float]\n",
    "\n",
    "height_weight_age = [70, # inches\n",
    "                    170, # pounds\n",
    "                    40] # years\n",
    "\n",
    "grades = [95, # exam1\n",
    "         80, # exam2\n",
    "         75, # exam3\n",
    "         62] # exam4"
   ]
  },
  {
   "cell_type": "markdown",
   "id": "6644fc72",
   "metadata": {},
   "source": [
    "Because Python `lists` aren't vectors, we'll need to build these arithmetic tools ourselves.\n",
    "\n",
    "### Vector Addition\n",
    "\n",
    "First, we'll want to be able to add two vectors. Vectors add *componentwise*. If two vectors `v` and `w` are the same length, their sum is just the vector whose first element is `v[0] + w[0]`, whose second element is `v[1] + w[1]`, and so on. Thus addinge vectors `[1, 2]` and `[2, 1]` results in `[1 + 2, 2 + 1]` or `[3, 3]`.\n",
    "\n",
    "We can implement this by `zip`-ing the vectors together and using a list comprehension to add the corresponding elements:"
   ]
  },
  {
   "cell_type": "code",
   "execution_count": 3,
   "id": "76ebebf2",
   "metadata": {},
   "outputs": [],
   "source": [
    "def add(v: Vector, w: Vector) -> Vector: \n",
    "    \"\"\"Adds corresponding elements\"\"\"\n",
    "    assert len(v) == len(w), \"vectors must be the same length\"\n",
    "    return [v_i + w_i for v_i, w_i in zip(v, w)]\n",
    "\n",
    "assert add([1, 2, 3], [4, 5, 6]) == [5, 7, 9]"
   ]
  },
  {
   "cell_type": "markdown",
   "id": "5c60ae37",
   "metadata": {},
   "source": [
    "#### Subtracting Vectors\n",
    "\n",
    "Similarly, to subtract two vectors we just subtract the corresponding elements:"
   ]
  },
  {
   "cell_type": "code",
   "execution_count": 5,
   "id": "d4cc9795",
   "metadata": {},
   "outputs": [],
   "source": [
    "def subtract(v: Vector, w: Vector) -> Vector:\n",
    "    \"\"\"Subtracts corresponding elements\"\"\"\n",
    "    assert len(v) == len(w), \"vectors must be the same length\"\n",
    "    return [v_i - w_i for v_i, w_i in zip(v, w)]\n",
    "\n",
    "assert subtract([5, 7, 9], [4, 5, 6]) == [1, 2, 3]"
   ]
  },
  {
   "cell_type": "markdown",
   "id": "55222af8",
   "metadata": {},
   "source": [
    "#### Componentwise sum\n",
    "\n",
    "We'll also want to componentwise sum a list of vectors (create new vector whose first element is the sum of all the first elements, whose second element is the sum of all the second elements, and so on):"
   ]
  },
  {
   "cell_type": "code",
   "execution_count": 8,
   "id": "aef3de05",
   "metadata": {},
   "outputs": [],
   "source": [
    "def vector_sum(vectors: List[Vector]) -> Vector:\n",
    "    \"\"\"Sums all corresponding elements\"\"\"\n",
    "    # Check that vectors is not empty\n",
    "    assert vectors, \"no vectors provided!\"\n",
    "    \n",
    "    # Check the vectors are all the same size\n",
    "    num_elements = len(vectors[0])\n",
    "    assert all(len(v) == num_elements for v in vectors), \"different sizes!\"\n",
    "    \n",
    "    # the i-th element of the result is the sum of every vector[i]\n",
    "    return [sum(vector[i] for vector in vectors)\n",
    "           for i in range(num_elements)]\n",
    "\n",
    "assert vector_sum([[1, 2], [3, 4], [5, 6], [7, 8]]) == [16, 20]"
   ]
  },
  {
   "cell_type": "markdown",
   "id": "acfb0e0d",
   "metadata": {},
   "source": [
    "### Vector Multiplication\n",
    "\n",
    "#### Scalar Multiplication\n",
    "\n",
    "We multiply a vector by a scalar simply by multiplying each element of the vector by that number:"
   ]
  },
  {
   "cell_type": "code",
   "execution_count": 9,
   "id": "41f86a16",
   "metadata": {},
   "outputs": [],
   "source": [
    "def scalar_multiply(c: float, v: Vector) -> Vector:\n",
    "    \"\"\"Multiplies every element by c\"\"\"\n",
    "    return [c * v_i for v_i in v]\n",
    "\n",
    "assert scalar_multiply(2, [1, 2, 3]) == [2, 4, 6]"
   ]
  },
  {
   "cell_type": "markdown",
   "id": "8b3002f6",
   "metadata": {},
   "source": [
    "#### Dot Product\n",
    "\n",
    "The dot product of two vectors is the sum of their componentwise products:"
   ]
  },
  {
   "cell_type": "code",
   "execution_count": 11,
   "id": "bd30e31a",
   "metadata": {},
   "outputs": [],
   "source": [
    "def dot(v: Vector, w: Vector) -> float:\n",
    "    \"\"\"Computes v_1 * w_1 + ... + v_n * w_n\"\"\"\n",
    "    assert len(v) == len(w), \"vectors must be same length\"\n",
    "    \n",
    "    return sum(v_i * w_i for v_i, w_i in zip(v, w))\n",
    "\n",
    "assert dot([1, 2, 3], [4, 5, 6]) == 32 # 1 * 4 + 2 * 5 + 3 * 6"
   ]
  },
  {
   "cell_type": "markdown",
   "id": "28562af5",
   "metadata": {},
   "source": [
    "It is the length of the vector you'd get if you *projected* `v` onto `w`."
   ]
  },
  {
   "cell_type": "markdown",
   "id": "703f97e8",
   "metadata": {},
   "source": [
    "### Sum of Squares"
   ]
  },
  {
   "cell_type": "markdown",
   "id": "162bdf29",
   "metadata": {},
   "source": [
    "Using the dot product, it is easy to compute a vector's *sum of squares*:"
   ]
  },
  {
   "cell_type": "code",
   "execution_count": 12,
   "id": "b37250e4",
   "metadata": {},
   "outputs": [],
   "source": [
    "def sum_of_squares(v: Vector) -> float:\n",
    "    \"\"\"Returns v_1 * v_1 + ... + v_n * v_n\"\"\"\n",
    "    return dot(v, v)\n",
    "\n",
    "assert sum_of_squares([1, 2, 3]) == 14 # 1 * 1 + 2 * 2 + 3 * 3"
   ]
  },
  {
   "cell_type": "markdown",
   "id": "184a8737",
   "metadata": {},
   "source": [
    "### Magnitude\n",
    "\n",
    "The sum of squares can be used to calculate the vector's *magnitude*:"
   ]
  },
  {
   "cell_type": "code",
   "execution_count": 13,
   "id": "7f3a483c",
   "metadata": {},
   "outputs": [],
   "source": [
    "import math\n",
    "\n",
    "def magnitude(v: Vector) -> float:\n",
    "    \"\"\"Returns the magnitude of v\"\"\"\n",
    "    return math.sqrt(sum_of_squares(v)) # square root function\n",
    "\n",
    "assert magnitude([3, 4]) == 5"
   ]
  },
  {
   "cell_type": "markdown",
   "id": "d43fa517",
   "metadata": {},
   "source": [
    "### Distance\n",
    "\n",
    "Now we have all the pieces needed to compute the distance between two vectors defined as:\n",
    "\n",
    "$$\\sqrt{(v_1 - w_1)^2 + \\ldots + (v_n - w_n)^2}$$"
   ]
  },
  {
   "cell_type": "code",
   "execution_count": 18,
   "id": "87d24a80",
   "metadata": {},
   "outputs": [],
   "source": [
    "def squared_distance(v: Vector, w: Vector) -> float:\n",
    "    \"\"\"Computes (v_1 - w_1) ** 2 + ... + (v_n - w_n) ** 2\"\"\"\n",
    "    return sum_of_squares(subtract(v, w))\n",
    "\n",
    "def distance(v: Vector, w: Vector) -> float:\n",
    "    \"\"\"Computes the distance between v and w\"\"\"\n",
    "    return math.sqrt(squared_distance(v, w))"
   ]
  },
  {
   "cell_type": "markdown",
   "id": "908b215f",
   "metadata": {},
   "source": [
    "This is possibly clearer if we write it as (the equivalent):"
   ]
  },
  {
   "cell_type": "code",
   "execution_count": 19,
   "id": "b0fbb1d4",
   "metadata": {},
   "outputs": [],
   "source": [
    "def distance(v: Vector, w: Vector) -> float:\n",
    "    return magnitude(subtract(v, w))"
   ]
  },
  {
   "cell_type": "markdown",
   "id": "43a679c3",
   "metadata": {},
   "source": [
    "## Matrices\n",
    "\n",
    "A *matrix* is a two-dimensional collection of numbers. We will represent matrices as lists of lists, with each inner list having the same size and representing a *row* of the matrix. If `A` is a matrix, then `A[i][j]` is the element in the *i*th row and the *j*th column:"
   ]
  },
  {
   "cell_type": "code",
   "execution_count": 20,
   "id": "1f8a4084",
   "metadata": {},
   "outputs": [],
   "source": [
    "# Another type alias\n",
    "Matrix = List[List[float]]\n",
    "\n",
    "A = [[1, 2, 3], # A has 2 rows and 3 columns\n",
    "     [4, 5, 6]]\n",
    "\n",
    "B = [[1, 2], # B has 3 rows and 2 columns\n",
    "     [3, 4],\n",
    "     [5, 6]]"
   ]
  },
  {
   "cell_type": "markdown",
   "id": "b693f815",
   "metadata": {},
   "source": [
    "Thus, the matrix `A` has `len(A)` rows and `len(A[0])` columns, which we consider its `shape`:"
   ]
  },
  {
   "cell_type": "code",
   "execution_count": 21,
   "id": "13c61e27",
   "metadata": {},
   "outputs": [],
   "source": [
    "from typing import Tuple\n",
    "\n",
    "def shape(A: Matrix) -> Tuple[int, int]:\n",
    "    \"\"\"Returns (# of rows of A, # of columns of A)\"\"\"\n",
    "    num_rows = len(A)\n",
    "    num_cols = len(A[0]) if A else 0 # number of elements in first row\n",
    "    return num_rows, num_cols\n",
    "\n",
    "assert shape([[1, 2, 3], [4, 5, 6]]) == (2, 3) # 2 rows, 3 columns"
   ]
  },
  {
   "cell_type": "markdown",
   "id": "c89d23b6",
   "metadata": {},
   "source": [
    "If a matrix has *n* rows and *k* columns, we will refer to it as an *n x k matrix*. We can think of each row and an *n x k* matrix as a vector of length *k*, and each column as a vector of length *n*:"
   ]
  },
  {
   "cell_type": "code",
   "execution_count": 22,
   "id": "7380235b",
   "metadata": {},
   "outputs": [],
   "source": [
    "def get_row(A: Matrix, i: int) -> Vector:\n",
    "    \"\"\"Returns the i-th row of A (as a Vector)\"\"\"\n",
    "    return A[i] # A[i] is already the ith row\n",
    "\n",
    "def get_column(A: Matrix, i: int) -> Vector:\n",
    "    \"\"\"Returns the j-th column of A (as a Vector)\"\"\"\n",
    "    return [A_i[j] # jth element of row A_i\n",
    "            for A_i in A] # for each row A_i\n",
    "    "
   ]
  },
  {
   "cell_type": "markdown",
   "id": "dedea70e",
   "metadata": {},
   "source": [
    "We'll also want to be able to create a matrix given its shape and a function for generating its elements. For this we use a nested list comprehension:"
   ]
  },
  {
   "cell_type": "code",
   "execution_count": 23,
   "id": "7dd2ccba",
   "metadata": {},
   "outputs": [],
   "source": [
    "from typing import Callable\n",
    "\n",
    "def make_matrix(num_rows: int,\n",
    "                num_cols: int,\n",
    "                entry_fn: Callable[[int, int], float]) -> Matrix:\n",
    "    \"\"\"\n",
    "    Returns a num_rows x num_cols matrix\n",
    "    whose (i,j)-th entry is entry_fn(i, j)\n",
    "    \"\"\"\n",
    "    return [[entry_fn(i, j) # given i, create a list\n",
    "             for j in range(num_cols)] # [entry_fn(i, 0), ...]\n",
    "            for i in range(num_rows)] # create one list for each i"
   ]
  },
  {
   "cell_type": "markdown",
   "id": "d56ca224",
   "metadata": {},
   "source": [
    "With this function, we can makea 5 x 5 identity matrix (with 1s on the diagonal and 0s elsewhere):"
   ]
  },
  {
   "cell_type": "code",
   "execution_count": 24,
   "id": "59071f71",
   "metadata": {},
   "outputs": [],
   "source": [
    "def identity_matrix(n: int) -> Matrix:\n",
    "    \"\"\"Returns the n x n identity matrix\"\"\"\n",
    "    return make_matrix(n, n, lambda i, j: 1 if i == j else 0)\n",
    "\n",
    "assert identity_matrix(5) == [[1, 0, 0, 0, 0],\n",
    "                              [0, 1, 0, 0, 0],\n",
    "                              [0, 0, 1, 0, 0],\n",
    "                              [0, 0, 0, 1, 0],\n",
    "                              [0, 0, 0, 0, 1]]"
   ]
  },
  {
   "cell_type": "markdown",
   "id": "be64a69b",
   "metadata": {},
   "source": [
    "We have several important uses for matrices:\n",
    "\n",
    "  1. We can use a matrix to represent a dataset consisting of multiple vectors,\n",
    "   simply by considering each vector as a row of the matrix.\n",
    "  2. We can use an *n x k* matrix to represent a linear function that maps *k*-dimensional\n",
    "  vectors to *n*-dimensional vectors\n",
    "  3. Matrices can be used to represent binary relationships"
   ]
  },
  {
   "cell_type": "markdown",
   "id": "fc7d9f8f",
   "metadata": {},
   "source": [
    "## Warnings\n",
    "\n",
    "Using lists as vectors is great for exposition but terrible for performance.\n",
    "\n",
    "In production code, you would want to use the NumPy library, which includes a high-performance array class with all sorts of arithmetic operations included.\n",
    "\n",
    "All of the machinery we built in this chapter is present in NumPy"
   ]
  },
  {
   "cell_type": "code",
   "execution_count": null,
   "id": "0eac7634",
   "metadata": {},
   "outputs": [],
   "source": []
  }
 ],
 "metadata": {
  "kernelspec": {
   "display_name": "Python 3 (ipykernel)",
   "language": "python",
   "name": "python3"
  },
  "language_info": {
   "codemirror_mode": {
    "name": "ipython",
    "version": 3
   },
   "file_extension": ".py",
   "mimetype": "text/x-python",
   "name": "python",
   "nbconvert_exporter": "python",
   "pygments_lexer": "ipython3",
   "version": "3.9.7"
  }
 },
 "nbformat": 4,
 "nbformat_minor": 5
}
