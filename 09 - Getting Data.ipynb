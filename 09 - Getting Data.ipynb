{
 "cells": [
  {
   "cell_type": "markdown",
   "id": "9039372f",
   "metadata": {},
   "source": [
    "# Data Science From Scratch Notes\n",
    "\n",
    "## Chapter 9: Getting Data\n",
    "\n",
    "## stdin and stdout\n",
    "\n",
    "We pipe data through Python scripts at the command line using `sys.stdin` and `sys.stdout`. Here's a script that counts the lines it receives and then writes out the count:"
   ]
  },
  {
   "cell_type": "code",
   "execution_count": 1,
   "id": "eb30931c",
   "metadata": {},
   "outputs": [
    {
     "name": "stdout",
     "output_type": "stream",
     "text": [
      "0\n"
     ]
    }
   ],
   "source": [
    "# line_count.py\n",
    "import sys\n",
    "\n",
    "count = 0\n",
    "for line in sys.stdin:\n",
    "    count += 1\n",
    "\n",
    "# print goes to sys.stdout\n",
    "print(count)"
   ]
  },
  {
   "cell_type": "markdown",
   "id": "913e0a20",
   "metadata": {},
   "source": [
    "On a Unix-like system, use:"
   ]
  },
  {
   "cell_type": "code",
   "execution_count": 2,
   "id": "bc549311",
   "metadata": {},
   "outputs": [
    {
     "name": "stdout",
     "output_type": "stream",
     "text": [
      "cat: SomeFile.txt: No such file or directory\n",
      "/Users/nathansquan/Documents/DataScience/DSFS/bin/python: can't open file '/Users/nathansquan/Documents/DataScience/DSFS/line_count.py': [Errno 2] No such file or directory\n"
     ]
    }
   ],
   "source": [
    "cat SomeFile.txt | python line_count.py"
   ]
  },
  {
   "cell_type": "markdown",
   "id": "cb38ca41",
   "metadata": {},
   "source": [
    "Similarly,  here's a script that counts the words in its input and writes out the most common ones:"
   ]
  },
  {
   "cell_type": "markdown",
   "id": "71a7a540",
   "metadata": {},
   "source": [
    "## Reading Files\n",
    "\n",
    "### The Basics of Text Files\n",
    "\n",
    "We obtain a *file object* using `open`:"
   ]
  },
  {
   "cell_type": "code",
   "execution_count": 4,
   "id": "0eba5a8f",
   "metadata": {},
   "outputs": [
    {
     "ename": "FileNotFoundError",
     "evalue": "[Errno 2] No such file or directory: 'reading_file.txt'",
     "output_type": "error",
     "traceback": [
      "\u001b[0;31m---------------------------------------------------------------------------\u001b[0m",
      "\u001b[0;31mFileNotFoundError\u001b[0m                         Traceback (most recent call last)",
      "\u001b[0;32m/var/folders/zk/qmmbz78561gdnjzhn5q32pf80000gn/T/ipykernel_1502/1963943842.py\u001b[0m in \u001b[0;36m<module>\u001b[0;34m\u001b[0m\n\u001b[1;32m      1\u001b[0m \u001b[0;31m# 'r' means read-only, it's assumed if you leave it out\u001b[0m\u001b[0;34m\u001b[0m\u001b[0;34m\u001b[0m\u001b[0m\n\u001b[0;32m----> 2\u001b[0;31m \u001b[0mfile_for_reading\u001b[0m \u001b[0;34m=\u001b[0m \u001b[0mopen\u001b[0m\u001b[0;34m(\u001b[0m\u001b[0;34m'reading_file.txt'\u001b[0m\u001b[0;34m,\u001b[0m \u001b[0;34m'r'\u001b[0m\u001b[0;34m)\u001b[0m\u001b[0;34m\u001b[0m\u001b[0;34m\u001b[0m\u001b[0m\n\u001b[0m\u001b[1;32m      3\u001b[0m \u001b[0;34m\u001b[0m\u001b[0m\n\u001b[1;32m      4\u001b[0m \u001b[0;31m# 'w' is write -- will destroy the file if it already exists!\u001b[0m\u001b[0;34m\u001b[0m\u001b[0;34m\u001b[0m\u001b[0m\n\u001b[1;32m      5\u001b[0m \u001b[0mfile_for_writing\u001b[0m \u001b[0;34m=\u001b[0m \u001b[0mopen\u001b[0m\u001b[0;34m(\u001b[0m\u001b[0;34m'writing_file.txt'\u001b[0m\u001b[0;34m,\u001b[0m \u001b[0;34m'w'\u001b[0m\u001b[0;34m)\u001b[0m\u001b[0;34m\u001b[0m\u001b[0;34m\u001b[0m\u001b[0m\n",
      "\u001b[0;31mFileNotFoundError\u001b[0m: [Errno 2] No such file or directory: 'reading_file.txt'"
     ]
    }
   ],
   "source": [
    "# 'r' means read-only, it's assumed if you leave it out\n",
    "file_for_reading = open('reading_file.txt', 'r')\n",
    "\n",
    "# 'w' is write -- will destroy the file if it already exists!\n",
    "file_for_writing = open('writing_file.txt', 'w')\n",
    "\n",
    "# 'a' is append -- for adding to the end of the file\n",
    "file_for_appending = open('appending_file.txt', 'a')\n",
    "\n",
    "# close files when done\n",
    "file_for_writing.close()"
   ]
  },
  {
   "cell_type": "markdown",
   "id": "727cec06",
   "metadata": {},
   "source": [
    "Since its easy to forget to close our files, we should always use them in a `with` block, at the end of which they will be closed automatically:"
   ]
  },
  {
   "cell_type": "code",
   "execution_count": 5,
   "id": "4c9da7d5",
   "metadata": {},
   "outputs": [
    {
     "ename": "NameError",
     "evalue": "name 'filename' is not defined",
     "output_type": "error",
     "traceback": [
      "\u001b[0;31m---------------------------------------------------------------------------\u001b[0m",
      "\u001b[0;31mNameError\u001b[0m                                 Traceback (most recent call last)",
      "\u001b[0;32m/var/folders/zk/qmmbz78561gdnjzhn5q32pf80000gn/T/ipykernel_1502/2274369652.py\u001b[0m in \u001b[0;36m<module>\u001b[0;34m\u001b[0m\n\u001b[0;32m----> 1\u001b[0;31m \u001b[0;32mwith\u001b[0m \u001b[0mopen\u001b[0m\u001b[0;34m(\u001b[0m\u001b[0mfilename\u001b[0m\u001b[0;34m)\u001b[0m \u001b[0;32mas\u001b[0m \u001b[0mf\u001b[0m\u001b[0;34m:\u001b[0m\u001b[0;34m\u001b[0m\u001b[0;34m\u001b[0m\u001b[0m\n\u001b[0m\u001b[1;32m      2\u001b[0m     \u001b[0mdata\u001b[0m \u001b[0;34m=\u001b[0m \u001b[0mfunction_that_gets_data_from\u001b[0m\u001b[0;34m(\u001b[0m\u001b[0mf\u001b[0m\u001b[0;34m)\u001b[0m\u001b[0;34m\u001b[0m\u001b[0;34m\u001b[0m\u001b[0m\n\u001b[1;32m      3\u001b[0m \u001b[0;34m\u001b[0m\u001b[0m\n\u001b[1;32m      4\u001b[0m \u001b[0;31m# at this point f has already been closed, so don't try to us it\u001b[0m\u001b[0;34m\u001b[0m\u001b[0;34m\u001b[0m\u001b[0m\n\u001b[1;32m      5\u001b[0m \u001b[0mprocess\u001b[0m\u001b[0;34m(\u001b[0m\u001b[0mdata\u001b[0m\u001b[0;34m)\u001b[0m\u001b[0;34m\u001b[0m\u001b[0;34m\u001b[0m\u001b[0m\n",
      "\u001b[0;31mNameError\u001b[0m: name 'filename' is not defined"
     ]
    }
   ],
   "source": [
    "with open(filename) as f:\n",
    "    data = function_that_gets_data_from(f)\n",
    "\n",
    "# at this point f has already been closed, so don't try to use it\n",
    "process(data)"
   ]
  },
  {
   "cell_type": "markdown",
   "id": "135adbc6",
   "metadata": {},
   "source": [
    "If we need to read a whole text file, we can iterate over the lines of the file using `for`:"
   ]
  },
  {
   "cell_type": "code",
   "execution_count": 6,
   "id": "686877b5",
   "metadata": {},
   "outputs": [
    {
     "ename": "FileNotFoundError",
     "evalue": "[Errno 2] No such file or directory: 'input.txt'",
     "output_type": "error",
     "traceback": [
      "\u001b[0;31m---------------------------------------------------------------------------\u001b[0m",
      "\u001b[0;31mFileNotFoundError\u001b[0m                         Traceback (most recent call last)",
      "\u001b[0;32m/var/folders/zk/qmmbz78561gdnjzhn5q32pf80000gn/T/ipykernel_1502/797590992.py\u001b[0m in \u001b[0;36m<module>\u001b[0;34m\u001b[0m\n\u001b[1;32m      1\u001b[0m \u001b[0mstarts_with_hash\u001b[0m \u001b[0;34m=\u001b[0m \u001b[0;36m0\u001b[0m\u001b[0;34m\u001b[0m\u001b[0;34m\u001b[0m\u001b[0m\n\u001b[1;32m      2\u001b[0m \u001b[0;34m\u001b[0m\u001b[0m\n\u001b[0;32m----> 3\u001b[0;31m \u001b[0;32mwith\u001b[0m \u001b[0mopen\u001b[0m\u001b[0;34m(\u001b[0m\u001b[0;34m'input.txt'\u001b[0m\u001b[0;34m)\u001b[0m \u001b[0;32mas\u001b[0m \u001b[0mf\u001b[0m\u001b[0;34m:\u001b[0m\u001b[0;34m\u001b[0m\u001b[0;34m\u001b[0m\u001b[0m\n\u001b[0m\u001b[1;32m      4\u001b[0m     \u001b[0;32mfor\u001b[0m \u001b[0mline\u001b[0m \u001b[0;32min\u001b[0m \u001b[0mf\u001b[0m\u001b[0;34m:\u001b[0m \u001b[0;31m# look at each line in the file\u001b[0m\u001b[0;34m\u001b[0m\u001b[0;34m\u001b[0m\u001b[0m\n\u001b[1;32m      5\u001b[0m         \u001b[0;32mif\u001b[0m \u001b[0mre\u001b[0m\u001b[0;34m.\u001b[0m\u001b[0mmatch\u001b[0m\u001b[0;34m(\u001b[0m\u001b[0;34m\"^#\"\u001b[0m\u001b[0;34m,\u001b[0m \u001b[0mline\u001b[0m\u001b[0;34m)\u001b[0m\u001b[0;34m:\u001b[0m \u001b[0;31m# use a regex to see if it starts with '#'\u001b[0m\u001b[0;34m\u001b[0m\u001b[0;34m\u001b[0m\u001b[0m\n",
      "\u001b[0;31mFileNotFoundError\u001b[0m: [Errno 2] No such file or directory: 'input.txt'"
     ]
    }
   ],
   "source": [
    "starts_with_hash = 0\n",
    "\n",
    "with open('input.txt') as f:\n",
    "    for line in f: # look at each line in the file\n",
    "        if re.match(\"^#\", line): # use a regex to see if it starts with '#'\n",
    "            starts_with_hash += 1 # if it does, add 1 to the count"
   ]
  },
  {
   "cell_type": "markdown",
   "id": "5b3c58aa",
   "metadata": {},
   "source": [
    "Every line we get this way ends in a newline character, so we'll often want to `strip` it before doing anything with it:"
   ]
  },
  {
   "cell_type": "code",
   "execution_count": 7,
   "id": "6594e7bb",
   "metadata": {},
   "outputs": [
    {
     "ename": "FileNotFoundError",
     "evalue": "[Errno 2] No such file or directory: 'email_addresses.txt'",
     "output_type": "error",
     "traceback": [
      "\u001b[0;31m---------------------------------------------------------------------------\u001b[0m",
      "\u001b[0;31mFileNotFoundError\u001b[0m                         Traceback (most recent call last)",
      "\u001b[0;32m/var/folders/zk/qmmbz78561gdnjzhn5q32pf80000gn/T/ipykernel_1502/3055155034.py\u001b[0m in \u001b[0;36m<module>\u001b[0;34m\u001b[0m\n\u001b[1;32m      9\u001b[0m \u001b[0;32mfrom\u001b[0m \u001b[0mcollections\u001b[0m \u001b[0;32mimport\u001b[0m \u001b[0mCounter\u001b[0m\u001b[0;34m\u001b[0m\u001b[0;34m\u001b[0m\u001b[0m\n\u001b[1;32m     10\u001b[0m \u001b[0;34m\u001b[0m\u001b[0m\n\u001b[0;32m---> 11\u001b[0;31m \u001b[0;32mwith\u001b[0m \u001b[0mopen\u001b[0m\u001b[0;34m(\u001b[0m\u001b[0;34m'email_addresses.txt'\u001b[0m\u001b[0;34m,\u001b[0m \u001b[0;34m'r'\u001b[0m\u001b[0;34m)\u001b[0m \u001b[0;32mas\u001b[0m \u001b[0mf\u001b[0m\u001b[0;34m:\u001b[0m\u001b[0;34m\u001b[0m\u001b[0;34m\u001b[0m\u001b[0m\n\u001b[0m\u001b[1;32m     12\u001b[0m     domain_counts = Counter(get_domain(line.strip())\n\u001b[1;32m     13\u001b[0m                             \u001b[0;32mfor\u001b[0m \u001b[0mline\u001b[0m \u001b[0;32min\u001b[0m \u001b[0mf\u001b[0m\u001b[0;34m\u001b[0m\u001b[0;34m\u001b[0m\u001b[0m\n",
      "\u001b[0;31mFileNotFoundError\u001b[0m: [Errno 2] No such file or directory: 'email_addresses.txt'"
     ]
    }
   ],
   "source": [
    "def get_domain(email_address: str) -> str:\n",
    "    \"\"\"Split on '@' and return the last piece\"\"\"\n",
    "    return email_address.lower().split(\"@\")[-1]\n",
    "\n",
    "# a couple of tests\n",
    "assert get_domain('joelgrus@gmail.com') == 'gmail.com'\n",
    "assert get_domain('joel@m.datasciencester.com') == 'm.datasciencester.com'\n",
    "\n",
    "from collections import Counter\n",
    "\n",
    "with open('email_addresses.txt', 'r') as f:\n",
    "    domain_counts = Counter(get_domain(line.strip())\n",
    "                            for line in f\n",
    "                            if \"@\" in line)"
   ]
  },
  {
   "cell_type": "markdown",
   "id": "99486ed6",
   "metadata": {},
   "source": [
    "## Delimited Files\n",
    "\n",
    "Delimited files can be complicated: fields with commas, tabs, and newlines in them. We should never try to parse them ourselves. Instead, we will use Python's `csv` module (or the pandas library).\n",
    "\n",
    "If the file has no headers (which means we probably want each row as a `list`), we can use `csv.reader` to iterate over the rows, each of which will be an appropriately split list:"
   ]
  },
  {
   "cell_type": "code",
   "execution_count": 8,
   "id": "4b0e2390",
   "metadata": {},
   "outputs": [
    {
     "ename": "FileNotFoundError",
     "evalue": "[Errno 2] No such file or directory: 'tab_delimited_stock_prices.txt'",
     "output_type": "error",
     "traceback": [
      "\u001b[0;31m---------------------------------------------------------------------------\u001b[0m",
      "\u001b[0;31mFileNotFoundError\u001b[0m                         Traceback (most recent call last)",
      "\u001b[0;32m/var/folders/zk/qmmbz78561gdnjzhn5q32pf80000gn/T/ipykernel_1502/2637271167.py\u001b[0m in \u001b[0;36m<module>\u001b[0;34m\u001b[0m\n\u001b[1;32m      1\u001b[0m \u001b[0;32mimport\u001b[0m \u001b[0mcsv\u001b[0m\u001b[0;34m\u001b[0m\u001b[0;34m\u001b[0m\u001b[0m\n\u001b[1;32m      2\u001b[0m \u001b[0;34m\u001b[0m\u001b[0m\n\u001b[0;32m----> 3\u001b[0;31m \u001b[0;32mwith\u001b[0m \u001b[0mopen\u001b[0m\u001b[0;34m(\u001b[0m\u001b[0;34m'tab_delimited_stock_prices.txt'\u001b[0m\u001b[0;34m)\u001b[0m \u001b[0;32mas\u001b[0m \u001b[0mf\u001b[0m\u001b[0;34m:\u001b[0m\u001b[0;34m\u001b[0m\u001b[0;34m\u001b[0m\u001b[0m\n\u001b[0m\u001b[1;32m      4\u001b[0m     \u001b[0mtab_reader\u001b[0m \u001b[0;34m=\u001b[0m \u001b[0mcsv\u001b[0m\u001b[0;34m.\u001b[0m\u001b[0mreader\u001b[0m\u001b[0;34m(\u001b[0m\u001b[0mf\u001b[0m\u001b[0;34m,\u001b[0m \u001b[0mdelimiter\u001b[0m\u001b[0;34m=\u001b[0m\u001b[0;34m'\\t'\u001b[0m\u001b[0;34m)\u001b[0m\u001b[0;34m\u001b[0m\u001b[0;34m\u001b[0m\u001b[0m\n\u001b[1;32m      5\u001b[0m     \u001b[0;32mfor\u001b[0m \u001b[0mrow\u001b[0m \u001b[0;32min\u001b[0m \u001b[0mtab_reader\u001b[0m\u001b[0;34m:\u001b[0m\u001b[0;34m\u001b[0m\u001b[0;34m\u001b[0m\u001b[0m\n",
      "\u001b[0;31mFileNotFoundError\u001b[0m: [Errno 2] No such file or directory: 'tab_delimited_stock_prices.txt'"
     ]
    }
   ],
   "source": [
    "import csv\n",
    "\n",
    "with open('tab_delimited_stock_prices.txt') as f:\n",
    "    tab_reader = csv.reader(f, delimiter='\\t')\n",
    "    for row in tab_reader:\n",
    "        date = row[0]\n",
    "        symbol = row[1]\n",
    "        closing_price = float(row[2])\n",
    "        process(date, symbol, closing_price) # process is not a function. It represents some function merely for demos"
   ]
  },
  {
   "cell_type": "markdown",
   "id": "47945af7",
   "metadata": {},
   "source": [
    "If the file has headers, we can either skip the header row with an initial call to `reader.next`, or get each row as a `dict` (with headers as keys) by using `csv.DictReader`:"
   ]
  },
  {
   "cell_type": "code",
   "execution_count": 10,
   "id": "a319fd01",
   "metadata": {},
   "outputs": [
    {
     "ename": "FileNotFoundError",
     "evalue": "[Errno 2] No such file or directory: 'colon_delimited_stock_prices.txt'",
     "output_type": "error",
     "traceback": [
      "\u001b[0;31m---------------------------------------------------------------------------\u001b[0m",
      "\u001b[0;31mFileNotFoundError\u001b[0m                         Traceback (most recent call last)",
      "\u001b[0;32m/var/folders/zk/qmmbz78561gdnjzhn5q32pf80000gn/T/ipykernel_1502/214969691.py\u001b[0m in \u001b[0;36m<module>\u001b[0;34m\u001b[0m\n\u001b[0;32m----> 1\u001b[0;31m \u001b[0;32mwith\u001b[0m \u001b[0mopen\u001b[0m\u001b[0;34m(\u001b[0m\u001b[0;34m'colon_delimited_stock_prices.txt'\u001b[0m\u001b[0;34m)\u001b[0m \u001b[0;32mas\u001b[0m \u001b[0mf\u001b[0m\u001b[0;34m:\u001b[0m\u001b[0;34m\u001b[0m\u001b[0;34m\u001b[0m\u001b[0m\n\u001b[0m\u001b[1;32m      2\u001b[0m     \u001b[0mcolon_reader\u001b[0m \u001b[0;34m=\u001b[0m \u001b[0mcsv\u001b[0m\u001b[0;34m.\u001b[0m\u001b[0mDictReader\u001b[0m\u001b[0;34m(\u001b[0m\u001b[0mf\u001b[0m\u001b[0;34m,\u001b[0m \u001b[0mdelimiter\u001b[0m\u001b[0;34m=\u001b[0m\u001b[0;34m':'\u001b[0m\u001b[0;34m)\u001b[0m\u001b[0;34m\u001b[0m\u001b[0;34m\u001b[0m\u001b[0m\n\u001b[1;32m      3\u001b[0m     \u001b[0;32mfor\u001b[0m \u001b[0mdict_row\u001b[0m \u001b[0;32min\u001b[0m \u001b[0mcolon_reader\u001b[0m\u001b[0;34m:\u001b[0m\u001b[0;34m\u001b[0m\u001b[0;34m\u001b[0m\u001b[0m\n\u001b[1;32m      4\u001b[0m         \u001b[0mdate\u001b[0m \u001b[0;34m=\u001b[0m \u001b[0mdict_row\u001b[0m\u001b[0;34m[\u001b[0m\u001b[0;34m\"date\"\u001b[0m\u001b[0;34m]\u001b[0m\u001b[0;34m\u001b[0m\u001b[0;34m\u001b[0m\u001b[0m\n\u001b[1;32m      5\u001b[0m         \u001b[0msymbol\u001b[0m \u001b[0;34m=\u001b[0m \u001b[0mdict_row\u001b[0m\u001b[0;34m[\u001b[0m\u001b[0;34m\"symbol\"\u001b[0m\u001b[0;34m]\u001b[0m\u001b[0;34m\u001b[0m\u001b[0;34m\u001b[0m\u001b[0m\n",
      "\u001b[0;31mFileNotFoundError\u001b[0m: [Errno 2] No such file or directory: 'colon_delimited_stock_prices.txt'"
     ]
    }
   ],
   "source": [
    "with open('colon_delimited_stock_prices.txt') as f:\n",
    "    colon_reader = csv.DictReader(f, delimiter=':')\n",
    "    for dict_row in colon_reader:\n",
    "        date = dict_row[\"date\"]\n",
    "        symbol = dict_row[\"symbol\"]\n",
    "        closing_price = float(dict_row[\"closing_price\"])\n",
    "        process(date, symbol, closing_price)"
   ]
  },
  {
   "cell_type": "markdown",
   "id": "abee8acc",
   "metadata": {},
   "source": [
    "Even if the file doesn't have headers, we can still use `DictReader` by passing it the keys as a `fieldnames` parameter.\n",
    "\n",
    "We can similarly write out delimited data using `csv.writer`:"
   ]
  },
  {
   "cell_type": "code",
   "execution_count": 11,
   "id": "89867540",
   "metadata": {},
   "outputs": [],
   "source": [
    "todays_prices = {'AAPL': 90.91, 'MSFT': 41.68, 'FB': 64.5}\n",
    "\n",
    "with open('comma_delimited_stock_prices.txt', 'w') as f:\n",
    "          csv_writer = csv.writer(f, delimiter=',')\n",
    "          for stock, price in todays_prices.items():\n",
    "                csv_writer.writerow([stock, price])"
   ]
  },
  {
   "cell_type": "markdown",
   "id": "34da068c",
   "metadata": {},
   "source": [
    "## Scraping the Web\n",
    "\n",
    "### HTML and the Parsing Thereof\n",
    "\n",
    "To get data out of HTML, we use the Beautiful Soup library, which builds a tree out of the various elements on a web page and provides a simple interface for accessing them. We also use the Requests library to easily make HTTP requests.\n",
    "\n",
    "We'll also use the `html5lib`parser.\n",
    "\n",
    "To use Beautiful Soup, we pass a string containing HTML into the `BeautifulSoup` function. This will be the result of a call to `requests.get`:"
   ]
  },
  {
   "cell_type": "code",
   "execution_count": 12,
   "id": "0f86cdb2",
   "metadata": {},
   "outputs": [],
   "source": [
    "from bs4 import BeautifulSoup\n",
    "import requests\n",
    "\n",
    "url = (\"https://raw.githubusercontent.com/\"\n",
    "       \"joelgrus/data/master/getting-data.html\")\n",
    "html = requests.get(url).text\n",
    "soup = BeautifulSoup(html, 'html5lib')"
   ]
  },
  {
   "cell_type": "markdown",
   "id": "f16f6b6f",
   "metadata": {},
   "source": [
    "We typically work with `Tag` objects, which correspond to the tags representing the structure of an HTML page.\n",
    "\n",
    "For example, to find the first`<p>` tag and its contents, we can use:"
   ]
  },
  {
   "cell_type": "code",
   "execution_count": 14,
   "id": "2c14fb25",
   "metadata": {},
   "outputs": [
    {
     "data": {
      "text/plain": [
       "<p id=\"p1\">This is the first paragraph.</p>"
      ]
     },
     "execution_count": 14,
     "metadata": {},
     "output_type": "execute_result"
    }
   ],
   "source": [
    "first_paragraph = soup.find('p') # or just soup.p\n",
    "first_paragraph"
   ]
  },
  {
   "cell_type": "markdown",
   "id": "35b2c067",
   "metadata": {},
   "source": [
    "We can get the text contents of a `Tag` using its `text` property:"
   ]
  },
  {
   "cell_type": "code",
   "execution_count": 15,
   "id": "3daddd14",
   "metadata": {},
   "outputs": [
    {
     "name": "stdout",
     "output_type": "stream",
     "text": [
      "This is the first paragraph.\n",
      "['This', 'is', 'the', 'first', 'paragraph.']\n"
     ]
    }
   ],
   "source": [
    "first_paragraph_text = soup.p.text\n",
    "first_paragraph_words = soup.p.text.split()\n",
    "\n",
    "print(first_paragraph_text)\n",
    "print(first_paragraph_words)"
   ]
  },
  {
   "cell_type": "markdown",
   "id": "a3ff465e",
   "metadata": {},
   "source": [
    "Extract a tag's attributes by treating it like a `dict`:"
   ]
  },
  {
   "cell_type": "code",
   "execution_count": 16,
   "id": "a9bd2648",
   "metadata": {},
   "outputs": [
    {
     "name": "stdout",
     "output_type": "stream",
     "text": [
      "p1\n",
      "p1\n"
     ]
    }
   ],
   "source": [
    "first_paragraph_id = soup.p['id'] # raises KeyError fi no 'id'\n",
    "first_paragraph_id2 = soup.p.get('id') # returns None if no 'id'\n",
    "\n",
    "print(first_paragraph_id)\n",
    "print(first_paragraph_id2)"
   ]
  },
  {
   "cell_type": "markdown",
   "id": "be215163",
   "metadata": {},
   "source": [
    "Get multiple tags at once:"
   ]
  },
  {
   "cell_type": "code",
   "execution_count": 17,
   "id": "d190ab65",
   "metadata": {},
   "outputs": [
    {
     "name": "stdout",
     "output_type": "stream",
     "text": [
      "[<p id=\"p1\">This is the first paragraph.</p>, <p class=\"important\">This is the second paragraph.</p>]\n",
      "[<p id=\"p1\">This is the first paragraph.</p>]\n"
     ]
    }
   ],
   "source": [
    "all_paragraphs = soup.find_all('p') # or just soup('p')\n",
    "paragraphs_with_ids = [p for p in soup('p') if p.get('id')]\n",
    "\n",
    "print(all_paragraphs)\n",
    "print(paragraphs_with_ids)"
   ]
  },
  {
   "cell_type": "markdown",
   "id": "0dccda4b",
   "metadata": {},
   "source": [
    "Find tags with a specific `class`:"
   ]
  },
  {
   "cell_type": "code",
   "execution_count": 21,
   "id": "b123bacb",
   "metadata": {},
   "outputs": [
    {
     "name": "stdout",
     "output_type": "stream",
     "text": [
      "[<p class=\"important\">This is the second paragraph.</p>]\n",
      "[<p class=\"important\">This is the second paragraph.</p>]\n",
      "[<p class=\"important\">This is the second paragraph.</p>]\n"
     ]
    }
   ],
   "source": [
    "important_paragraphs = soup('p', {'class' : 'important'})\n",
    "important_paragraphs2 = soup('p', 'important')\n",
    "important_paragraphs3 = [p for p in soup('p')\n",
    "                        if 'important' in p.get('class', [])]\n",
    "\n",
    "print(important_paragraphs)\n",
    "print(important_paragraphs2)\n",
    "print(important_paragraphs3)"
   ]
  },
  {
   "cell_type": "markdown",
   "id": "33d8d043",
   "metadata": {},
   "source": [
    "We can combine these methods to implement more elaborate logic. For example, if we want to find every `<span>` element that is contained inside a `<div>` element:"
   ]
  },
  {
   "cell_type": "code",
   "execution_count": 23,
   "id": "6f00afb8",
   "metadata": {},
   "outputs": [
    {
     "name": "stdout",
     "output_type": "stream",
     "text": [
      "[<span id=\"name\">Joel</span>, <span id=\"twitter\">@joelgrus</span>, <span id=\"email\">joelgrus-at-gmail</span>]\n"
     ]
    }
   ],
   "source": [
    "# Warning: will return the same <span> multiple times\n",
    "# if it sits inside multiple <div>s.\n",
    "# Be more clever if that's the case\n",
    "spans_inside_divs = [span\n",
    "                     for div in soup('div') # for each <div> on the page\n",
    "                     for span in div('span')] # find each <span> inside it\n",
    "\n",
    "print(spans_inside_divs)"
   ]
  },
  {
   "cell_type": "markdown",
   "id": "c6f3267a",
   "metadata": {},
   "source": [
    "### Example: Keeping Tabs on Congress\n",
    "\n",
    "Goal: Quantify what Congress is saying on the topic of data science. Find all the representatives who have press releases about \"data\".\n",
    "\n",
    "We'll collect all of the URLs linked to from *https://www.house.gov/representatives*.\n",
    "\n",
    "All the links to the websites look like:"
   ]
  },
  {
   "cell_type": "code",
   "execution_count": 24,
   "id": "dee6416d",
   "metadata": {},
   "outputs": [
    {
     "ename": "SyntaxError",
     "evalue": "invalid syntax (871086746.py, line 1)",
     "output_type": "error",
     "traceback": [
      "\u001b[0;36m  File \u001b[0;32m\"/var/folders/zk/qmmbz78561gdnjzhn5q32pf80000gn/T/ipykernel_1502/871086746.py\"\u001b[0;36m, line \u001b[0;32m1\u001b[0m\n\u001b[0;31m    <td>\u001b[0m\n\u001b[0m    ^\u001b[0m\n\u001b[0;31mSyntaxError\u001b[0m\u001b[0;31m:\u001b[0m invalid syntax\n"
     ]
    }
   ],
   "source": [
    "<td>\n",
    "    <a> href=\"https://jayapal.house.gov\">Jayapal, Pramila</a>\n",
    "<td>"
   ]
  },
  {
   "cell_type": "markdown",
   "id": "9aad9b3d",
   "metadata": {},
   "source": [
    "Let's first collect all the URLs linked to from this page:"
   ]
  },
  {
   "cell_type": "code",
   "execution_count": 26,
   "id": "7ab8601c",
   "metadata": {},
   "outputs": [
    {
     "name": "stdout",
     "output_type": "stream",
     "text": [
      "967\n"
     ]
    }
   ],
   "source": [
    "from bs4 import BeautifulSoup\n",
    "import requests\n",
    "\n",
    "url = \"https://www.house.gov/representatives\"\n",
    "text = requests.get(url).text\n",
    "soup = BeautifulSoup(text, \"html5lib\")\n",
    "\n",
    "all_urls = [a['href']\n",
    "            for a in soup('a')\n",
    "            if a.has_attr('href')]\n",
    "\n",
    "print(len(all_urls)) # 967, way too many"
   ]
  },
  {
   "cell_type": "markdown",
   "id": "8da7a20f",
   "metadata": {},
   "source": [
    "This returns too many URLS. We want ones that start with either *http://* or *https://*, have some kind of name, and end with either *.house.gov* or *.house.gov/*. This is a good situation to use regex:"
   ]
  },
  {
   "cell_type": "code",
   "execution_count": 28,
   "id": "82a1f1c9",
   "metadata": {},
   "outputs": [
    {
     "name": "stdout",
     "output_type": "stream",
     "text": [
      "878\n"
     ]
    }
   ],
   "source": [
    "import re\n",
    "\n",
    "# Must start with http:// or https://\n",
    "# Must end with .house.gov or .house.gov/\n",
    "regex = r\"^https?://.*\\.house\\.gov/?$\"\n",
    "\n",
    "# write tests\n",
    "assert re.match(regex, \"http://joel.house.gov\")\n",
    "assert re.match(regex, \"https://joel.house.gov\")\n",
    "assert re.match(regex, \"http://joel.house.gov/\")\n",
    "assert re.match(regex, \"https://joel.house.gov/\")\n",
    "assert not re.match(regex, \"joel.house.gov\")\n",
    "assert not re.match(regex, \"http://joel.house.com\")\n",
    "assert not re.match(regex, \"https://joel.house.gov/biography\")\n",
    "\n",
    "# and now apply\n",
    "good_urls = [url for url in all_urls if re.match(regex, url)]\n",
    "\n",
    "print(len(good_urls)) # still 878"
   ]
  },
  {
   "cell_type": "markdown",
   "id": "fa7577c1",
   "metadata": {},
   "source": [
    "There are still way too many since there are only 435 representatives. Looking at the list, there are a lot of duplicates. We'll use `set` to get rid of them:"
   ]
  },
  {
   "cell_type": "code",
   "execution_count": 29,
   "id": "11f0185f",
   "metadata": {},
   "outputs": [
    {
     "name": "stdout",
     "output_type": "stream",
     "text": [
      "439\n"
     ]
    }
   ],
   "source": [
    "good_urls = list(set(good_urls))\n",
    "print(len(good_urls)) # 439"
   ]
  },
  {
   "cell_type": "markdown",
   "id": "d8a995f4",
   "metadata": {},
   "source": [
    "When we look at the sites, most of them have a link to press releases:"
   ]
  },
  {
   "cell_type": "code",
   "execution_count": 35,
   "id": "38bd9c14",
   "metadata": {},
   "outputs": [
    {
     "name": "stdout",
     "output_type": "stream",
     "text": [
      "{'https://jayapal.house.gov/category/news/', 'https://jayapal.house.gov/category/press-releases/'}\n"
     ]
    }
   ],
   "source": [
    "html = requests.get('https://jayapal.house.gov/').text\n",
    "soup = BeautifulSoup(html, 'html5lib')\n",
    "\n",
    "# use a set beacuse the links might appear multiple times\n",
    "links = {a['href'] for a in soup('a') if 'press releases' in a.text.lower()}\n",
    "\n",
    "print(links)"
   ]
  },
  {
   "cell_type": "markdown",
   "id": "9af8a6aa",
   "metadata": {},
   "source": [
    "Some sites might have relative links. This means we need to remember the originating site:"
   ]
  },
  {
   "cell_type": "code",
   "execution_count": 40,
   "id": "a41594d4",
   "metadata": {},
   "outputs": [
    {
     "name": "stdout",
     "output_type": "stream",
     "text": [
      "https://chrissmith.house.gov/: set()\n",
      "https://blakemoore.house.gov: {'/media/press-releases'}\n",
      "https://slotkin.house.gov/: {'/media/press-releases'}\n",
      "https://cardenas.house.gov: {'https://cardenas.house.gov/media-center/press-releases'}\n",
      "https://gohmert.house.gov/: {'/News/DocumentQuery.aspx?DocumentTypeID=1954'}\n",
      "https://krishnamoorthi.house.gov: {'/media/press-releases'}\n",
      "https://schweikert.house.gov/: {'/media-center/press-releases'}\n",
      "https://gallagher.house.gov: {'/media/press-releases'}\n",
      "https://timryan.house.gov/: {'/media/press-releases'}\n",
      "https://axne.house.gov/: {'/media/press-releases'}\n",
      "https://chu.house.gov/: {'/media-center/press-releases'}\n",
      "https://bergman.house.gov: {'/news/documentquery.aspx?DocumentTypeID=27'}\n",
      "https://vandrew.house.gov: {'/media/press-releases'}\n",
      "https://danbishop.house.gov: {'/media/press-releases'}\n",
      "https://horsford.house.gov: {'/media/press-releases'}\n",
      "https://mullin.house.gov: {'/news/documentquery.aspx?DocumentTypeID=27'}\n",
      "https://laturner.house.gov: {'/media/press-releases'}\n",
      "https://defazio.house.gov/: {'/media-center/press-releases'}\n",
      "https://beyer.house.gov: {'/news/documentquery.aspx?DocumentTypeID=27'}\n",
      "https://matsui.house.gov: {'/news/documentquery.aspx?DocumentTypeID=27'}\n",
      "https://lieu.house.gov/: {'/media-center/press-releases'}\n",
      "https://lamborn.house.gov/: {'/media/press-releases'}\n",
      "https://langevin.house.gov: {'/press-releases'}\n",
      "https://curtis.house.gov/: {'https://curtis.house.gov/category/press-releases/'}\n",
      "https://fitzgerald.house.gov: {'/media/press-releases'}\n",
      "https://fernandez.house.gov: {'/media/press-releases'}\n",
      "https://cicilline.house.gov/: {'/press-releases'}\n",
      "https://womack.house.gov/: {'/News/DocumentQuery.aspx?DocumentTypeID=2067'}\n",
      "https://boebert.house.gov: {'/media/press-releases'}\n",
      "https://mckinley.house.gov/: {'/news/documentquery.aspx?DocumentTypeID=27'}\n",
      "https://rouzer.house.gov/: {'/press-releases'}\n",
      "https://mariodiazbalart.house.gov/: {'/media-center/press-releases'}\n",
      "https://fulcher.house.gov/: {'/press-releases'}\n",
      "https://mikejohnson.house.gov: {'/news/documentsingle.aspx?DocumentID=1009', '/news/documentsingle.aspx?DocumentID=1010', '/news/documentsingle.aspx?DocumentID=1012', '/news/documentquery.aspx?DocumentTypeID=1951', '/news/documentquery.aspx?DocumentTypeID=27', '/news/documentsingle.aspx?DocumentID=1011', '/news/documentsingle.aspx?DocumentID=1013'}\n",
      "https://lynch.house.gov/: {'/press-releases'}\n",
      "https://panetta.house.gov: {'/media/press-releases'}\n",
      "https://valadao.house.gov: {'/news/documentquery.aspx?DocumentTypeID=27'}\n",
      "https://brooks.house.gov/: set()\n",
      "https://strickland.house.gov: {'/media/press-releases'}\n",
      "https://stefanik.house.gov/: {'/press-releases'}\n",
      "https://perlmutter.house.gov/: {'/news/documentquery.aspx?DocumentTypeID=27'}\n",
      "https://neguse.house.gov/: {'https://neguse.house.gov/media/press-releases'}\n",
      "https://hagedorn.house.gov/: {'/media/press-releases'}\n",
      "https://smucker.house.gov/: {'/media/press-releases'}\n",
      "https://quigley.house.gov/: {'/media-center/press-releases'}\n",
      "https://schneider.house.gov: {'/media/press-releases'}\n",
      "https://hudson.house.gov: {'/media/press-releases'}\n",
      "https://barr.house.gov/: {'/press-releases'}\n",
      "https://dean.house.gov: {'/press-releases'}\n",
      "https://stevens.house.gov/: {'/media/press-releases'}\n",
      "https://bera.house.gov: {'/media-center/press-releases'}\n",
      "https://schiff.house.gov/: {'https://schiff.house.gov/news/press-releases'}\n",
      "https://ocasio-cortez.house.gov/: {'/media/press-releases'}\n",
      "https://fortenberry.house.gov/: {'/news/press-releases'}\n",
      "https://kahele.house.gov: {'/media/press-releases'}\n",
      "https://wexton.house.gov/: {'/news/documentquery.aspx?DocumentTypeID=27'}\n",
      "https://himes.house.gov/: {'/press-releases'}\n",
      "https://bobbyscott.house.gov: {'/media-center/press-releases'}\n",
      "https://troycarter.house.gov: {'/media/press-releases'}\n",
      "https://ruppersberger.house.gov: {'/news-room/press-releases'}\n",
      "https://khanna.house.gov: {'/media/press-releases'}\n",
      "https://guest.house.gov: {'/media/press-releases'}\n",
      "https://miller.house.gov/: {'/media/press-releases'}\n",
      "https://fleischmann.house.gov/: {'/media/press-releases'}\n",
      "https://castro.house.gov: {'https://castro.house.gov/media-center/press-releases'}\n",
      "https://carl.house.gov: {'/media/press-releases'}\n",
      "https://case.house.gov/: {'/news/documentquery.aspx?DocumentTypeID=27', '/news/documentsingle.aspx?DocumentID=723'}\n",
      "https://newman.house.gov: {'/media/press-releases'}\n",
      "https://franklin.house.gov: {'/media/press-releases'}\n",
      "https://halrogers.house.gov/: {'/press-releases'}\n",
      "https://sannicolas.house.gov: set()\n",
      "https://pelosi.house.gov/: {'/news/press-releases'}\n",
      "https://jasonsmith.house.gov: set()\n",
      "https://lawson.house.gov: {'https://lawson.house.gov/media/press-releases'}\n",
      "https://spanberger.house.gov: {'/news/documentsingle.aspx?DocumentID=4272', '/news/documentquery.aspx?DocumentTypeID=27', '/news/documentsingle.aspx?DocumentID=4274', '/news/documentsingle.aspx?DocumentID=4269', '/news/documentsingle.aspx?DocumentID=4273', '/news/documentsingle.aspx?DocumentID=4267', '/news/documentsingle.aspx?DocumentID=4270'}\n",
      "https://perry.house.gov/: set()\n",
      "https://bacon.house.gov: {'/news/documentquery.aspx?DocumentTypeID=27'}\n",
      "https://steil.house.gov: {'/media/press-releases'}\n",
      "https://cooper.house.gov/: {'/media-center/press-releases'}\n",
      "https://pascrell.house.gov/: {'/news/documentquery.aspx?DocumentTypeID=27'}\n",
      "https://schakowsky.house.gov: {'/media/press-releases'}\n",
      "https://pappas.house.gov: {'/media/press-releases'}\n",
      "https://mchenry.house.gov: {'/news/documentquery.aspx?DocumentTypeID=418'}\n",
      "https://herrell.house.gov: {'/media/press-releases-c'}\n",
      "https://escobar.house.gov: {'/news/documentquery.aspx?DocumentTypeID=27'}\n",
      "https://lowenthal.house.gov: {'/media/press-releases'}\n",
      "https://boyle.house.gov/: {'/media-center/press-releases'}\n",
      "https://cheney.house.gov: {'https://cheney.house.gov/category/press_release/'}\n",
      "https://garbarino.house.gov: {'/media/press-releases'}\n",
      "https://seanmaloney.house.gov: set()\n",
      "https://blumenauer.house.gov/: {'/media-center/press-releases'}\n",
      "https://hollingsworth.house.gov: set()\n",
      "https://auchincloss.house.gov: {'/media/press-releases'}\n",
      "https://moolenaar.house.gov/: {'/media-center/press-releases'}\n",
      "https://foster.house.gov: {'/media/press-releases'}\n",
      "https://bost.house.gov/: {'/press-releases'}\n",
      "https://letlow.house.gov: {'/media/press-releases'}\n",
      "https://espaillat.house.gov: {'/media/press-releases'}\n",
      "https://titus.house.gov/: {'/news/documentquery.aspx?DocumentTypeID=27'}\n",
      "https://wilson.house.gov/: set()\n",
      "https://kelly.house.gov: {'/press-releases'}\n",
      "https://algreen.house.gov: {'/media/press-releases'}\n",
      "https://ritchietorres.house.gov: set()\n",
      "https://bluntrochester.house.gov: set()\n",
      "https://velazquez.house.gov: {'/media-center/press-releases'}\n",
      "https://rubengallego.house.gov/: {'/media-center/press-releases'}\n",
      "https://sablan.house.gov/: set()\n",
      "https://gonzales.house.gov: {'/media/press-releases'}\n",
      "https://walorski.house.gov: set()\n",
      "https://schrier.house.gov: {'/media/press-releases'}\n",
      "https://hankjohnson.house.gov/: {'/media-center/press-releases'}\n",
      "https://amodei.house.gov: set()\n",
      "https://luria.house.gov: {'/media/press-releases'}\n",
      "https://golden.house.gov: {'/media/press-releases'}\n",
      "https://crenshaw.house.gov/: {'/press-releases'}\n",
      "https://webster.house.gov/: {'/press-releases'}\n",
      "https://sherrill.house.gov/: {'/media/press-releases'}\n",
      "https://banks.house.gov: {'/news/documentquery.aspx?DocumentTypeID=27'}\n",
      "https://crawford.house.gov/: {'/News/DocumentQuery.aspx?DocumentTypeID=2080'}\n",
      "https://plaskett.house.gov/: {'/news/documentquery.aspx?documenttypeid=27'}\n",
      "https://fitzpatrick.house.gov/: {'/press-releases'}\n",
      "https://malinowski.house.gov/: {'/media/press-releases'}\n",
      "https://chabot.house.gov/: {'/news/documentquery.aspx?DocumentTypeID=2508'}\n",
      "https://anthonybrown.house.gov: {'/news/documentquery.aspx?DocumentTypeID=27', '/news/documentsingle.aspx?DocumentID=1609'}\n",
      "https://mceachin.house.gov: {'/media/press-releases'}\n",
      "https://westerman.house.gov/: set()\n",
      "https://harshbarger.house.gov: {'/media/press-releases'}\n",
      "https://bice.house.gov: {'/media/press-releases'}\n",
      "https://weber.house.gov: {'/news/documentquery.aspx?DocumentTypeID=27'}\n",
      "https://markgreen.house.gov/: {'/press-releases'}\n",
      "https://cleaver.house.gov: {'/media-center/press-releases'}\n",
      "https://reed.house.gov/: {'/news/documentquery.aspx?DocumentTypeID=27'}\n"
     ]
    },
    {
     "name": "stdout",
     "output_type": "stream",
     "text": [
      "https://debbiedingell.house.gov/: {'/news/documentquery.aspx?DocumentTypeID=27', '/news/'}\n",
      "https://murphy.house.gov: {'/news/documentquery.aspx?DocumentTypeID=27'}\n",
      "https://larson.house.gov/: {'/media-center/press-releases'}\n",
      "https://frankel.house.gov: {'/news/documentquery.aspx?DocumentTypeID=27'}\n",
      "https://bustos.house.gov: {'https://bustos.house.gov/category/press-release/'}\n",
      "https://hartzler.house.gov/: {'/media-center/press-releases'}\n",
      "https://lahood.house.gov/: {'/press-releases'}\n",
      "https://jayapal.house.gov: {'https://jayapal.house.gov/category/news/', 'https://jayapal.house.gov/category/press-releases/'}\n",
      "https://palmer.house.gov/: {'/media-center/press-releases'}\n",
      "https://kim.house.gov/: {'/media/press-releases'}\n",
      "https://upton.house.gov: {'/News/DocumentQuery.aspx?DocumentTypeID=1828'}\n",
      "https://susielee.house.gov: {'/media/press-releases'}\n",
      "https://cawthorn.house.gov: {'/media/press-releases'}\n",
      "https://jacksonlee.house.gov/: {'/media-center/press-releases'}\n",
      "https://norcross.house.gov: set()\n",
      "https://bourdeaux.house.gov: {'/media/press-releases'}\n",
      "https://roybal-allard.house.gov: {'/news/documentquery.aspx?DocumentTypeID=1465', '#tab2'}\n",
      "https://bush.house.gov: {'/media/press-releases'}\n",
      "https://trone.house.gov: {'https://trone.house.gov/category/congress_press_release/'}\n",
      "https://tonko.house.gov/: {'/news/documentquery.aspx?DocumentTypeID=27'}\n",
      "https://swalwell.house.gov: {'/media-center/press-releases'}\n",
      "https://hill.house.gov/: {'/news/documentquery.aspx?DocumentTypeID=27'}\n",
      "https://buchanan.house.gov/: set()\n",
      "https://castor.house.gov/: {'/News/DocumentQuery.aspx?DocumentTypeID=821'}\n",
      "https://malliotakis.house.gov: {'/media/press-releases'}\n",
      "https://estes.house.gov/: {'/news/documentquery.aspx?DocumentTypeID=27'}\n",
      "https://connolly.house.gov/: {'/news/documentquery.aspx?DocumentTypeID=1952'}\n",
      "https://torres.house.gov/: {'/media-center/press-releases'}\n",
      "https://loudermilk.house.gov: {'/news/documentquery.aspx?DocumentTypeID=27'}\n",
      "https://hoyer.house.gov/: set()\n",
      "https://armstrong.house.gov: {'/media/press-releases'}\n",
      "https://wagner.house.gov: {'/media-center/press-releases'}\n",
      "https://suozzi.house.gov: {'/media/press-releases'}\n",
      "https://adriansmith.house.gov/: {'/newsroom/press-releases'}\n",
      "https://wittman.house.gov/: {'/news/documentquery.aspx?DocumentTypeID=2670'}\n",
      "https://joewilson.house.gov/: {'/media-center/press-releases'}\n",
      "https://morelle.house.gov: {'/media/press-releases'}\n",
      "https://feenstra.house.gov: {'/media/press-releases'}\n",
      "https://jackson.house.gov: {'/news/documentquery.aspx?DocumentTypeID=27'}\n",
      "https://mcclintock.house.gov/: {'/newsroom/press-releases'}\n",
      "https://aguilar.house.gov/: {'https://aguilar.house.gov/category/congress_press_release/'}\n",
      "https://trahan.house.gov: set()\n",
      "https://pfluger.house.gov: {'/media/press-releases'}\n",
      "https://nunes.house.gov/: {'/News/DocumentQuery.aspx?DocumentTypeID=2133'}\n",
      "https://sires.house.gov: {'/media-center/press-releases'}\n",
      "https://houlahan.house.gov/: {'/news/documentquery.aspx?DocumentTypeID=27'}\n",
      "https://buddycarter.house.gov/: {'/news/documentquery.aspx?DocumentTypeID=27'}\n",
      "https://dunn.house.gov: {'/press-releases'}\n",
      "https://buck.house.gov/: set()\n",
      "https://gonzalez-colon.house.gov: {'/media/press-releases'}\n",
      "https://higgins.house.gov: {'/press-releases/archived-press-releases-2008', '/media-center/press-releases'}\n",
      "https://cohen.house.gov/: {'/media-center/press-releases'}\n",
      "https://clayhiggins.house.gov: {'/media/press-releases'}\n",
      "https://joyce.house.gov: {'/press-releases'}\n",
      "https://spartz.house.gov: {'/media/press-releases'}\n",
      "https://massie.house.gov: set()\n",
      "https://andylevin.house.gov/: {'/media/press-releases'}\n",
      "https://jhb.house.gov/: {'/News/DocumentQuery.aspx?DocumentTypeID=2113'}\n",
      "https://ruiz.house.gov: {'/media-center/press-releases'}\n",
      "https://larsen.house.gov: {'/news/documentquery.aspx?DocumentTypeID=27'}\n",
      "https://mikelevin.house.gov: {'https://mikelevin.house.gov/media/press-releases'}\n",
      "https://sherman.house.gov: {'/media-center', '/media-center/press-releases'}\n",
      "https://garamendi.house.gov/: {'/media/press-releases'}\n",
      "https://katko.house.gov/: {'/media-center/press-releases'}\n",
      "https://cammack.house.gov: {'/media/press-releases'}\n",
      "https://fischbach.house.gov: {'/press-releases'}\n",
      "https://tiffany.house.gov/: {'/media/press-releases'}\n",
      "https://raskin.house.gov: {'/press-releases'}\n",
      "https://adamsmith.house.gov/: {'#recentposts-pressreleases', '/press-releases'}\n",
      "https://balderson.house.gov: {'/news/documentquery.aspx?DocumentTypeID=27'}\n",
      "https://wassermanschultz.house.gov/: {'/news/documentquery.aspx?DocumentTypeID=27'}\n",
      "https://nehls.house.gov: set()\n",
      "https://takano.house.gov: {'https://takano.house.gov/newsroom/press-releases'}\n",
      "https://benniethompson.house.gov/: {'/media/press-releases'}\n",
      "https://newhouse.house.gov: {'/media-center/press-releases'}\n",
      "https://turner.house.gov/: {'/press-releases'}\n",
      "https://desaulnier.house.gov/: {'/media-center/press-releases'}\n",
      "https://greene.house.gov: {'/media/press-releases'}\n",
      "https://lamalfa.house.gov: {'/media-center/press-releases'}\n",
      "https://donyoung.house.gov/: {'/News/'}\n",
      "https://desjarlais.house.gov/: set()\n",
      "https://issa.house.gov: {'/media/press-releases'}\n",
      "https://rutherford.house.gov: {'/media/press-releases'}\n",
      "https://simpson.house.gov: {'/News/DocumentQuery.aspx?DocumentTypeID=1515'}\n",
      "https://delgado.house.gov: {'/media/press-releases'}\n",
      "https://veasey.house.gov: {'/media-center/press-releases'}\n",
      "https://scottpeters.house.gov: {'/media-center/press-releases'}\n",
      "https://stanton.house.gov/: {'/press-releases'}\n",
      "https://lucas.house.gov: {'/news/press-releases'}\n",
      "https://bucshon.house.gov/: {'/news/documentquery.aspx?DocumentTypeID=27'}\n",
      "https://budd.house.gov: {'/news/documentquery.aspx?DocumentTypeID=27'}\n",
      "https://davidscott.house.gov/: {'/News/DocumentQuery.aspx?DocumentTypeID=377'}\n",
      "https://rodneydavis.house.gov: set()\n",
      "https://tenney.house.gov/: {'/media/press-releases'}\n",
      "https://underwood.house.gov/: {'/media/press-releases'}\n",
      "https://craig.house.gov: {'/media/press-releases'}\n",
      "https://lindasanchez.house.gov/: {'/media-center/press-releases'}\n",
      "https://hinson.house.gov: {'/media/press-releases'}\n",
      "https://gibbs.house.gov/: {'/media-center/press-releases'}\n",
      "https://pence.house.gov/: {'/media/press-releases'}\n",
      "https://johnrose.house.gov/: {'/media/press-releases'}\n",
      "https://kaygranger.house.gov: {'/press-releases'}\n",
      "https://waltz.house.gov: {'/news/documentquery.aspx?DocumentTypeID=27'}\n",
      "https://beatty.house.gov: {'/media-center/press-releases'}\n",
      "https://clarke.house.gov/: {'https://clarke.house.gov/category/press-releases/'}\n",
      "https://hice.house.gov/: {'/news/documentquery.aspx?DocumentTypeID=27'}\n",
      "https://guthrie.house.gov/: set()\n",
      "https://morgangriffith.house.gov/: {'/News/DocumentQuery.aspx?DocumentTypeID=2235'}\n",
      "https://timmons.house.gov/: {'/news/documentquery.aspx?DocumentTypeID=27'}\n",
      "https://vargas.house.gov: {'/media-center/press-releases'}\n",
      "https://billjohnson.house.gov/: {'/news/documentquery.aspx?DocumentTypeID=2085', '/News/DocumentQuery.aspx?DocumentTypeID=2085'}\n",
      "https://vantaylor.house.gov/: {'/news/documentquery.aspx?DocumentTypeID=27'}\n",
      "https://graves.house.gov/: {'/media/press-releases'}\n",
      "https://marymiller.house.gov: {'/media/subscribe-press-releases', '/media/press-releases'}\n",
      "https://clyde.house.gov: {'/media/press-releases'}\n",
      "https://salazar.house.gov: {'/media/press-releases'}\n",
      "https://price.house.gov/: {'/newsroom/press-releases'}\n",
      "https://johnjoyce.house.gov/: {'/news/documentquery.aspx?DocumentTypeID=27'}\n",
      "https://kirkpatrick.house.gov/: set()\n",
      "https://biggs.house.gov: {'/media/press-releases'}\n",
      "https://ross.house.gov: {'/media/press-releases'}\n",
      "https://mooney.house.gov/: {'/news/#press'}\n",
      "https://hern.house.gov: {'/news/documentquery.aspx?DocumentTypeID=27'}\n",
      "https://dankildee.house.gov: {'/media/press-releases'}\n",
      "https://meeks.house.gov: {'/media/press-releases'}\n",
      "https://casten.house.gov: {'/media/press-releases'}\n",
      "https://posey.house.gov/: {'#tab-2', '/News/DocumentQuery.aspx?DocumentTypeID=1487'}\n",
      "https://mikerogers.house.gov/: {'/news/documentquery.aspx?DocumentTypeID=27'}\n",
      "https://millermeeks.house.gov/: {'/media/press-releases'}\n",
      "https://walberg.house.gov/: {'/media/press-releases'}\n",
      "https://chuygarcia.house.gov/: {'/media/press-releases'}\n",
      "https://clyburn.house.gov/: {'/press-releases'}\n",
      "https://nadler.house.gov: {'/news/documentquery.aspx?DocumentTypeID=1753'}\n"
     ]
    },
    {
     "name": "stdout",
     "output_type": "stream",
     "text": [
      "https://gonzalez.house.gov: {'/media/press-releases'}\n",
      "https://latta.house.gov/: {'/News/DocumentQuery.aspx?DocumentTypeID=1456'}\n",
      "https://bilirakis.house.gov/: {'/media/press-releases'}\n",
      "https://williams.house.gov: {'/media-center/press-releases'}\n",
      "https://barrymoore.house.gov: {'/media/press-releases'}\n",
      "https://dustyjohnson.house.gov/: {'/media/press-releases'}\n",
      "https://costa.house.gov/: {'/media-center/press-releases'}\n",
      "https://pocan.house.gov: {'/media-center/press-releases'}\n",
      "https://mrvan.house.gov: {'/media/press-releases'}\n",
      "https://barragan.house.gov: set()\n",
      "https://youngkim.house.gov: {'/media/press-releases'}\n",
      "https://mcclain.house.gov: {'/media/press-releases'}\n",
      "https://davids.house.gov/: {'/media/press-releases'}\n",
      "https://kaptur.house.gov/: {'/media-center/press-releases'}\n",
      "https://kilmer.house.gov: {'https://kilmer.house.gov/news/press-releases'}\n",
      "https://harder.house.gov/: {'/media/press-releases'}\n",
      "https://phillips.house.gov/: {'/media/press-releases'}\n",
      "https://pallone.house.gov: {'/media/press-releases'}\n",
      "https://teddeutch.house.gov/: set()\n",
      "https://nikemawilliams.house.gov: {'/media/press-releases'}\n",
      "https://payne.house.gov: {'/media/press-releases'}\n",
      "https://bishop.house.gov/: {'/media-center/press-releases'}\n",
      "https://keller.house.gov: {'/media/press-releases'}\n",
      "https://kind.house.gov/: {'/media-center/press-releases'}\n",
      "https://garretgraves.house.gov/: {'/media-center/press-releases'}\n",
      "https://ellzey.house.gov/: {'/media/press-releases'}\n",
      "https://carter.house.gov/: {'/news/documentquery.aspx?DocumentTypeID=27'}\n",
      "https://steel.house.gov: {'/media/press-releases'}\n",
      "https://soto.house.gov: {'/media/press-releases'}\n",
      "https://tlaib.house.gov/: {'/media/press-releases'}\n",
      "https://carson.house.gov/: {'/newsroom/press-releases'}\n",
      "https://cloud.house.gov: set()\n",
      "https://lesko.house.gov: {'/news/documentquery.aspx?DocumentTypeID=27'}\n",
      "https://yarmuth.house.gov/: set()\n",
      "https://robinkelly.house.gov/: {'/media-center/press-releases'}\n",
      "https://austinscott.house.gov/: {'/press-releases'}\n",
      "https://scanlon.house.gov/: {'https://scanlon.house.gov/news/documentquery.aspx?DocumentTypeID=27'}\n",
      "https://meuser.house.gov: {'/media/press-releases'}\n",
      "https://ferguson.house.gov: {'/news/documentquery.aspx?DocumentTypeID=27'}\n",
      "https://arrington.house.gov: {'/news/documentquery.aspx?DocumentTypeID=27'}\n",
      "https://meijer.house.gov: {'/media/press-releases'}\n",
      "https://mikethompson.house.gov/: {'/newsroom/press-releases'}\n",
      "https://jacobs.house.gov: {'/media/press-releases'}\n",
      "https://lamb.house.gov: {'/media/press-releases'}\n",
      "https://donalds.house.gov: {'/news/documentquery.aspx?DocumentTypeID=27'}\n",
      "https://delbene.house.gov: {'/news/documentquery.aspx?DocumentTypeID=27'}\n",
      "https://bentz.house.gov: {'/media/press-releases'}\n",
      "https://comer.house.gov/: {'/press-release'}\n",
      "https://cole.house.gov: {'/media-center/press-releases'}\n",
      "https://jordan.house.gov/: {'/media/press-releases'}\n",
      "https://grijalva.house.gov/: set()\n",
      "https://gimenez.house.gov: {'/media/press-releases'}\n",
      "https://lee.house.gov/: set()\n",
      "https://shontelbrown.house.gov: {'/media/press-releases'}\n",
      "https://jeffduncan.house.gov/: {'/media/press-releases'}\n",
      "https://neal.house.gov/: {'/news/documentquery.aspx?DocumentTypeID=27'}\n",
      "https://welch.house.gov/: {'/media-center/press-releases'}\n",
      "https://norman.house.gov: {'/news/documentquery.aspx?DocumentTypeID=27'}\n",
      "https://huizenga.house.gov/: {'/News/DocumentQuery.aspx?DocumentTypeID=2041'}\n",
      "https://mace.house.gov: {'/media/press-releases'}\n",
      "https://doggett.house.gov: {'/media/press-releases'}\n",
      "https://huffman.house.gov: set()\n",
      "https://speier.house.gov/: {'/press-releases'}\n",
      "https://ebjohnson.house.gov: {'/media-center/press-releases'}\n",
      "https://stauber.house.gov: {'/media/press-releases'}\n",
      "https://schrader.house.gov/: {'/news/documentquery.aspx?DocumentTypeID=2382'}\n",
      "https://harris.house.gov/: {'/media/press-releases'}\n",
      "https://burchett.house.gov: {'/media/press-releases'}\n",
      "https://mcgovern.house.gov/: {'/news/documentquery.aspx?DocumentTypeID=2472'}\n",
      "https://davidson.house.gov/: {'/press-releases'}\n",
      "https://rush.house.gov: {'/media-center/press-releases'}\n",
      "https://meng.house.gov: {'/media-center/press-releases'}\n",
      "https://maloney.house.gov/: {'/news/press-releases'}\n",
      "https://allred.house.gov/: {'/media/press-releases'}\n",
      "https://norton.house.gov/: {'/media-center/press-releases'}\n",
      "https://burgess.house.gov/: {'/News/DocumentQuery.aspx?DocumentTypeID=75'}\n",
      "https://crist.house.gov: {'/news/documentquery.aspx?DocumentTypeID=27'}\n",
      "https://adams.house.gov: {'/media-center/press-releases'}\n",
      "https://cuellar.house.gov/: {'/News/DocumentQuery.aspx?DocumentTypeID=1232'}\n",
      "https://mcbath.house.gov: {'/press-releases'}\n",
      "https://luetkemeyer.house.gov/: {'/news/documentquery.aspx?DocumentTypeID=2270'}\n",
      "https://jeffries.house.gov: {'https://jeffries.house.gov/category/press-release/'}\n",
      "https://owens.house.gov: {'/media/press-releases'}\n",
      "https://gosar.house.gov/: {'/news/documentquery.aspx?DocumentTypeID=27'}\n",
      "https://rice.house.gov: {'/press-releases'}\n",
      "https://sarajacobs.house.gov: {'/news/documentquery.aspx?DocumentTypeID=27'}\n",
      "https://kevinmccarthy.house.gov/: {'/media-center/press-releases'}\n",
      "https://gomez.house.gov/: {'/news/documentquery.aspx?DocumentTypeID=27'}\n",
      "https://waters.house.gov: {'/media-center/press-releases'}\n",
      "https://rosendale.house.gov: {'/news/documentquery.aspx?DocumentTypeID=27'}\n",
      "https://gaetz.house.gov: {'/media/press-releases'}\n",
      "https://juliabrownley.house.gov: {'https://juliabrownley.house.gov/category/press-releases/'}\n",
      "https://lawrence.house.gov/: {'/media-center/press-releases'}\n",
      "https://mast.house.gov: {'/press-releases'}\n",
      "https://sylviagarcia.house.gov/: {'/media/press-releases'}\n",
      "https://gottheimer.house.gov: {'/news/documentquery.aspx?DocumentTypeID=27'}\n",
      "https://ohalleran.house.gov: {'/media/press-releases'}\n",
      "https://kuster.house.gov: {'/news/documentquery.aspx?DocumentTypeID=27'}\n",
      "https://fletcher.house.gov: {'/news/documentquery.aspx?DocumentTypeID=27'}\n",
      "https://omar.house.gov/: {'/media/press-releases'}\n",
      "https://courtney.house.gov/: {'/media-center/press-releases'}\n",
      "https://manning.house.gov: {'/media/press-releases'}\n",
      "https://hayes.house.gov: {'/media/press-releases'}\n",
      "https://emmer.house.gov/: {'/press-releases'}\n",
      "https://gregmurphy.house.gov: {'/media/press-releases'}\n",
      "https://long.house.gov/: {'/news/documentquery.aspx?DocumentTypeID=27'}\n",
      "https://sessions.house.gov: {'/media/press-releases'}\n",
      "https://jones.house.gov: {'/media/press-releases'}\n",
      "https://aderholt.house.gov/: {'/media-center/press-releases'}\n",
      "https://palazzo.house.gov/: {'/News/DocumentQuery.aspx?DocumentTypeID=2519'}\n",
      "https://doyle.house.gov: {'/media/press-releases'}\n",
      "https://fallon.house.gov: {'/media/press-releases'}\n",
      "https://wild.house.gov: {'/media/press-releases'}\n",
      "https://thompson.house.gov: {'/media-center/press-releases'}\n",
      "https://kustoff.house.gov: {'/media/press-releases'}\n",
      "https://moulton.house.gov/: set()\n",
      "https://vanduyne.house.gov: {'/media/press-releases'}\n",
      "https://cline.house.gov: {'/media/press-releases'}\n",
      "https://obernolte.house.gov: {'/media/press-releases'}\n",
      "https://gwenmoore.house.gov: {'/news/documentquery.aspx?DocumentTypeID=27'}\n",
      "https://butterfield.house.gov: {'/media-center/press-releases'}\n",
      "https://mann.house.gov: {'/media/press-releases'}\n",
      "https://pressley.house.gov: {'/media/press-releases'}\n",
      "https://kathleenrice.house.gov: {'/news/documentquery.aspx?DocumentTypeID=27'}\n",
      "https://mccaul.house.gov: {'/media-center/press-releases'}\n",
      "https://demings.house.gov: {'/media/press-releases'}\n",
      "https://reschenthaler.house.gov/: {'/media/press-releases'}\n",
      "https://steube.house.gov/: {'/media/press-releases'}\n",
      "https://kinzinger.house.gov/: {'/news/documentquery.aspx?DocumentTypeID=2665'}\n",
      "https://eshoo.house.gov/: {'/media/press-releases'}\n",
      "https://babin.house.gov: {'/news/documentquery.aspx?DocumentTypeID=27'}\n",
      "https://correa.house.gov: {'/press/table'}\n",
      "https://zeldin.house.gov/: {'/media-center/press-releases'}\n",
      "https://mikegarcia.house.gov/: {'/news/documentquery.aspx?DocumentTypeID=27'}\n",
      "https://degette.house.gov: {'/newsroom/press-releases'}\n",
      "https://bass.house.gov/: {'/media-center/press-releases'}\n",
      "https://mccollum.house.gov: {'/media/press-releases'}\n",
      "https://anthonygonzalez.house.gov: {'/news/documentquery.aspx?DocumentTypeID=27'}\n",
      "https://keating.house.gov/: set()\n",
      "https://good.house.gov: {'/media/press-releases'}\n"
     ]
    },
    {
     "name": "stdout",
     "output_type": "stream",
     "text": [
      "https://delauro.house.gov/: {'/media-center/press-releases'}\n",
      "https://crow.house.gov/: {'/media/press-releases'}\n",
      "https://trentkelly.house.gov/: {'/news/documentquery.aspx?DocumentTypeID=27'}\n",
      "https://carey.house.gov: {'/media/press-releases'}\n",
      "https://vela.house.gov: {'/press-release'}\n",
      "https://gooden.house.gov: {'/press-releases'}\n",
      "https://grothman.house.gov: {'/news/documentquery.aspx?DocumentTypeID=27'}\n",
      "https://pingree.house.gov/: set()\n",
      "https://evans.house.gov/: {'/media-center/press-releases'}\n",
      "https://sarbanes.house.gov/: {'/media-center/press-releases'}\n",
      "https://bonamici.house.gov: {'/media/press-releases'}\n",
      "https://cartwright.house.gov: {'/news/documentquery.aspx?DocumentTypeID=2442'}\n",
      "https://roy.house.gov: {'/media/press-releases'}\n",
      "https://sewell.house.gov/: {'/frontpage?qt-home_page_tabs=0#qt-home_page_tabs', '/media-center/press-releases'}\n",
      "https://kevinbrady.house.gov/: {'/news/documentquery.aspx?DocumentTypeID=2657'}\n",
      "https://mcmorris.house.gov/: set()\n",
      "https://lofgren.house.gov/: {'/media/press-releases'}\n",
      "https://allen.house.gov: {'/news/documentquery.aspx?DocumentTypeID=27'}\n",
      "https://calvert.house.gov/: {'/media/press-releases'}\n",
      "https://stansbury.house.gov/: {'/media/press-releases'}\n",
      "https://carbajal.house.gov: {'/news/documentquery.aspx?DocumentTypeID=27'}\n",
      "https://wenstrup.house.gov: {'/news/documentquery.aspx?DocumentTypeID=2491'}\n",
      "https://napolitano.house.gov/: {'/media/press-releases'}\n",
      "https://radewagen.house.gov/: {'/media/press-releases'}\n",
      "https://scalise.house.gov/: {'/media/press-releases'}\n",
      "https://stewart.house.gov: {'/news/documentquery.aspx?DocumentTypeID=27'}\n",
      "https://foxx.house.gov/: {'/news/documentquery.aspx?DocumentTypeID=2367'}\n",
      "https://bowman.house.gov: {'/press-releases'}\n",
      "https://porter.house.gov/: set()\n",
      "https://mcnerney.house.gov/: {'/media-center/press-releases'}\n",
      "https://baird.house.gov/: {'/news/documentquery.aspx?DocumentTypeID=27'}\n",
      "https://davis.house.gov: set()\n",
      "https://mfume.house.gov/: {'/media/press-releases'}\n",
      "https://watsoncoleman.house.gov/: {'/news/documentquery.aspx?DocumentTypeID=27'}\n"
     ]
    }
   ],
   "source": [
    "from typing import Dict, Set\n",
    "\n",
    "press_releases: Dict[str, Set[str]] = {}\n",
    "\n",
    "for house_url in good_urls:\n",
    "    html = requests.get(house_url).text\n",
    "    soup = BeautifulSoup(html, 'html5lib')\n",
    "    pr_links = {a['href'] for a in soup('a') if 'press releases' \n",
    "                in a.text.lower()}\n",
    "    print(f\"{house_url}: {pr_links}\")\n",
    "    press_releases[house_url] = pr_links"
   ]
  },
  {
   "cell_type": "markdown",
   "id": "7b7f3174",
   "metadata": {},
   "source": [
    "Now let's find out which congresspeople have press releases mentioning \"data\". Let's write a function that checks whether a page of press releases mentions any given term. We'll use the `<p>` tag to find keywords:"
   ]
  },
  {
   "cell_type": "code",
   "execution_count": 41,
   "id": "8385ae59",
   "metadata": {},
   "outputs": [],
   "source": [
    "def paragraph_mentions(text: str, keyword: str) -> bool:\n",
    "    \"\"\"\n",
    "    Returns True if a <p> inside the text mentions {keyword}\n",
    "    \"\"\"\n",
    "    soup = BeautifulSoup(text, 'html5lib')\n",
    "    paragraphs = [p.get_text() for p in soup('p')]\n",
    "    \n",
    "    return any(keyword.lower() in paragraph.lower()\n",
    "               for paragraph in paragraphs)"
   ]
  },
  {
   "cell_type": "markdown",
   "id": "ed62fb47",
   "metadata": {},
   "source": [
    "Write a quick test:"
   ]
  },
  {
   "cell_type": "code",
   "execution_count": 43,
   "id": "95bbf412",
   "metadata": {},
   "outputs": [],
   "source": [
    "text = \"\"\"<body><h1>Facebook</h1><p>Twitter</p>\"\"\"\n",
    "assert paragraph_mentions(text, \"twitter\") # is inside a <p>\n",
    "assert not paragraph_mentions(text, \"facebook\") # is not inside a <p>"
   ]
  },
  {
   "cell_type": "markdown",
   "id": "719b6c5e",
   "metadata": {},
   "source": [
    "Find the relevant congresspeople and give their names:"
   ]
  },
  {
   "cell_type": "code",
   "execution_count": 44,
   "id": "ec813731",
   "metadata": {},
   "outputs": [
    {
     "name": "stdout",
     "output_type": "stream",
     "text": [
      "https://mullin.house.gov\n",
      "https://langevin.house.gov\n",
      "https://cicilline.house.gov/\n",
      "https://mikejohnson.house.gov\n",
      "https://khanna.house.gov\n",
      "https://guest.house.gov\n",
      "https://spanberger.house.gov\n",
      "https://anthonybrown.house.gov\n",
      "https://reed.house.gov/\n",
      "https://cawthorn.house.gov\n",
      "https://jhb.house.gov/\n",
      "https://simpson.house.gov\n",
      "https://marymiller.house.gov\n",
      "https://davids.house.gov/\n",
      "https://lesko.house.gov\n",
      "https://meijer.house.gov\n",
      "https://delbene.house.gov\n",
      "https://huizenga.house.gov/\n",
      "https://crist.house.gov\n",
      "https://gosar.house.gov/\n",
      "https://pressley.house.gov\n",
      "https://carbajal.house.gov\n"
     ]
    }
   ],
   "source": [
    "for house_url, pr_links in press_releases.items():\n",
    "    for pr_link in pr_links:\n",
    "        url = f\"{house_url}/{pr_link}\"\n",
    "        text = requests.get(url).text\n",
    "        \n",
    "        if paragraph_mentions(text, 'data'):\n",
    "            print(f\"{house_url}\")\n",
    "            break # done with this house_url"
   ]
  },
  {
   "cell_type": "markdown",
   "id": "06452a72",
   "metadata": {},
   "source": [
    "Notice that the press release pages are paginated for the most part. This means that we only retrieved the few most recent press releases for each congressperson. A more thorough solution would have iterated over the pages an retrieved the full text of each press release.\n",
    "\n",
    "\n",
    "\n",
    "\n",
    "## Using APIs\n",
    "\n",
    "Some websites provide *application programming interfaces* (APIs) to explicitly request data in a structured format. No need to scrape!\n",
    "\n",
    "### JSON and XML\n",
    "\n",
    "HTTP is a protocol for transferring *text*. Thus, the data requested through a web API needs to be *serialized* into a string format. The serialization uses JavaScript Object Notation (JSON).\n",
    "\n",
    "We can parse JSON using Python's `json` module. We will use its `loads` function to deserialize a string representing a JSON object into a Python object:"
   ]
  },
  {
   "cell_type": "code",
   "execution_count": 46,
   "id": "1d10b906",
   "metadata": {},
   "outputs": [],
   "source": [
    "import json\n",
    "\n",
    "serialized = \"\"\"{\"title\" : \"Data Science Book\",\n",
    "                 \"author\" : \"Joel Grus\",\n",
    "                 \"publicationYear\" : 2019,\n",
    "                 \"topics\" : [\"data\", \"science\", \"data science\"]}\"\"\"\n",
    "\n",
    "# parse the JSON to create a Python dict\n",
    "deserialized = json.loads(serialized)\n",
    "assert deserialized[\"publicationYear\"] == 2019\n",
    "assert \"data science\" in deserialized[\"topics\"]"
   ]
  },
  {
   "cell_type": "markdown",
   "id": "daf0147b",
   "metadata": {},
   "source": [
    "Sometimes an API provider provides only responses in XML. We use Beautiful Soup to get data from XML similarly to how we used it to get data from HTML.\n",
    "\n",
    "\n",
    "### Using an Unauthenticated API\n",
    "\n",
    "Let's look at GitHub's API, with which we can do some simple things unauthenticated:"
   ]
  },
  {
   "cell_type": "code",
   "execution_count": 48,
   "id": "77c9bc02",
   "metadata": {},
   "outputs": [],
   "source": [
    "import requests, json\n",
    "\n",
    "github_user = \"joelgrus\"\n",
    "endpoint = f\"https://api.github.com/users/{github_user}/repos\"\n",
    "\n",
    "repos = json.loads(requests.get(endpoint).text)"
   ]
  },
  {
   "cell_type": "markdown",
   "id": "c6965063",
   "metadata": {},
   "source": [
    "Currently, `repos` is a `list` of Python `dicts`, each representing a public repository in a GitHub account. We can use this to fidn the months and days an account creates a repo."
   ]
  },
  {
   "cell_type": "code",
   "execution_count": 50,
   "id": "7eb277c2",
   "metadata": {},
   "outputs": [
    {
     "name": "stdout",
     "output_type": "stream",
     "text": [
      "Counter({2: 8, 4: 6, 5: 5, 1: 5, 6: 4, 3: 2})\n"
     ]
    }
   ],
   "source": [
    "from collections import Counter\n",
    "from dateutil.parser import parse\n",
    "\n",
    "dates = [parse(repo[\"created_at\"]) for repo in repos]\n",
    "month_counts = Counter(date.month for date in dates)\n",
    "weekday_counts = Counter(date.weekday() for date in dates)\n",
    "\n",
    "print(weekday_counts)"
   ]
  },
  {
   "cell_type": "markdown",
   "id": "504a743b",
   "metadata": {},
   "source": [
    "Similarly, we can get the languages of the last five repos:"
   ]
  },
  {
   "cell_type": "code",
   "execution_count": 51,
   "id": "ea5bfd30",
   "metadata": {},
   "outputs": [
    {
     "name": "stdout",
     "output_type": "stream",
     "text": [
      "['Python', 'JavaScript', 'Python', 'Python', 'Python']\n"
     ]
    }
   ],
   "source": [
    "last_5_repositories = sorted(repos,\n",
    "                             key=lambda r: r[\"pushed_at\"],\n",
    "                             reverse=True)[:5]\n",
    "last_5_languages = [repo[\"language\"]\n",
    "                    for repo in last_5_repositories]\n",
    "print(last_5_languages)"
   ]
  },
  {
   "cell_type": "markdown",
   "id": "d1e328a0",
   "metadata": {},
   "source": [
    "## Example: Using the Twitter APIs\n",
    "\n"
   ]
  }
 ],
 "metadata": {
  "kernelspec": {
   "display_name": "Python 3 (ipykernel)",
   "language": "python",
   "name": "python3"
  },
  "language_info": {
   "codemirror_mode": {
    "name": "ipython",
    "version": 3
   },
   "file_extension": ".py",
   "mimetype": "text/x-python",
   "name": "python",
   "nbconvert_exporter": "python",
   "pygments_lexer": "ipython3",
   "version": "3.9.9"
  }
 },
 "nbformat": 4,
 "nbformat_minor": 5
}
