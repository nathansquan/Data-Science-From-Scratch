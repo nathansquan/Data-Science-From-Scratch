{
 "cells": [
  {
   "cell_type": "markdown",
   "id": "a8f6a6e3",
   "metadata": {},
   "source": [
    "# Data Science From Scratch Notes\n",
    "\n",
    "## Chapter 5: Statistics\n",
    "\n",
    "## Describing a Single Set of Data\n",
    "\n",
    "First let's create some data."
   ]
  },
  {
   "cell_type": "code",
   "execution_count": 2,
   "id": "0c2a3c6d",
   "metadata": {},
   "outputs": [],
   "source": [
    "num_friends = [100.0,49,41,40,25,21,21,19,19,\n",
    "               18,18,16,15,15,15,15,14,14,13,\n",
    "               13,13,13,12,12,11,10,10,10,10,\n",
    "               10,10,10,10,10,10,10,10,10,10,\n",
    "               10,9,9,9,9,9,9,9,9,9,9,9,9,9,9,\n",
    "               9,9,9,9,8,8,8,8,8,8,8,8,8,8,8,8,\n",
    "               8,7,7,7,7,7,7,7,7,7,7,7,7,7,7,7,\n",
    "               6,6,6,6,6,6,6,6,6,6,6,6,6,6,6,6,\n",
    "               6,6,6,6,6,6,5,5,5,5,5,5,5,5,5,5,\n",
    "               5,5,5,5,5,5,5,4,4,4,4,4,4,4,4,4,\n",
    "               4,4,4,4,4,4,4,4,4,4,4,3,3,3,3,3,\n",
    "               3,3,3,3,3,3,3,3,3,3,3,3,3,3,3,2,\n",
    "               2,2,2,2,2,2,2,2,2,2,2,2,2,2,2,2,\n",
    "               1,1,1,1,1,1,1,1,1,1,1,1,1,1,1,1,\n",
    "               1,1,1,1,1,1]\n",
    "\n",
    "daily_minutes = [1,68.77,51.25,52.08,38.36,44.54,\n",
    "                 57.13,51.4,41.42,31.22,34.76,54.01,\n",
    "                 38.79,47.59,49.1,27.66,41.03,36.73,\n",
    "                 48.65,28.12,46.62,35.57,32.98,35,\n",
    "                 26.07,23.77,39.73,40.57,31.65,31.21,\n",
    "                 36.32,20.45,21.93,26.02,27.34,23.49,\n",
    "                 46.94,30.5,33.8,24.23,21.4,27.94,32.24,\n",
    "                 40.57,25.07,19.42,22.39,18.42,46.96,\n",
    "                 23.72,26.41,26.97,36.76,40.32,35.02,\n",
    "                 29.47,30.2,31,38.11,38.18,36.31,21.03,\n",
    "                 30.86,36.07,28.66,29.08,37.28,15.28,\n",
    "                 24.17,22.31,30.17,25.53,19.85,35.37,\n",
    "                 44.6,17.23,13.47,26.33,35.02,32.09,\n",
    "                 24.81,19.33,28.77,24.26,31.98,25.73,\n",
    "                 24.86,16.28,34.51,15.23,39.72,40.8,\n",
    "                 26.06,35.76,34.76,16.13,44.04,18.03,\n",
    "                 19.65,32.62,35.59,39.43,14.18,35.24,\n",
    "                 40.13,41.82,35.45,36.07,43.67,24.61,\n",
    "                 20.9,21.9,18.79,27.61,27.21,26.61,29.77,\n",
    "                 20.59,27.53,13.82,33.2,25,33.1,36.65,18.63,\n",
    "                 14.87,22.2,36.81,25.53,24.62,26.25,18.21,\n",
    "                 28.08,19.42,29.79,32.8,35.99,28.32,27.79,35.88,\n",
    "                 29.06,36.28,14.1,36.63,37.49,26.9,18.58,38.48,\n",
    "                 24.48,18.95,33.55,14.24,29.04,32.51,25.63,22.22,\n",
    "                 19,32.73,15.16,13.9,27.2,32.01,29.27,33,13.74,\n",
    "                 20.42,27.32,18.23,35.35,28.48,9.08,24.62,20.12,\n",
    "                 35.26,19.92,31.02,16.49,12.16,30.7,31.22,34.65,\n",
    "                 13.13,27.51,33.2,31.57,14.1,33.42,17.44,10.12,\n",
    "                 24.42,9.82,23.39,30.93,15.03,21.67,31.09,33.29,\n",
    "                 22.61,26.89,23.48,8.38,27.81,32.35,23.84]\n",
    "\n",
    "daily_hours = [dm / 60 for dm in daily_minutes]"
   ]
  },
  {
   "cell_type": "markdown",
   "id": "53e95826",
   "metadata": {},
   "source": [
    "One way we could summarize data is to visualize it with a histogram:"
   ]
  },
  {
   "cell_type": "code",
   "execution_count": 3,
   "id": "2a814774",
   "metadata": {},
   "outputs": [
    {
     "data": {
      "image/png": "[encoded data removed]",
      "text/plain": [
       "<Figure size 432x288 with 1 Axes>"
      ]
     },
     "metadata": {
      "needs_background": "light"
     },
     "output_type": "display_data"
    }
   ],
   "source": [
    "from collections import Counter\n",
    "import matplotlib.pyplot as plt\n",
    "\n",
    "friend_counts = Counter(num_friends)\n",
    "xs = range(101) # largest value is 100\n",
    "ys = [friend_counts[x] for x in xs] # height is just # of friends\n",
    "plt.bar(xs, ys)\n",
    "plt.axis([0, 101, 0, 25])\n",
    "plt.title(\"Histogram of Friend Counts\")\n",
    "plt.xlabel(\"# of friends\")\n",
    "plt.ylabel(\"# of people\")\n",
    "plt.show()"
   ]
  },
  {
   "cell_type": "markdown",
   "id": "60f0f971",
   "metadata": {},
   "source": [
    "However, this is too difficult to communicate in conversation. Let's explore other ways to summarize data using statistics.\n",
    "\n",
    "\n",
    "### Central Tendencies\n",
    "\n",
    "Here, we create a function to calculate the mean:"
   ]
  },
  {
   "cell_type": "code",
   "execution_count": 5,
   "id": "051c956d",
   "metadata": {},
   "outputs": [
    {
     "data": {
      "text/plain": [
       "7.333333333333333"
      ]
     },
     "execution_count": 5,
     "metadata": {},
     "output_type": "execute_result"
    }
   ],
   "source": [
    "from typing import List\n",
    "\n",
    "def mean(xs: List[float]) -> float:\n",
    "    return sum(xs) / len(xs)\n",
    "\n",
    "mean(num_friends)"
   ]
  },
  {
   "cell_type": "markdown",
   "id": "692515e8",
   "metadata": {},
   "source": [
    "Next, we'll create functions to calculate the median. If the number of data points is odd, the median is the middle-most value. If the number of data points is even, the median is the average of the two middle-most values:"
   ]
  },
  {
   "cell_type": "code",
   "execution_count": 8,
   "id": "834dc9c1",
   "metadata": {},
   "outputs": [],
   "source": [
    "# The underscores indicate that these are \"private\" functions, as they're\n",
    "# intended to be called by our median function but not by other people\n",
    "# using our statistics library\n",
    "\n",
    "def _median_odd(xs: List[float]) -> float:\n",
    "    \"\"\"If len(xs) is odd, the median is the middle element\"\"\"\n",
    "    return sorted(xs)[len(xs) // 2] # extract the len(xs) // 2 element after sorting xs\n",
    "\n",
    "def _median_even(xs: List[float]) -> float:\n",
    "    \"\"\"If len(xs) is even, it's the average of the middle two elements\"\"\"\n",
    "    sorted_xs = sorted(xs)\n",
    "    hi_midpoint = len(xs) // 2 # e.g. length 4 => hi_midpoint 2\n",
    "    return (sorted_xs[hi_midpoint - 1] + sorted_xs[hi_midpoint]) / 2\n",
    "\n",
    "def median(v: List[float]) -> float:\n",
    "    \"\"\"Finds the 'middle-most' value of v\"\"\"\n",
    "    return _median_even(v) if len(v) % 2 == 0 else _median_odd(v)\n",
    "\n",
    "assert median([1, 10, 2, 9, 5]) == 5\n",
    "assert median([1, 9, 2, 10]) == (2 + 9) / 2"
   ]
  },
  {
   "cell_type": "markdown",
   "id": "5684fdcb",
   "metadata": {},
   "source": [
    "Now let's compute the median number of friends:"
   ]
  },
  {
   "cell_type": "code",
   "execution_count": 9,
   "id": "9d8c0675",
   "metadata": {},
   "outputs": [
    {
     "name": "stdout",
     "output_type": "stream",
     "text": [
      "6.0\n"
     ]
    }
   ],
   "source": [
    "print(median(num_friends))"
   ]
  },
  {
   "cell_type": "markdown",
   "id": "28307b3b",
   "metadata": {},
   "source": [
    "Now let's create a function to calculate the *quantile*:"
   ]
  },
  {
   "cell_type": "code",
   "execution_count": 10,
   "id": "ddcade61",
   "metadata": {},
   "outputs": [],
   "source": [
    "def quantile(xs: List[float], p: float) -> float:\n",
    "    \"\"\"Returns the pth-percentile value in x\"\"\"\n",
    "    p_index = int(p * len(xs))\n",
    "    return sorted(xs)[p_index] # extract the value p_index after sorting xs\n",
    "\n",
    "assert quantile(num_friends, 0.10) == 1\n",
    "assert quantile(num_friends, 0.25) == 3\n",
    "assert quantile(num_friends, 0.75) == 9\n",
    "assert quantile(num_friends, 0.90) == 13"
   ]
  },
  {
   "cell_type": "markdown",
   "id": "548c94a1",
   "metadata": {},
   "source": [
    "Function for *mode*:"
   ]
  },
  {
   "cell_type": "code",
   "execution_count": 12,
   "id": "f91b09e5",
   "metadata": {},
   "outputs": [],
   "source": [
    "def mode(x: List[float]) -> List[float]:\n",
    "    \"\"\"Returns a list, since there might be more than one mode\"\"\"\n",
    "    counts = Counter(x)\n",
    "    max_count = max(counts.values())\n",
    "    return [x_i for x_i, count in counts.items() if count == max_count]\n",
    "\n",
    "assert set(mode(num_friends)) == {1, 6}"
   ]
  },
  {
   "cell_type": "markdown",
   "id": "42ef9ede",
   "metadata": {},
   "source": [
    "## Dispersion\n",
    "\n",
    "Spread of the data. Let's create a range function:"
   ]
  },
  {
   "cell_type": "code",
   "execution_count": 14,
   "id": "92cf83a2",
   "metadata": {},
   "outputs": [],
   "source": [
    "# \"range\" already means something in Python, so we'll use a different name\n",
    "def data_range(xs: List[float]) -> float:\n",
    "    return max(xs) - min(xs)\n",
    "\n",
    "assert data_range(num_friends) == 99"
   ]
  },
  {
   "cell_type": "markdown",
   "id": "bba4a14e",
   "metadata": {},
   "source": [
    "Creating a function for *variance*:"
   ]
  },
  {
   "cell_type": "code",
   "execution_count": 17,
   "id": "0c941d37",
   "metadata": {},
   "outputs": [],
   "source": [
    "from scratch.linear_algebra import sum_of_squares\n",
    "\n",
    "def de_mean(xs: List[float]) -> List[float]:\n",
    "    \"\"\"Translate xs by subtracting its mean (so the result has mean 0)\"\"\"\n",
    "    x_bar = mean(xs)\n",
    "    return [x - x_bar for x in xs]\n",
    "\n",
    "def variance(xs: List[float]) -> float:\n",
    "    \"\"\"Almost the average squared deviation from the mean\"\"\"\n",
    "    assert len(xs) >= 2, \"variance requires at least two elements\"\n",
    "    \n",
    "    n = len(xs)\n",
    "    deviations = de_mean(xs)\n",
    "    return sum_of_squares(deviations) / (n - 1)\n",
    "\n",
    "assert 81.54 < variance(num_friends) < 81.55"
   ]
  },
  {
   "cell_type": "markdown",
   "id": "1547917d",
   "metadata": {},
   "source": [
    "Creating a function for standard deviation (square root of variance):"
   ]
  },
  {
   "cell_type": "code",
   "execution_count": 20,
   "id": "33fb9494",
   "metadata": {},
   "outputs": [],
   "source": [
    "import math\n",
    "\n",
    "def standard_deviation(xs: List[float]) -> float:\n",
    "    \"\"\"The standard deviation is the square root of the variance\"\"\"\n",
    "    return math.sqrt(variance(xs))\n",
    "\n",
    "assert 9.02 < standard_deviation(num_friends) < 9.04"
   ]
  },
  {
   "cell_type": "markdown",
   "id": "9c82976e",
   "metadata": {},
   "source": [
    "Both the range and standard deviation have the problem of large outliers inflating the measures.\n",
    "\n",
    "A more robust alternative computes the difference between the 75th percentile value and the 25th percentile value:"
   ]
  },
  {
   "cell_type": "code",
   "execution_count": 23,
   "id": "5437f752",
   "metadata": {},
   "outputs": [],
   "source": [
    "def interquartile_range(xs: List[float]) -> float:\n",
    "    \"\"\"Returns the difference between the 75%-ile and the 25%-ile\"\"\"\n",
    "    return quantile(xs, 0.75) - quantile(xs, 0.25)\n",
    "\n",
    "assert interquartile_range(num_friends) == 6"
   ]
  },
  {
   "cell_type": "markdown",
   "id": "df94d993",
   "metadata": {},
   "source": [
    "## Correlation\n",
    "\n",
    "First let's look at *covariance*, the paired analogue of variance. Variance measures how a single variable deviates from its mean; covariance measures how two variables vary in tandem from their means:"
   ]
  },
  {
   "cell_type": "code",
   "execution_count": 25,
   "id": "7201ca67",
   "metadata": {},
   "outputs": [],
   "source": [
    "from scratch.linear_algebra import dot\n",
    "\n",
    "def covariance(xs: List[float], ys: List[float]) -> float:\n",
    "    assert len(xs) == len(ys), \"xs and ys must have the same number of elements\"\n",
    "    \n",
    "    return dot(de_mean(xs), de_mean(ys)) / (len(xs) - 1)\n",
    "\n",
    "assert 22.42 < covariance(num_friends, daily_minutes) < 22.43\n",
    "assert 22.42 / 60 < covariance(num_friends, daily_hours) < 22.43 / 60"
   ]
  },
  {
   "cell_type": "markdown",
   "id": "b2746ba1",
   "metadata": {},
   "source": [
    "`dot` sums the products of the corresponding pairs of elements. When corresponding elements of `x` and `y` are either both above their means or both below their means, a positive number enters the sum. When one is above its mean and the other below, a negative number enters the sum. Accordingly, a \"large\" positive covariance means that `x` tends to be large when `y` is large and small when `y` is small. A \"large\" negative covariance means the opposite - that`x` tends to be small when `y` is large and vice versa. A covariance close to zero means that no such relationship exists.\n",
    "\n",
    "Covariance can be hard to interpret:\n",
    "  * Its units are the product of the inputs' units. What's a \"friend-minute-per-day\"?\n",
    "  * It's hard to say what counts as a \"large\" covariance\n",
    "  \n",
    "Thus, it is more common to look at the *correlation*, which divides out the standard deviation of both variables:"
   ]
  },
  {
   "cell_type": "code",
   "execution_count": 26,
   "id": "0acaa32f",
   "metadata": {},
   "outputs": [],
   "source": [
    "def correlation(xs: List[float], ys: List[float]) -> float:\n",
    "    \"\"\"Measures how much xs and ys vary in tandem about their means\"\"\"\n",
    "    stdev_x = standard_deviation(xs)\n",
    "    stdev_y = standard_deviation(ys)\n",
    "    if stdev_x > 0 and stdev_y > 0:\n",
    "        return covariance(xs, ys) / stdev_x / stdev_y\n",
    "    else:\n",
    "        return 0 # if no variation, correlation is zero\n",
    "    \n",
    "assert 0.24 < correlation(num_friends, daily_minutes) < 0.25\n",
    "assert 0.24 < correlation(num_friends, daily_hours) < 0.25"
   ]
  },
  {
   "cell_type": "markdown",
   "id": "18f763a7",
   "metadata": {},
   "source": [
    "The `correlation` is unitless and lies between -1 and 1. Correlation can be very sensitive to outliers. What happens when we ignore the person with 100 friends?"
   ]
  },
  {
   "cell_type": "code",
   "execution_count": 27,
   "id": "d8830eee",
   "metadata": {},
   "outputs": [],
   "source": [
    "outlier = num_friends.index(100) # index of outlier\n",
    "\n",
    "num_friends_good = [x\n",
    "                    for i, x in enumerate(num_friends)\n",
    "                    if i != outlier]\n",
    "\n",
    "daily_minutes_good = [x\n",
    "                      for i, x in enumerate(daily_minutes)\n",
    "                      if i != outlier]\n",
    "\n",
    "daily_hours_good = [dm / 60 for dm in daily_minutes_good]\n",
    "\n",
    "assert 0.57 < correlation(num_friends_good, daily_minutes_good) < 0.58\n",
    "assert 0.57 < correlation(num_friends_good, daily_hours_good) < 0.58"
   ]
  },
  {
   "cell_type": "markdown",
   "id": "2828a207",
   "metadata": {},
   "source": [
    "Without the outlier, there is a much stronger correlation."
   ]
  },
  {
   "cell_type": "markdown",
   "id": "2c2986b4",
   "metadata": {},
   "source": [
    "## Simpson's Paradox\n",
    "\n",
    "**Simpson's Paradox:** Correlations are misleading when *confounding* variables are ignored.\n",
    "\n",
    "## Other Correlational Caveats\n",
    "\n",
    "Remember that `correlation` function written is a measure of linear relationship between two variables. But there are other types of relationships too."
   ]
  }
 ],
 "metadata": {
  "kernelspec": {
   "display_name": "Python 3 (ipykernel)",
   "language": "python",
   "name": "python3"
  },
  "language_info": {
   "codemirror_mode": {
    "name": "ipython",
    "version": 3
   },
   "file_extension": ".py",
   "mimetype": "text/x-python",
   "name": "python",
   "nbconvert_exporter": "python",
   "pygments_lexer": "ipython3",
   "version": "3.9.8"
  }
 },
 "nbformat": 4,
 "nbformat_minor": 5
}
